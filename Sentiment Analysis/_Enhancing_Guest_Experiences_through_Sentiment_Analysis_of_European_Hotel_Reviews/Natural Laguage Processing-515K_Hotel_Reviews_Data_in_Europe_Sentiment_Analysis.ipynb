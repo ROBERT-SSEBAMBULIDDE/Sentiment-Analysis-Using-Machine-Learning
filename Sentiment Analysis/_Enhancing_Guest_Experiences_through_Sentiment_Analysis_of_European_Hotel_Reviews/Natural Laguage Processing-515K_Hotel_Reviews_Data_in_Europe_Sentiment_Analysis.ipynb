{
  "cells": [
    {
      "cell_type": "markdown",
      "source": "# Enhancing Guest Experiences through Sentiment Analysis of European Hotel Reviews",
      "metadata": {
        "formattedRanges": [],
        "cell_id": "e0d66cad067343a1bc1422db8352c917",
        "deepnote_cell_type": "text-cell-h1"
      },
      "block_group": "e466bb2169824aa6b7a96301a2510f25"
    },
    {
      "cell_type": "markdown",
      "source": "# Data Acquisition and Preparation",
      "metadata": {
        "formattedRanges": [],
        "cell_id": "899ed88e02fc40b7934f4fcd77355896",
        "deepnote_cell_type": "text-cell-h1"
      },
      "block_group": "7b6ff51509964417b5893f713e4462a1"
    },
    {
      "cell_type": "markdown",
      "source": " Hotel reviews dataset stored on Google Drive is accessed by intergreting google drive file storage in the enviroment.\r\nThe dataset storage directory is accessed in the enviroment by mounting the drive.\r\nFormating of the dataset involved separting dataset into 2(positive and negative review dataset)and later merged into 1 single dataset vertically\r\nThe new modified dataset is saved to google drive storage",
      "metadata": {
        "formattedRanges": [],
        "cell_id": "4b8108abcafd4a7baedd6ac26f854061",
        "deepnote_cell_type": "text-cell-p"
      },
      "block_group": "eb242bc7e98d4022975773ec8aeed1c6"
    },
    {
      "cell_type": "markdown",
      "source": "## Mounting Google Drive",
      "metadata": {
        "formattedRanges": [],
        "cell_id": "2089b51e9e354df58b6f7858177aa03e",
        "deepnote_cell_type": "text-cell-h2"
      },
      "block_group": "8822c508cb4148b5ba1092e3831b1554"
    },
    {
      "cell_type": "code",
      "source": "!ls /datasets/gdrive",
      "metadata": {
        "source_hash": null,
        "execution_start": 1708278090595,
        "execution_millis": 294,
        "deepnote_to_be_reexecuted": false,
        "cell_id": "dbb6c7bd4f3f4043a5e30fbc7b98d292",
        "deepnote_cell_type": "code"
      },
      "outputs": [
        {
          "name": "stdout",
          "text": "'Academic Documents'\t 'Machine learning '   'Pyspark_Spark Certification'\n'Artticial Inteligence'  'Personal work'       'Python Programming'\n'Colab Notebooks'\t 'Pride Microfinance'\n Data\t\t\t  PROJECTS\n",
          "output_type": "stream"
        }
      ],
      "outputs_reference": null,
      "execution_count": null,
      "block_group": "f9b11d470e59449d901f54cb2fb88b86"
    },
    {
      "cell_type": "markdown",
      "source": "### Loading Review dataset",
      "metadata": {
        "formattedRanges": [],
        "cell_id": "4b92f71c2f614b5e9542a28897ec4c45",
        "deepnote_cell_type": "text-cell-h3"
      },
      "block_group": "02aa96d38ab24618b002f3f34f81aacd"
    },
    {
      "cell_type": "code",
      "source": "#Reading dataset\nimport pandas as pd\nimport numpy as np\n\ndf = pd.read_csv('/datasets/gdrive/PROJECTS/Natural Laguage Processing/Sentiment Analysis/Hotel_Reviews.csv')\ndf.head()",
      "metadata": {
        "source_hash": null,
        "execution_start": 1708278090898,
        "execution_millis": 6302,
        "deepnote_to_be_reexecuted": false,
        "cell_id": "66738ec379c441fcad9df4333d384424",
        "deepnote_cell_type": "code"
      },
      "outputs": [
        {
          "output_type": "execute_result",
          "execution_count": 2,
          "data": {
            "application/vnd.deepnote.dataframe.v3+json": {
              "column_count": 17,
              "row_count": 5,
              "columns": [
                {
                  "name": "Hotel_Address",
                  "dtype": "object",
                  "stats": {
                    "unique_count": 1,
                    "nan_count": 0,
                    "categories": [
                      {
                        "name": " s Gravesandestraat 55 Oost 1092 AA Amsterdam Netherlands",
                        "count": 5
                      }
                    ]
                  }
                },
                {
                  "name": "Additional_Number_of_Scoring",
                  "dtype": "int64",
                  "stats": {
                    "unique_count": 1,
                    "nan_count": 0,
                    "min": "194",
                    "max": "194",
                    "histogram": [
                      {
                        "bin_start": 193.5,
                        "bin_end": 193.6,
                        "count": 0
                      },
                      {
                        "bin_start": 193.6,
                        "bin_end": 193.7,
                        "count": 0
                      },
                      {
                        "bin_start": 193.7,
                        "bin_end": 193.8,
                        "count": 0
                      },
                      {
                        "bin_start": 193.8,
                        "bin_end": 193.9,
                        "count": 0
                      },
                      {
                        "bin_start": 193.9,
                        "bin_end": 194,
                        "count": 0
                      },
                      {
                        "bin_start": 194,
                        "bin_end": 194.1,
                        "count": 5
                      },
                      {
                        "bin_start": 194.1,
                        "bin_end": 194.2,
                        "count": 0
                      },
                      {
                        "bin_start": 194.2,
                        "bin_end": 194.3,
                        "count": 0
                      },
                      {
                        "bin_start": 194.3,
                        "bin_end": 194.4,
                        "count": 0
                      },
                      {
                        "bin_start": 194.4,
                        "bin_end": 194.5,
                        "count": 0
                      }
                    ]
                  }
                },
                {
                  "name": "Review_Date",
                  "dtype": "object",
                  "stats": {
                    "unique_count": 3,
                    "nan_count": 0,
                    "categories": [
                      {
                        "name": "8/3/2017",
                        "count": 2
                      },
                      {
                        "name": "7/31/2017",
                        "count": 2
                      },
                      {
                        "name": "7/24/2017",
                        "count": 1
                      }
                    ]
                  }
                },
                {
                  "name": "Average_Score",
                  "dtype": "float64",
                  "stats": {
                    "unique_count": 1,
                    "nan_count": 0,
                    "min": "7.7",
                    "max": "7.7",
                    "histogram": [
                      {
                        "bin_start": 7.2,
                        "bin_end": 7.3,
                        "count": 0
                      },
                      {
                        "bin_start": 7.3,
                        "bin_end": 7.4,
                        "count": 0
                      },
                      {
                        "bin_start": 7.4,
                        "bin_end": 7.5,
                        "count": 0
                      },
                      {
                        "bin_start": 7.5,
                        "bin_end": 7.6,
                        "count": 0
                      },
                      {
                        "bin_start": 7.6,
                        "bin_end": 7.699999999999999,
                        "count": 0
                      },
                      {
                        "bin_start": 7.699999999999999,
                        "bin_end": 7.8,
                        "count": 5
                      },
                      {
                        "bin_start": 7.8,
                        "bin_end": 7.8999999999999995,
                        "count": 0
                      },
                      {
                        "bin_start": 7.8999999999999995,
                        "bin_end": 7.999999999999999,
                        "count": 0
                      },
                      {
                        "bin_start": 7.999999999999999,
                        "bin_end": 8.1,
                        "count": 0
                      },
                      {
                        "bin_start": 8.1,
                        "bin_end": 8.2,
                        "count": 0
                      }
                    ]
                  }
                },
                {
                  "name": "Hotel_Name",
                  "dtype": "object",
                  "stats": {
                    "unique_count": 1,
                    "nan_count": 0,
                    "categories": [
                      {
                        "name": "Hotel Arena",
                        "count": 5
                      }
                    ]
                  }
                },
                {
                  "name": "Reviewer_Nationality",
                  "dtype": "object",
                  "stats": {
                    "unique_count": 5,
                    "nan_count": 0,
                    "categories": [
                      {
                        "name": " Russia ",
                        "count": 1
                      },
                      {
                        "name": " Ireland ",
                        "count": 1
                      },
                      {
                        "name": "3 others",
                        "count": 3
                      }
                    ]
                  }
                },
                {
                  "name": "Negative_Review",
                  "dtype": "object",
                  "stats": {
                    "unique_count": 5,
                    "nan_count": 0,
                    "categories": [
                      {
                        "name": " I am so angry that i made this post available via all possible sites i use when planing my trips so no one will make the mistake of booking this place I made my booking via booking com We stayed for 6 nights in this hotel from 11 to 17 July Upon arrival we were placed in a small room on the 2nd floor of the hotel It turned out that this was not the room we booked I had specially reserved the 2 level duplex room so that we would have a big windows and high ceilings The room itself was ok if you don t mind the broken window that can not be closed hello rain and a mini fridge that contained some sort of a bio weapon at least i guessed so by the smell of it I intimately asked to change the room and after explaining 2 times that i booked a duplex btw it costs the same as a simple double but got way more volume due to the high ceiling was offered a room but only the next day SO i had to check out the next day before 11 o clock in order to get the room i waned to Not the best way to begin your holiday So we had to wait till 13 00 in order to check in my new room what a wonderful waist of my time The room 023 i got was just as i wanted to peaceful internal garden view big window We were tired from waiting the room so we placed our belongings and rushed to the city In the evening it turned out that there was a constant noise in the room i guess it was made by vibrating vent tubes or something it was constant and annoying as hell AND it did not stop even at 2 am making it hard to fall asleep for me and my wife I have an audio recording that i can not attach here but if you want i can send it via e mail The next day the technician came but was not able to determine the cause of the disturbing sound so i was offered to change the room once again the hotel was fully booked and they had only 1 room left the one that was smaller but seems newer ",
                        "count": 1
                      },
                      {
                        "name": "No Negative",
                        "count": 1
                      },
                      {
                        "name": "3 others",
                        "count": 3
                      }
                    ]
                  }
                },
                {
                  "name": "Review_Total_Negative_Word_Counts",
                  "dtype": "int64",
                  "stats": {
                    "unique_count": 5,
                    "nan_count": 0,
                    "min": "0",
                    "max": "397",
                    "histogram": [
                      {
                        "bin_start": 0,
                        "bin_end": 39.7,
                        "count": 1
                      },
                      {
                        "bin_start": 39.7,
                        "bin_end": 79.4,
                        "count": 1
                      },
                      {
                        "bin_start": 79.4,
                        "bin_end": 119.10000000000001,
                        "count": 0
                      },
                      {
                        "bin_start": 119.10000000000001,
                        "bin_end": 158.8,
                        "count": 1
                      },
                      {
                        "bin_start": 158.8,
                        "bin_end": 198.5,
                        "count": 0
                      },
                      {
                        "bin_start": 198.5,
                        "bin_end": 238.20000000000002,
                        "count": 1
                      },
                      {
                        "bin_start": 238.20000000000002,
                        "bin_end": 277.90000000000003,
                        "count": 0
                      },
                      {
                        "bin_start": 277.90000000000003,
                        "bin_end": 317.6,
                        "count": 0
                      },
                      {
                        "bin_start": 317.6,
                        "bin_end": 357.3,
                        "count": 0
                      },
                      {
                        "bin_start": 357.3,
                        "bin_end": 397,
                        "count": 1
                      }
                    ]
                  }
                },
                {
                  "name": "Total_Number_of_Reviews",
                  "dtype": "int64",
                  "stats": {
                    "unique_count": 1,
                    "nan_count": 0,
                    "min": "1403",
                    "max": "1403",
                    "histogram": [
                      {
                        "bin_start": 1402.5,
                        "bin_end": 1402.6,
                        "count": 0
                      },
                      {
                        "bin_start": 1402.6,
                        "bin_end": 1402.7,
                        "count": 0
                      },
                      {
                        "bin_start": 1402.7,
                        "bin_end": 1402.8,
                        "count": 0
                      },
                      {
                        "bin_start": 1402.8,
                        "bin_end": 1402.9,
                        "count": 0
                      },
                      {
                        "bin_start": 1402.9,
                        "bin_end": 1403,
                        "count": 0
                      },
                      {
                        "bin_start": 1403,
                        "bin_end": 1403.1,
                        "count": 5
                      },
                      {
                        "bin_start": 1403.1,
                        "bin_end": 1403.2,
                        "count": 0
                      },
                      {
                        "bin_start": 1403.2,
                        "bin_end": 1403.3,
                        "count": 0
                      },
                      {
                        "bin_start": 1403.3,
                        "bin_end": 1403.4,
                        "count": 0
                      },
                      {
                        "bin_start": 1403.4,
                        "bin_end": 1403.5,
                        "count": 0
                      }
                    ]
                  }
                },
                {
                  "name": "Positive_Review",
                  "dtype": "object",
                  "stats": {
                    "unique_count": 5,
                    "nan_count": 0,
                    "categories": [
                      {
                        "name": " Only the park outside of the hotel was beautiful ",
                        "count": 1
                      },
                      {
                        "name": " No real complaints the hotel was great great location surroundings rooms amenities and service Two recommendations however firstly the staff upon check in are very confusing regarding deposit payments and the staff offer you upon checkout to refund your original payment and you can make a new one Bit confusing Secondly the on site restaurant is a bit lacking very well thought out and excellent quality food for anyone of a vegetarian or vegan background but even a wrap or toasted sandwich option would be great Aside from those minor minor things fantastic spot and will be back when i return to Amsterdam ",
                        "count": 1
                      },
                      {
                        "name": "3 others",
                        "count": 3
                      }
                    ]
                  }
                },
                {
                  "name": "Review_Total_Positive_Word_Counts",
                  "dtype": "int64",
                  "stats": {
                    "unique_count": 5,
                    "nan_count": 0,
                    "min": "8",
                    "max": "105",
                    "histogram": [
                      {
                        "bin_start": 8,
                        "bin_end": 17.7,
                        "count": 2
                      },
                      {
                        "bin_start": 17.7,
                        "bin_end": 27.4,
                        "count": 2
                      },
                      {
                        "bin_start": 27.4,
                        "bin_end": 37.099999999999994,
                        "count": 0
                      },
                      {
                        "bin_start": 37.099999999999994,
                        "bin_end": 46.8,
                        "count": 0
                      },
                      {
                        "bin_start": 46.8,
                        "bin_end": 56.5,
                        "count": 0
                      },
                      {
                        "bin_start": 56.5,
                        "bin_end": 66.19999999999999,
                        "count": 0
                      },
                      {
                        "bin_start": 66.19999999999999,
                        "bin_end": 75.89999999999999,
                        "count": 0
                      },
                      {
                        "bin_start": 75.89999999999999,
                        "bin_end": 85.6,
                        "count": 0
                      },
                      {
                        "bin_start": 85.6,
                        "bin_end": 95.3,
                        "count": 0
                      },
                      {
                        "bin_start": 95.3,
                        "bin_end": 105,
                        "count": 1
                      }
                    ]
                  }
                },
                {
                  "name": "Total_Number_of_Reviews_Reviewer_Has_Given",
                  "dtype": "int64",
                  "stats": {
                    "unique_count": 4,
                    "nan_count": 0,
                    "min": "1",
                    "max": "9",
                    "histogram": [
                      {
                        "bin_start": 1,
                        "bin_end": 1.8,
                        "count": 1
                      },
                      {
                        "bin_start": 1.8,
                        "bin_end": 2.6,
                        "count": 0
                      },
                      {
                        "bin_start": 2.6,
                        "bin_end": 3.4000000000000004,
                        "count": 1
                      },
                      {
                        "bin_start": 3.4000000000000004,
                        "bin_end": 4.2,
                        "count": 0
                      },
                      {
                        "bin_start": 4.2,
                        "bin_end": 5,
                        "count": 0
                      },
                      {
                        "bin_start": 5,
                        "bin_end": 5.800000000000001,
                        "count": 0
                      },
                      {
                        "bin_start": 5.800000000000001,
                        "bin_end": 6.6000000000000005,
                        "count": 0
                      },
                      {
                        "bin_start": 6.6000000000000005,
                        "bin_end": 7.4,
                        "count": 2
                      },
                      {
                        "bin_start": 7.4,
                        "bin_end": 8.2,
                        "count": 0
                      },
                      {
                        "bin_start": 8.2,
                        "bin_end": 9,
                        "count": 1
                      }
                    ]
                  }
                },
                {
                  "name": "Reviewer_Score",
                  "dtype": "float64",
                  "stats": {
                    "unique_count": 5,
                    "nan_count": 0,
                    "min": "2.9",
                    "max": "7.5",
                    "histogram": [
                      {
                        "bin_start": 2.9,
                        "bin_end": 3.36,
                        "count": 1
                      },
                      {
                        "bin_start": 3.36,
                        "bin_end": 3.82,
                        "count": 1
                      },
                      {
                        "bin_start": 3.82,
                        "bin_end": 4.279999999999999,
                        "count": 0
                      },
                      {
                        "bin_start": 4.279999999999999,
                        "bin_end": 4.74,
                        "count": 0
                      },
                      {
                        "bin_start": 4.74,
                        "bin_end": 5.199999999999999,
                        "count": 0
                      },
                      {
                        "bin_start": 5.199999999999999,
                        "bin_end": 5.66,
                        "count": 0
                      },
                      {
                        "bin_start": 5.66,
                        "bin_end": 6.119999999999999,
                        "count": 0
                      },
                      {
                        "bin_start": 6.119999999999999,
                        "bin_end": 6.58,
                        "count": 0
                      },
                      {
                        "bin_start": 6.58,
                        "bin_end": 7.039999999999999,
                        "count": 1
                      },
                      {
                        "bin_start": 7.039999999999999,
                        "bin_end": 7.5,
                        "count": 2
                      }
                    ]
                  }
                },
                {
                  "name": "Tags",
                  "dtype": "object",
                  "stats": {
                    "unique_count": 5,
                    "nan_count": 0,
                    "categories": [
                      {
                        "name": "[' Leisure trip ', ' Couple ', ' Duplex Double Room ', ' Stayed 6 nights ']",
                        "count": 1
                      },
                      {
                        "name": "[' Leisure trip ', ' Couple ', ' Duplex Double Room ', ' Stayed 4 nights ']",
                        "count": 1
                      },
                      {
                        "name": "3 others",
                        "count": 3
                      }
                    ]
                  }
                },
                {
                  "name": "days_since_review",
                  "dtype": "object",
                  "stats": {
                    "unique_count": 3,
                    "nan_count": 0,
                    "categories": [
                      {
                        "name": "0 days",
                        "count": 2
                      },
                      {
                        "name": "3 days",
                        "count": 2
                      },
                      {
                        "name": "10 days",
                        "count": 1
                      }
                    ]
                  }
                },
                {
                  "name": "lat",
                  "dtype": "float64",
                  "stats": {
                    "unique_count": 1,
                    "nan_count": 0,
                    "min": "52.3605759",
                    "max": "52.3605759",
                    "histogram": [
                      {
                        "bin_start": 51.8605759,
                        "bin_end": 51.9605759,
                        "count": 0
                      },
                      {
                        "bin_start": 51.9605759,
                        "bin_end": 52.0605759,
                        "count": 0
                      },
                      {
                        "bin_start": 52.0605759,
                        "bin_end": 52.1605759,
                        "count": 0
                      },
                      {
                        "bin_start": 52.1605759,
                        "bin_end": 52.2605759,
                        "count": 0
                      },
                      {
                        "bin_start": 52.2605759,
                        "bin_end": 52.3605759,
                        "count": 0
                      },
                      {
                        "bin_start": 52.3605759,
                        "bin_end": 52.4605759,
                        "count": 5
                      },
                      {
                        "bin_start": 52.4605759,
                        "bin_end": 52.5605759,
                        "count": 0
                      },
                      {
                        "bin_start": 52.5605759,
                        "bin_end": 52.6605759,
                        "count": 0
                      },
                      {
                        "bin_start": 52.6605759,
                        "bin_end": 52.7605759,
                        "count": 0
                      },
                      {
                        "bin_start": 52.7605759,
                        "bin_end": 52.8605759,
                        "count": 0
                      }
                    ]
                  }
                },
                {
                  "name": "lng",
                  "dtype": "float64",
                  "stats": {
                    "unique_count": 1,
                    "nan_count": 0,
                    "min": "4.9159683",
                    "max": "4.9159683",
                    "histogram": [
                      {
                        "bin_start": 4.4159683,
                        "bin_end": 4.5159683,
                        "count": 0
                      },
                      {
                        "bin_start": 4.5159683,
                        "bin_end": 4.6159683000000005,
                        "count": 0
                      },
                      {
                        "bin_start": 4.6159683000000005,
                        "bin_end": 4.7159683,
                        "count": 0
                      },
                      {
                        "bin_start": 4.7159683,
                        "bin_end": 4.815968300000001,
                        "count": 0
                      },
                      {
                        "bin_start": 4.815968300000001,
                        "bin_end": 4.9159683,
                        "count": 0
                      },
                      {
                        "bin_start": 4.9159683,
                        "bin_end": 5.015968300000001,
                        "count": 5
                      },
                      {
                        "bin_start": 5.015968300000001,
                        "bin_end": 5.1159683000000005,
                        "count": 0
                      },
                      {
                        "bin_start": 5.1159683000000005,
                        "bin_end": 5.2159683,
                        "count": 0
                      },
                      {
                        "bin_start": 5.2159683,
                        "bin_end": 5.315968300000001,
                        "count": 0
                      },
                      {
                        "bin_start": 5.315968300000001,
                        "bin_end": 5.4159683,
                        "count": 0
                      }
                    ]
                  }
                },
                {
                  "name": "_deepnote_index_column",
                  "dtype": "int64"
                }
              ],
              "rows": [
                {
                  "Hotel_Address": " s Gravesandestraat 55 Oost 1092 AA Amsterdam Netherlands",
                  "Additional_Number_of_Scoring": 194,
                  "Review_Date": "8/3/2017",
                  "Average_Score": 7.7,
                  "Hotel_Name": "Hotel Arena",
                  "Reviewer_Nationality": " Russia ",
                  "Negative_Review": " I am so angry that i made this post available via all possible sites i use when planing my trips so no one will make the mistake of booking this place I made my booking via booking com We stayed for 6 nights in this hotel from 11 to 17 July Upon arrival we were placed in a small room on the 2nd floor of the hotel It turned out that this was not the room we booked I had specially reserved the 2 level duplex room so that we would have a big windows and high ceilings The room itself was ok if you don t mind the broken window that can not be closed hello rain and a mini fridge that contained some sort of a bio weapon at least i guessed so by the smell of it I intimately asked to change the room and after explaining 2 times that i booked a duplex btw it costs the same as a simple double but got way more volume due to the high ceiling was offered a room but only the next day SO i had to check out the next day before 11 o clock in order to get the room i waned to Not the best way to begin y…",
                  "Review_Total_Negative_Word_Counts": 397,
                  "Total_Number_of_Reviews": 1403,
                  "Positive_Review": " Only the park outside of the hotel was beautiful ",
                  "Review_Total_Positive_Word_Counts": 11,
                  "Total_Number_of_Reviews_Reviewer_Has_Given": 7,
                  "Reviewer_Score": 2.9,
                  "Tags": "[' Leisure trip ', ' Couple ', ' Duplex Double Room ', ' Stayed 6 nights ']",
                  "days_since_review": "0 days",
                  "lat": 52.3605759,
                  "lng": 4.9159683,
                  "_deepnote_index_column": 0
                },
                {
                  "Hotel_Address": " s Gravesandestraat 55 Oost 1092 AA Amsterdam Netherlands",
                  "Additional_Number_of_Scoring": 194,
                  "Review_Date": "8/3/2017",
                  "Average_Score": 7.7,
                  "Hotel_Name": "Hotel Arena",
                  "Reviewer_Nationality": " Ireland ",
                  "Negative_Review": "No Negative",
                  "Review_Total_Negative_Word_Counts": 0,
                  "Total_Number_of_Reviews": 1403,
                  "Positive_Review": " No real complaints the hotel was great great location surroundings rooms amenities and service Two recommendations however firstly the staff upon check in are very confusing regarding deposit payments and the staff offer you upon checkout to refund your original payment and you can make a new one Bit confusing Secondly the on site restaurant is a bit lacking very well thought out and excellent quality food for anyone of a vegetarian or vegan background but even a wrap or toasted sandwich option would be great Aside from those minor minor things fantastic spot and will be back when i return to Amsterdam ",
                  "Review_Total_Positive_Word_Counts": 105,
                  "Total_Number_of_Reviews_Reviewer_Has_Given": 7,
                  "Reviewer_Score": 7.5,
                  "Tags": "[' Leisure trip ', ' Couple ', ' Duplex Double Room ', ' Stayed 4 nights ']",
                  "days_since_review": "0 days",
                  "lat": 52.3605759,
                  "lng": 4.9159683,
                  "_deepnote_index_column": 1
                },
                {
                  "Hotel_Address": " s Gravesandestraat 55 Oost 1092 AA Amsterdam Netherlands",
                  "Additional_Number_of_Scoring": 194,
                  "Review_Date": "7/31/2017",
                  "Average_Score": 7.7,
                  "Hotel_Name": "Hotel Arena",
                  "Reviewer_Nationality": " Australia ",
                  "Negative_Review": " Rooms are nice but for elderly a bit difficult as most rooms are two story with narrow steps So ask for single level Inside the rooms are very very basic just tea coffee and boiler and no bar empty fridge ",
                  "Review_Total_Negative_Word_Counts": 42,
                  "Total_Number_of_Reviews": 1403,
                  "Positive_Review": " Location was good and staff were ok It is cute hotel the breakfast range is nice Will go back ",
                  "Review_Total_Positive_Word_Counts": 21,
                  "Total_Number_of_Reviews_Reviewer_Has_Given": 9,
                  "Reviewer_Score": 7.1,
                  "Tags": "[' Leisure trip ', ' Family with young children ', ' Duplex Double Room ', ' Stayed 3 nights ', ' Submitted from a mobile device ']",
                  "days_since_review": "3 days",
                  "lat": 52.3605759,
                  "lng": 4.9159683,
                  "_deepnote_index_column": 2
                },
                {
                  "Hotel_Address": " s Gravesandestraat 55 Oost 1092 AA Amsterdam Netherlands",
                  "Additional_Number_of_Scoring": 194,
                  "Review_Date": "7/31/2017",
                  "Average_Score": 7.7,
                  "Hotel_Name": "Hotel Arena",
                  "Reviewer_Nationality": " United Kingdom ",
                  "Negative_Review": " My room was dirty and I was afraid to walk barefoot on the floor which looked as if it was not cleaned in weeks White furniture which looked nice in pictures was dirty too and the door looked like it was attacked by an angry dog My shower drain was clogged and the staff did not respond to my request to clean it On a day with heavy rainfall a pretty common occurrence in Amsterdam the roof in my room was leaking luckily not on the bed you could also see signs of earlier water damage I also saw insects running on the floor Overall the second floor of the property looked dirty and badly kept On top of all of this a repairman who came to fix something in a room next door at midnight was very noisy as were many of the guests I understand the challenges of running a hotel in an old building but this negligence is inconsistent with prices demanded by the hotel On the last night after I complained about water damage the night shift manager offered to move me to a different room but that offer…",
                  "Review_Total_Negative_Word_Counts": 210,
                  "Total_Number_of_Reviews": 1403,
                  "Positive_Review": " Great location in nice surroundings the bar and restaurant are nice and have a lovely outdoor area The building also has quite some character ",
                  "Review_Total_Positive_Word_Counts": 26,
                  "Total_Number_of_Reviews_Reviewer_Has_Given": 1,
                  "Reviewer_Score": 3.8,
                  "Tags": "[' Leisure trip ', ' Solo traveler ', ' Duplex Double Room ', ' Stayed 3 nights ']",
                  "days_since_review": "3 days",
                  "lat": 52.3605759,
                  "lng": 4.9159683,
                  "_deepnote_index_column": 3
                },
                {
                  "Hotel_Address": " s Gravesandestraat 55 Oost 1092 AA Amsterdam Netherlands",
                  "Additional_Number_of_Scoring": 194,
                  "Review_Date": "7/24/2017",
                  "Average_Score": 7.7,
                  "Hotel_Name": "Hotel Arena",
                  "Reviewer_Nationality": " New Zealand ",
                  "Negative_Review": " You When I booked with your company on line you showed me pictures of a room I thought I was getting and paying for and then when we arrived that s room was booked and the staff told me we could only book the villa suite theough them directly Which was completely false advertising After being there we realised that you have grouped lots of rooms on the photos together leaving me the consumer confused and extreamly disgruntled especially as its my my wife s 40th birthday present Please make your website more clear through pricing and photos as again I didn t really know what I was paying for and how much it had wnded up being Your photos told me I was getting something I wasn t Not happy and won t be using you again ",
                  "Review_Total_Negative_Word_Counts": 140,
                  "Total_Number_of_Reviews": 1403,
                  "Positive_Review": " Amazing location and building Romantic setting ",
                  "Review_Total_Positive_Word_Counts": 8,
                  "Total_Number_of_Reviews_Reviewer_Has_Given": 3,
                  "Reviewer_Score": 6.7,
                  "Tags": "[' Leisure trip ', ' Couple ', ' Suite ', ' Stayed 2 nights ', ' Submitted from a mobile device ']",
                  "days_since_review": "10 days",
                  "lat": 52.3605759,
                  "lng": 4.9159683,
                  "_deepnote_index_column": 4
                }
              ]
            },
            "text/plain": "                                       Hotel_Address  \\\n0   s Gravesandestraat 55 Oost 1092 AA Amsterdam ...   \n1   s Gravesandestraat 55 Oost 1092 AA Amsterdam ...   \n2   s Gravesandestraat 55 Oost 1092 AA Amsterdam ...   \n3   s Gravesandestraat 55 Oost 1092 AA Amsterdam ...   \n4   s Gravesandestraat 55 Oost 1092 AA Amsterdam ...   \n\n   Additional_Number_of_Scoring Review_Date  Average_Score   Hotel_Name  \\\n0                           194    8/3/2017            7.7  Hotel Arena   \n1                           194    8/3/2017            7.7  Hotel Arena   \n2                           194   7/31/2017            7.7  Hotel Arena   \n3                           194   7/31/2017            7.7  Hotel Arena   \n4                           194   7/24/2017            7.7  Hotel Arena   \n\n  Reviewer_Nationality                                    Negative_Review  \\\n0              Russia    I am so angry that i made this post available...   \n1             Ireland                                         No Negative   \n2           Australia    Rooms are nice but for elderly a bit difficul...   \n3      United Kingdom    My room was dirty and I was afraid to walk ba...   \n4         New Zealand    You When I booked with your company on line y...   \n\n   Review_Total_Negative_Word_Counts  Total_Number_of_Reviews  \\\n0                                397                     1403   \n1                                  0                     1403   \n2                                 42                     1403   \n3                                210                     1403   \n4                                140                     1403   \n\n                                     Positive_Review  \\\n0   Only the park outside of the hotel was beauti...   \n1   No real complaints the hotel was great great ...   \n2   Location was good and staff were ok It is cut...   \n3   Great location in nice surroundings the bar a...   \n4    Amazing location and building Romantic setting    \n\n   Review_Total_Positive_Word_Counts  \\\n0                                 11   \n1                                105   \n2                                 21   \n3                                 26   \n4                                  8   \n\n   Total_Number_of_Reviews_Reviewer_Has_Given  Reviewer_Score  \\\n0                                           7             2.9   \n1                                           7             7.5   \n2                                           9             7.1   \n3                                           1             3.8   \n4                                           3             6.7   \n\n                                                Tags days_since_review  \\\n0  [' Leisure trip ', ' Couple ', ' Duplex Double...            0 days   \n1  [' Leisure trip ', ' Couple ', ' Duplex Double...            0 days   \n2  [' Leisure trip ', ' Family with young childre...            3 days   \n3  [' Leisure trip ', ' Solo traveler ', ' Duplex...            3 days   \n4  [' Leisure trip ', ' Couple ', ' Suite ', ' St...           10 days   \n\n         lat       lng  \n0  52.360576  4.915968  \n1  52.360576  4.915968  \n2  52.360576  4.915968  \n3  52.360576  4.915968  \n4  52.360576  4.915968  ",
            "text/html": "<div>\n<style scoped>\n    .dataframe tbody tr th:only-of-type {\n        vertical-align: middle;\n    }\n\n    .dataframe tbody tr th {\n        vertical-align: top;\n    }\n\n    .dataframe thead th {\n        text-align: right;\n    }\n</style>\n<table border=\"1\" class=\"dataframe\">\n  <thead>\n    <tr style=\"text-align: right;\">\n      <th></th>\n      <th>Hotel_Address</th>\n      <th>Additional_Number_of_Scoring</th>\n      <th>Review_Date</th>\n      <th>Average_Score</th>\n      <th>Hotel_Name</th>\n      <th>Reviewer_Nationality</th>\n      <th>Negative_Review</th>\n      <th>Review_Total_Negative_Word_Counts</th>\n      <th>Total_Number_of_Reviews</th>\n      <th>Positive_Review</th>\n      <th>Review_Total_Positive_Word_Counts</th>\n      <th>Total_Number_of_Reviews_Reviewer_Has_Given</th>\n      <th>Reviewer_Score</th>\n      <th>Tags</th>\n      <th>days_since_review</th>\n      <th>lat</th>\n      <th>lng</th>\n    </tr>\n  </thead>\n  <tbody>\n    <tr>\n      <th>0</th>\n      <td>s Gravesandestraat 55 Oost 1092 AA Amsterdam ...</td>\n      <td>194</td>\n      <td>8/3/2017</td>\n      <td>7.7</td>\n      <td>Hotel Arena</td>\n      <td>Russia</td>\n      <td>I am so angry that i made this post available...</td>\n      <td>397</td>\n      <td>1403</td>\n      <td>Only the park outside of the hotel was beauti...</td>\n      <td>11</td>\n      <td>7</td>\n      <td>2.9</td>\n      <td>[' Leisure trip ', ' Couple ', ' Duplex Double...</td>\n      <td>0 days</td>\n      <td>52.360576</td>\n      <td>4.915968</td>\n    </tr>\n    <tr>\n      <th>1</th>\n      <td>s Gravesandestraat 55 Oost 1092 AA Amsterdam ...</td>\n      <td>194</td>\n      <td>8/3/2017</td>\n      <td>7.7</td>\n      <td>Hotel Arena</td>\n      <td>Ireland</td>\n      <td>No Negative</td>\n      <td>0</td>\n      <td>1403</td>\n      <td>No real complaints the hotel was great great ...</td>\n      <td>105</td>\n      <td>7</td>\n      <td>7.5</td>\n      <td>[' Leisure trip ', ' Couple ', ' Duplex Double...</td>\n      <td>0 days</td>\n      <td>52.360576</td>\n      <td>4.915968</td>\n    </tr>\n    <tr>\n      <th>2</th>\n      <td>s Gravesandestraat 55 Oost 1092 AA Amsterdam ...</td>\n      <td>194</td>\n      <td>7/31/2017</td>\n      <td>7.7</td>\n      <td>Hotel Arena</td>\n      <td>Australia</td>\n      <td>Rooms are nice but for elderly a bit difficul...</td>\n      <td>42</td>\n      <td>1403</td>\n      <td>Location was good and staff were ok It is cut...</td>\n      <td>21</td>\n      <td>9</td>\n      <td>7.1</td>\n      <td>[' Leisure trip ', ' Family with young childre...</td>\n      <td>3 days</td>\n      <td>52.360576</td>\n      <td>4.915968</td>\n    </tr>\n    <tr>\n      <th>3</th>\n      <td>s Gravesandestraat 55 Oost 1092 AA Amsterdam ...</td>\n      <td>194</td>\n      <td>7/31/2017</td>\n      <td>7.7</td>\n      <td>Hotel Arena</td>\n      <td>United Kingdom</td>\n      <td>My room was dirty and I was afraid to walk ba...</td>\n      <td>210</td>\n      <td>1403</td>\n      <td>Great location in nice surroundings the bar a...</td>\n      <td>26</td>\n      <td>1</td>\n      <td>3.8</td>\n      <td>[' Leisure trip ', ' Solo traveler ', ' Duplex...</td>\n      <td>3 days</td>\n      <td>52.360576</td>\n      <td>4.915968</td>\n    </tr>\n    <tr>\n      <th>4</th>\n      <td>s Gravesandestraat 55 Oost 1092 AA Amsterdam ...</td>\n      <td>194</td>\n      <td>7/24/2017</td>\n      <td>7.7</td>\n      <td>Hotel Arena</td>\n      <td>New Zealand</td>\n      <td>You When I booked with your company on line y...</td>\n      <td>140</td>\n      <td>1403</td>\n      <td>Amazing location and building Romantic setting</td>\n      <td>8</td>\n      <td>3</td>\n      <td>6.7</td>\n      <td>[' Leisure trip ', ' Couple ', ' Suite ', ' St...</td>\n      <td>10 days</td>\n      <td>52.360576</td>\n      <td>4.915968</td>\n    </tr>\n  </tbody>\n</table>\n</div>"
          },
          "metadata": {}
        }
      ],
      "outputs_reference": null,
      "execution_count": null,
      "block_group": "f0f3533bcb4a4a0990606f36ef0ec4b8"
    },
    {
      "cell_type": "markdown",
      "source": "### Studying structure of dataset and separation",
      "metadata": {
        "formattedRanges": [],
        "cell_id": "88a6032917b74967a58b55460dfcf870",
        "deepnote_cell_type": "text-cell-h3"
      },
      "block_group": "7bc2fc7827a645108352e5940233d8c1"
    },
    {
      "cell_type": "code",
      "source": "#SHAPE\ndf.shape",
      "metadata": {
        "source_hash": null,
        "execution_start": 1708278097212,
        "execution_millis": 169,
        "deepnote_to_be_reexecuted": false,
        "cell_id": "d255ef573ff24ab192c271be8dcf2258",
        "deepnote_cell_type": "code"
      },
      "outputs": [
        {
          "output_type": "execute_result",
          "execution_count": 3,
          "data": {
            "text/plain": "(515738, 17)"
          },
          "metadata": {}
        }
      ],
      "outputs_reference": null,
      "execution_count": null,
      "block_group": "9b2f1000489a4565849d5ee8433007b0"
    },
    {
      "cell_type": "code",
      "source": "#columns\ndf.columns\n",
      "metadata": {
        "source_hash": null,
        "execution_start": 1708278097214,
        "execution_millis": 167,
        "deepnote_to_be_reexecuted": false,
        "cell_id": "690d2263e3c044e284871297516d5a78",
        "deepnote_cell_type": "code"
      },
      "outputs": [
        {
          "output_type": "execute_result",
          "execution_count": 4,
          "data": {
            "text/plain": "Index(['Hotel_Address', 'Additional_Number_of_Scoring', 'Review_Date',\n       'Average_Score', 'Hotel_Name', 'Reviewer_Nationality',\n       'Negative_Review', 'Review_Total_Negative_Word_Counts',\n       'Total_Number_of_Reviews', 'Positive_Review',\n       'Review_Total_Positive_Word_Counts',\n       'Total_Number_of_Reviews_Reviewer_Has_Given', 'Reviewer_Score', 'Tags',\n       'days_since_review', 'lat', 'lng'],\n      dtype='object')"
          },
          "metadata": {}
        }
      ],
      "outputs_reference": null,
      "execution_count": null,
      "block_group": "a9d4c34e3b9c492c8e8e917ce120ff33"
    },
    {
      "cell_type": "code",
      "source": "#Positive reviews by selecting specific columns\ndf_positive=df[['Hotel_Name','Positive_Review','Reviewer_Score','lat','lng',\n'Average_Score','Review_Total_Positive_Word_Counts','Total_Number_of_Reviews',\n'Total_Number_of_Reviews_Reviewer_Has_Given',\n'Additional_Number_of_Scoring','Tags','days_since_review','Hotel_Address','Review_Date',\n'Reviewer_Nationality']]\n#Negative reviews by selecting specific columns\ndf_negative=df[['Hotel_Name','Negative_Review','Reviewer_Score','lat','lng',\n'Average_Score','Review_Total_Negative_Word_Counts','Total_Number_of_Reviews',\n'Total_Number_of_Reviews_Reviewer_Has_Given',\n'Additional_Number_of_Scoring','Tags','days_since_review','Hotel_Address','Review_Date',\n'Reviewer_Nationality']]",
      "metadata": {
        "source_hash": null,
        "execution_start": 1708278097243,
        "execution_millis": 138,
        "deepnote_to_be_reexecuted": false,
        "cell_id": "504f91435f61412293ebc98b7bd2fa48",
        "deepnote_cell_type": "code"
      },
      "outputs": [],
      "outputs_reference": null,
      "execution_count": null,
      "block_group": "0f8e9d7056364a69b74b315398758464"
    },
    {
      "cell_type": "code",
      "source": "#printing the first 5 rows of positive reviews\n#Positive\n#Renaming the columns for positive reviews and  review total positive word counts\ndf_positive.rename(columns = {'Positive_Review':'Review','Review_Total_Positive_Word_Counts':'Review_Total_Word_Counts'}, inplace = True)\n#New column with  review labels as Positive\ndf_positive['Review_Label']='Positive'\ndf_positive.head()",
      "metadata": {
        "source_hash": null,
        "execution_start": 1708278097374,
        "execution_millis": 216,
        "deepnote_to_be_reexecuted": false,
        "cell_id": "7c9217d34c214a868325100e777624fe",
        "deepnote_cell_type": "code"
      },
      "outputs": [],
      "outputs_reference": null,
      "execution_count": null,
      "block_group": "95b8b89e2d9b4feabb40d06c5350196c"
    },
    {
      "cell_type": "code",
      "source": "#printing the first 5 rows of negative reviews\n#Negative\n#Renaming the columns for negative reviews and  review total negative word counts\ndf_negative.rename(columns = {'Negative_Review':'Review','Review_Total_Negative_Word_Counts':'Review_Total_Word_Counts'}, inplace = True)\n#New column with  review labels as Negative\ndf_negative['Review_Label']='Negative'\ndf_negative.head()",
      "metadata": {
        "source_hash": null,
        "execution_start": 1708278097397,
        "execution_millis": 560,
        "deepnote_to_be_reexecuted": false,
        "cell_id": "988353c754b04856acddc5493a7b3403",
        "deepnote_cell_type": "code"
      },
      "outputs": [],
      "outputs_reference": null,
      "execution_count": null,
      "block_group": "131bbe1f2e7f475c945e0a61920f671b"
    },
    {
      "cell_type": "code",
      "source": "#Columns for positive and negative reviews\ndf_positive.columns\ndf_negative.columns",
      "metadata": {
        "source_hash": null,
        "execution_start": 1708278097437,
        "execution_millis": 520,
        "deepnote_to_be_reexecuted": false,
        "cell_id": "ee4252593ea34c4b921dec5b01c95658",
        "deepnote_cell_type": "code"
      },
      "outputs": [
        {
          "output_type": "execute_result",
          "execution_count": 8,
          "data": {
            "text/plain": "Index(['Hotel_Name', 'Review', 'Reviewer_Score', 'lat', 'lng', 'Average_Score',\n       'Review_Total_Word_Counts', 'Total_Number_of_Reviews',\n       'Total_Number_of_Reviews_Reviewer_Has_Given',\n       'Additional_Number_of_Scoring', 'Tags', 'days_since_review',\n       'Hotel_Address', 'Review_Date', 'Reviewer_Nationality', 'Review_Label'],\n      dtype='object')"
          },
          "metadata": {}
        }
      ],
      "outputs_reference": null,
      "execution_count": null,
      "block_group": "aee301cbf8174819b57d6357b68023d1"
    },
    {
      "cell_type": "code",
      "source": "#check if  columns are same\ndf_positive.columns == df_negative.columns",
      "metadata": {
        "source_hash": null,
        "execution_start": 1708278097446,
        "execution_millis": 511,
        "deepnote_to_be_reexecuted": false,
        "cell_id": "cbcda77881fd4a04b94254e9ce558710",
        "deepnote_cell_type": "code"
      },
      "outputs": [
        {
          "output_type": "execute_result",
          "execution_count": 9,
          "data": {
            "text/plain": "array([ True,  True,  True,  True,  True,  True,  True,  True,  True,\n        True,  True,  True,  True,  True,  True,  True])"
          },
          "metadata": {}
        }
      ],
      "outputs_reference": null,
      "execution_count": null,
      "block_group": "4dd8f91417e146d1b97fb9149eec4394"
    },
    {
      "cell_type": "markdown",
      "source": "## Merging or Remerging dataset vertically for Positive & Negative Reviews",
      "metadata": {
        "is_collapsed": false,
        "formattedRanges": [],
        "deepnote_app_block_visible": false,
        "cell_id": "a4d3e58f09b54676be265e517a1a9710",
        "deepnote_cell_type": "text-cell-h2"
      },
      "block_group": "f037482a7d004509bb30dfb5b307411f"
    },
    {
      "cell_type": "code",
      "source": "#Merging positive and negative reviews\ndf_reviews=pd.concat([df_positive,df_negative])\ndf_reviews.head()",
      "metadata": {
        "source_hash": null,
        "execution_start": 1708278097456,
        "execution_millis": 501,
        "deepnote_table_state": {
          "sortBy": [],
          "filters": [],
          "pageSize": 10,
          "pageIndex": 0
        },
        "deepnote_table_loading": false,
        "deepnote_to_be_reexecuted": false,
        "cell_id": "3a0ba6bcd51f4cba9450bf6ef51a59b0",
        "deepnote_cell_type": "code"
      },
      "outputs": [
        {
          "output_type": "execute_result",
          "execution_count": 10,
          "data": {
            "application/vnd.deepnote.dataframe.v3+json": {
              "column_count": 16,
              "row_count": 5,
              "columns": [
                {
                  "name": "Hotel_Name",
                  "dtype": "object",
                  "stats": {
                    "unique_count": 1,
                    "nan_count": 0,
                    "categories": [
                      {
                        "name": "Hotel Arena",
                        "count": 5
                      }
                    ]
                  }
                },
                {
                  "name": "Review",
                  "dtype": "object",
                  "stats": {
                    "unique_count": 5,
                    "nan_count": 0,
                    "categories": [
                      {
                        "name": " Only the park outside of the hotel was beautiful ",
                        "count": 1
                      },
                      {
                        "name": " No real complaints the hotel was great great location surroundings rooms amenities and service Two recommendations however firstly the staff upon check in are very confusing regarding deposit payments and the staff offer you upon checkout to refund your original payment and you can make a new one Bit confusing Secondly the on site restaurant is a bit lacking very well thought out and excellent quality food for anyone of a vegetarian or vegan background but even a wrap or toasted sandwich option would be great Aside from those minor minor things fantastic spot and will be back when i return to Amsterdam ",
                        "count": 1
                      },
                      {
                        "name": "3 others",
                        "count": 3
                      }
                    ]
                  }
                },
                {
                  "name": "Reviewer_Score",
                  "dtype": "float64",
                  "stats": {
                    "unique_count": 5,
                    "nan_count": 0,
                    "min": "2.9",
                    "max": "7.5",
                    "histogram": [
                      {
                        "bin_start": 2.9,
                        "bin_end": 3.36,
                        "count": 1
                      },
                      {
                        "bin_start": 3.36,
                        "bin_end": 3.82,
                        "count": 1
                      },
                      {
                        "bin_start": 3.82,
                        "bin_end": 4.279999999999999,
                        "count": 0
                      },
                      {
                        "bin_start": 4.279999999999999,
                        "bin_end": 4.74,
                        "count": 0
                      },
                      {
                        "bin_start": 4.74,
                        "bin_end": 5.199999999999999,
                        "count": 0
                      },
                      {
                        "bin_start": 5.199999999999999,
                        "bin_end": 5.66,
                        "count": 0
                      },
                      {
                        "bin_start": 5.66,
                        "bin_end": 6.119999999999999,
                        "count": 0
                      },
                      {
                        "bin_start": 6.119999999999999,
                        "bin_end": 6.58,
                        "count": 0
                      },
                      {
                        "bin_start": 6.58,
                        "bin_end": 7.039999999999999,
                        "count": 1
                      },
                      {
                        "bin_start": 7.039999999999999,
                        "bin_end": 7.5,
                        "count": 2
                      }
                    ]
                  }
                },
                {
                  "name": "lat",
                  "dtype": "float64",
                  "stats": {
                    "unique_count": 1,
                    "nan_count": 0,
                    "min": "52.3605759",
                    "max": "52.3605759",
                    "histogram": [
                      {
                        "bin_start": 51.8605759,
                        "bin_end": 51.9605759,
                        "count": 0
                      },
                      {
                        "bin_start": 51.9605759,
                        "bin_end": 52.0605759,
                        "count": 0
                      },
                      {
                        "bin_start": 52.0605759,
                        "bin_end": 52.1605759,
                        "count": 0
                      },
                      {
                        "bin_start": 52.1605759,
                        "bin_end": 52.2605759,
                        "count": 0
                      },
                      {
                        "bin_start": 52.2605759,
                        "bin_end": 52.3605759,
                        "count": 0
                      },
                      {
                        "bin_start": 52.3605759,
                        "bin_end": 52.4605759,
                        "count": 5
                      },
                      {
                        "bin_start": 52.4605759,
                        "bin_end": 52.5605759,
                        "count": 0
                      },
                      {
                        "bin_start": 52.5605759,
                        "bin_end": 52.6605759,
                        "count": 0
                      },
                      {
                        "bin_start": 52.6605759,
                        "bin_end": 52.7605759,
                        "count": 0
                      },
                      {
                        "bin_start": 52.7605759,
                        "bin_end": 52.8605759,
                        "count": 0
                      }
                    ]
                  }
                },
                {
                  "name": "lng",
                  "dtype": "float64",
                  "stats": {
                    "unique_count": 1,
                    "nan_count": 0,
                    "min": "4.9159683",
                    "max": "4.9159683",
                    "histogram": [
                      {
                        "bin_start": 4.4159683,
                        "bin_end": 4.5159683,
                        "count": 0
                      },
                      {
                        "bin_start": 4.5159683,
                        "bin_end": 4.6159683000000005,
                        "count": 0
                      },
                      {
                        "bin_start": 4.6159683000000005,
                        "bin_end": 4.7159683,
                        "count": 0
                      },
                      {
                        "bin_start": 4.7159683,
                        "bin_end": 4.815968300000001,
                        "count": 0
                      },
                      {
                        "bin_start": 4.815968300000001,
                        "bin_end": 4.9159683,
                        "count": 0
                      },
                      {
                        "bin_start": 4.9159683,
                        "bin_end": 5.015968300000001,
                        "count": 5
                      },
                      {
                        "bin_start": 5.015968300000001,
                        "bin_end": 5.1159683000000005,
                        "count": 0
                      },
                      {
                        "bin_start": 5.1159683000000005,
                        "bin_end": 5.2159683,
                        "count": 0
                      },
                      {
                        "bin_start": 5.2159683,
                        "bin_end": 5.315968300000001,
                        "count": 0
                      },
                      {
                        "bin_start": 5.315968300000001,
                        "bin_end": 5.4159683,
                        "count": 0
                      }
                    ]
                  }
                },
                {
                  "name": "Average_Score",
                  "dtype": "float64",
                  "stats": {
                    "unique_count": 1,
                    "nan_count": 0,
                    "min": "7.7",
                    "max": "7.7",
                    "histogram": [
                      {
                        "bin_start": 7.2,
                        "bin_end": 7.3,
                        "count": 0
                      },
                      {
                        "bin_start": 7.3,
                        "bin_end": 7.4,
                        "count": 0
                      },
                      {
                        "bin_start": 7.4,
                        "bin_end": 7.5,
                        "count": 0
                      },
                      {
                        "bin_start": 7.5,
                        "bin_end": 7.6,
                        "count": 0
                      },
                      {
                        "bin_start": 7.6,
                        "bin_end": 7.699999999999999,
                        "count": 0
                      },
                      {
                        "bin_start": 7.699999999999999,
                        "bin_end": 7.8,
                        "count": 5
                      },
                      {
                        "bin_start": 7.8,
                        "bin_end": 7.8999999999999995,
                        "count": 0
                      },
                      {
                        "bin_start": 7.8999999999999995,
                        "bin_end": 7.999999999999999,
                        "count": 0
                      },
                      {
                        "bin_start": 7.999999999999999,
                        "bin_end": 8.1,
                        "count": 0
                      },
                      {
                        "bin_start": 8.1,
                        "bin_end": 8.2,
                        "count": 0
                      }
                    ]
                  }
                },
                {
                  "name": "Review_Total_Word_Counts",
                  "dtype": "int64",
                  "stats": {
                    "unique_count": 5,
                    "nan_count": 0,
                    "min": "8",
                    "max": "105",
                    "histogram": [
                      {
                        "bin_start": 8,
                        "bin_end": 17.7,
                        "count": 2
                      },
                      {
                        "bin_start": 17.7,
                        "bin_end": 27.4,
                        "count": 2
                      },
                      {
                        "bin_start": 27.4,
                        "bin_end": 37.099999999999994,
                        "count": 0
                      },
                      {
                        "bin_start": 37.099999999999994,
                        "bin_end": 46.8,
                        "count": 0
                      },
                      {
                        "bin_start": 46.8,
                        "bin_end": 56.5,
                        "count": 0
                      },
                      {
                        "bin_start": 56.5,
                        "bin_end": 66.19999999999999,
                        "count": 0
                      },
                      {
                        "bin_start": 66.19999999999999,
                        "bin_end": 75.89999999999999,
                        "count": 0
                      },
                      {
                        "bin_start": 75.89999999999999,
                        "bin_end": 85.6,
                        "count": 0
                      },
                      {
                        "bin_start": 85.6,
                        "bin_end": 95.3,
                        "count": 0
                      },
                      {
                        "bin_start": 95.3,
                        "bin_end": 105,
                        "count": 1
                      }
                    ]
                  }
                },
                {
                  "name": "Total_Number_of_Reviews",
                  "dtype": "int64",
                  "stats": {
                    "unique_count": 1,
                    "nan_count": 0,
                    "min": "1403",
                    "max": "1403",
                    "histogram": [
                      {
                        "bin_start": 1402.5,
                        "bin_end": 1402.6,
                        "count": 0
                      },
                      {
                        "bin_start": 1402.6,
                        "bin_end": 1402.7,
                        "count": 0
                      },
                      {
                        "bin_start": 1402.7,
                        "bin_end": 1402.8,
                        "count": 0
                      },
                      {
                        "bin_start": 1402.8,
                        "bin_end": 1402.9,
                        "count": 0
                      },
                      {
                        "bin_start": 1402.9,
                        "bin_end": 1403,
                        "count": 0
                      },
                      {
                        "bin_start": 1403,
                        "bin_end": 1403.1,
                        "count": 5
                      },
                      {
                        "bin_start": 1403.1,
                        "bin_end": 1403.2,
                        "count": 0
                      },
                      {
                        "bin_start": 1403.2,
                        "bin_end": 1403.3,
                        "count": 0
                      },
                      {
                        "bin_start": 1403.3,
                        "bin_end": 1403.4,
                        "count": 0
                      },
                      {
                        "bin_start": 1403.4,
                        "bin_end": 1403.5,
                        "count": 0
                      }
                    ]
                  }
                },
                {
                  "name": "Total_Number_of_Reviews_Reviewer_Has_Given",
                  "dtype": "int64",
                  "stats": {
                    "unique_count": 4,
                    "nan_count": 0,
                    "min": "1",
                    "max": "9",
                    "histogram": [
                      {
                        "bin_start": 1,
                        "bin_end": 1.8,
                        "count": 1
                      },
                      {
                        "bin_start": 1.8,
                        "bin_end": 2.6,
                        "count": 0
                      },
                      {
                        "bin_start": 2.6,
                        "bin_end": 3.4000000000000004,
                        "count": 1
                      },
                      {
                        "bin_start": 3.4000000000000004,
                        "bin_end": 4.2,
                        "count": 0
                      },
                      {
                        "bin_start": 4.2,
                        "bin_end": 5,
                        "count": 0
                      },
                      {
                        "bin_start": 5,
                        "bin_end": 5.800000000000001,
                        "count": 0
                      },
                      {
                        "bin_start": 5.800000000000001,
                        "bin_end": 6.6000000000000005,
                        "count": 0
                      },
                      {
                        "bin_start": 6.6000000000000005,
                        "bin_end": 7.4,
                        "count": 2
                      },
                      {
                        "bin_start": 7.4,
                        "bin_end": 8.2,
                        "count": 0
                      },
                      {
                        "bin_start": 8.2,
                        "bin_end": 9,
                        "count": 1
                      }
                    ]
                  }
                },
                {
                  "name": "Additional_Number_of_Scoring",
                  "dtype": "int64",
                  "stats": {
                    "unique_count": 1,
                    "nan_count": 0,
                    "min": "194",
                    "max": "194",
                    "histogram": [
                      {
                        "bin_start": 193.5,
                        "bin_end": 193.6,
                        "count": 0
                      },
                      {
                        "bin_start": 193.6,
                        "bin_end": 193.7,
                        "count": 0
                      },
                      {
                        "bin_start": 193.7,
                        "bin_end": 193.8,
                        "count": 0
                      },
                      {
                        "bin_start": 193.8,
                        "bin_end": 193.9,
                        "count": 0
                      },
                      {
                        "bin_start": 193.9,
                        "bin_end": 194,
                        "count": 0
                      },
                      {
                        "bin_start": 194,
                        "bin_end": 194.1,
                        "count": 5
                      },
                      {
                        "bin_start": 194.1,
                        "bin_end": 194.2,
                        "count": 0
                      },
                      {
                        "bin_start": 194.2,
                        "bin_end": 194.3,
                        "count": 0
                      },
                      {
                        "bin_start": 194.3,
                        "bin_end": 194.4,
                        "count": 0
                      },
                      {
                        "bin_start": 194.4,
                        "bin_end": 194.5,
                        "count": 0
                      }
                    ]
                  }
                },
                {
                  "name": "Tags",
                  "dtype": "object",
                  "stats": {
                    "unique_count": 5,
                    "nan_count": 0,
                    "categories": [
                      {
                        "name": "[' Leisure trip ', ' Couple ', ' Duplex Double Room ', ' Stayed 6 nights ']",
                        "count": 1
                      },
                      {
                        "name": "[' Leisure trip ', ' Couple ', ' Duplex Double Room ', ' Stayed 4 nights ']",
                        "count": 1
                      },
                      {
                        "name": "3 others",
                        "count": 3
                      }
                    ]
                  }
                },
                {
                  "name": "days_since_review",
                  "dtype": "object",
                  "stats": {
                    "unique_count": 3,
                    "nan_count": 0,
                    "categories": [
                      {
                        "name": "0 days",
                        "count": 2
                      },
                      {
                        "name": "3 days",
                        "count": 2
                      },
                      {
                        "name": "10 days",
                        "count": 1
                      }
                    ]
                  }
                },
                {
                  "name": "Hotel_Address",
                  "dtype": "object",
                  "stats": {
                    "unique_count": 1,
                    "nan_count": 0,
                    "categories": [
                      {
                        "name": " s Gravesandestraat 55 Oost 1092 AA Amsterdam Netherlands",
                        "count": 5
                      }
                    ]
                  }
                },
                {
                  "name": "Review_Date",
                  "dtype": "object",
                  "stats": {
                    "unique_count": 3,
                    "nan_count": 0,
                    "categories": [
                      {
                        "name": "8/3/2017",
                        "count": 2
                      },
                      {
                        "name": "7/31/2017",
                        "count": 2
                      },
                      {
                        "name": "7/24/2017",
                        "count": 1
                      }
                    ]
                  }
                },
                {
                  "name": "Reviewer_Nationality",
                  "dtype": "object",
                  "stats": {
                    "unique_count": 5,
                    "nan_count": 0,
                    "categories": [
                      {
                        "name": " Russia ",
                        "count": 1
                      },
                      {
                        "name": " Ireland ",
                        "count": 1
                      },
                      {
                        "name": "3 others",
                        "count": 3
                      }
                    ]
                  }
                },
                {
                  "name": "Review_Label",
                  "dtype": "object",
                  "stats": {
                    "unique_count": 1,
                    "nan_count": 0,
                    "categories": [
                      {
                        "name": "Positive",
                        "count": 5
                      }
                    ]
                  }
                },
                {
                  "name": "_deepnote_index_column",
                  "dtype": "int64"
                }
              ],
              "rows": [
                {
                  "Hotel_Name": "Hotel Arena",
                  "Review": " Only the park outside of the hotel was beautiful ",
                  "Reviewer_Score": 2.9,
                  "lat": 52.3605759,
                  "lng": 4.9159683,
                  "Average_Score": 7.7,
                  "Review_Total_Word_Counts": 11,
                  "Total_Number_of_Reviews": 1403,
                  "Total_Number_of_Reviews_Reviewer_Has_Given": 7,
                  "Additional_Number_of_Scoring": 194,
                  "Tags": "[' Leisure trip ', ' Couple ', ' Duplex Double Room ', ' Stayed 6 nights ']",
                  "days_since_review": "0 days",
                  "Hotel_Address": " s Gravesandestraat 55 Oost 1092 AA Amsterdam Netherlands",
                  "Review_Date": "8/3/2017",
                  "Reviewer_Nationality": " Russia ",
                  "Review_Label": "Positive",
                  "_deepnote_index_column": 0
                },
                {
                  "Hotel_Name": "Hotel Arena",
                  "Review": " No real complaints the hotel was great great location surroundings rooms amenities and service Two recommendations however firstly the staff upon check in are very confusing regarding deposit payments and the staff offer you upon checkout to refund your original payment and you can make a new one Bit confusing Secondly the on site restaurant is a bit lacking very well thought out and excellent quality food for anyone of a vegetarian or vegan background but even a wrap or toasted sandwich option would be great Aside from those minor minor things fantastic spot and will be back when i return to Amsterdam ",
                  "Reviewer_Score": 7.5,
                  "lat": 52.3605759,
                  "lng": 4.9159683,
                  "Average_Score": 7.7,
                  "Review_Total_Word_Counts": 105,
                  "Total_Number_of_Reviews": 1403,
                  "Total_Number_of_Reviews_Reviewer_Has_Given": 7,
                  "Additional_Number_of_Scoring": 194,
                  "Tags": "[' Leisure trip ', ' Couple ', ' Duplex Double Room ', ' Stayed 4 nights ']",
                  "days_since_review": "0 days",
                  "Hotel_Address": " s Gravesandestraat 55 Oost 1092 AA Amsterdam Netherlands",
                  "Review_Date": "8/3/2017",
                  "Reviewer_Nationality": " Ireland ",
                  "Review_Label": "Positive",
                  "_deepnote_index_column": 1
                },
                {
                  "Hotel_Name": "Hotel Arena",
                  "Review": " Location was good and staff were ok It is cute hotel the breakfast range is nice Will go back ",
                  "Reviewer_Score": 7.1,
                  "lat": 52.3605759,
                  "lng": 4.9159683,
                  "Average_Score": 7.7,
                  "Review_Total_Word_Counts": 21,
                  "Total_Number_of_Reviews": 1403,
                  "Total_Number_of_Reviews_Reviewer_Has_Given": 9,
                  "Additional_Number_of_Scoring": 194,
                  "Tags": "[' Leisure trip ', ' Family with young children ', ' Duplex Double Room ', ' Stayed 3 nights ', ' Submitted from a mobile device ']",
                  "days_since_review": "3 days",
                  "Hotel_Address": " s Gravesandestraat 55 Oost 1092 AA Amsterdam Netherlands",
                  "Review_Date": "7/31/2017",
                  "Reviewer_Nationality": " Australia ",
                  "Review_Label": "Positive",
                  "_deepnote_index_column": 2
                },
                {
                  "Hotel_Name": "Hotel Arena",
                  "Review": " Great location in nice surroundings the bar and restaurant are nice and have a lovely outdoor area The building also has quite some character ",
                  "Reviewer_Score": 3.8,
                  "lat": 52.3605759,
                  "lng": 4.9159683,
                  "Average_Score": 7.7,
                  "Review_Total_Word_Counts": 26,
                  "Total_Number_of_Reviews": 1403,
                  "Total_Number_of_Reviews_Reviewer_Has_Given": 1,
                  "Additional_Number_of_Scoring": 194,
                  "Tags": "[' Leisure trip ', ' Solo traveler ', ' Duplex Double Room ', ' Stayed 3 nights ']",
                  "days_since_review": "3 days",
                  "Hotel_Address": " s Gravesandestraat 55 Oost 1092 AA Amsterdam Netherlands",
                  "Review_Date": "7/31/2017",
                  "Reviewer_Nationality": " United Kingdom ",
                  "Review_Label": "Positive",
                  "_deepnote_index_column": 3
                },
                {
                  "Hotel_Name": "Hotel Arena",
                  "Review": " Amazing location and building Romantic setting ",
                  "Reviewer_Score": 6.7,
                  "lat": 52.3605759,
                  "lng": 4.9159683,
                  "Average_Score": 7.7,
                  "Review_Total_Word_Counts": 8,
                  "Total_Number_of_Reviews": 1403,
                  "Total_Number_of_Reviews_Reviewer_Has_Given": 3,
                  "Additional_Number_of_Scoring": 194,
                  "Tags": "[' Leisure trip ', ' Couple ', ' Suite ', ' Stayed 2 nights ', ' Submitted from a mobile device ']",
                  "days_since_review": "10 days",
                  "Hotel_Address": " s Gravesandestraat 55 Oost 1092 AA Amsterdam Netherlands",
                  "Review_Date": "7/24/2017",
                  "Reviewer_Nationality": " New Zealand ",
                  "Review_Label": "Positive",
                  "_deepnote_index_column": 4
                }
              ]
            },
            "text/plain": "    Hotel_Name                                             Review  \\\n0  Hotel Arena   Only the park outside of the hotel was beauti...   \n1  Hotel Arena   No real complaints the hotel was great great ...   \n2  Hotel Arena   Location was good and staff were ok It is cut...   \n3  Hotel Arena   Great location in nice surroundings the bar a...   \n4  Hotel Arena    Amazing location and building Romantic setting    \n\n   Reviewer_Score        lat       lng  Average_Score  \\\n0             2.9  52.360576  4.915968            7.7   \n1             7.5  52.360576  4.915968            7.7   \n2             7.1  52.360576  4.915968            7.7   \n3             3.8  52.360576  4.915968            7.7   \n4             6.7  52.360576  4.915968            7.7   \n\n   Review_Total_Word_Counts  Total_Number_of_Reviews  \\\n0                        11                     1403   \n1                       105                     1403   \n2                        21                     1403   \n3                        26                     1403   \n4                         8                     1403   \n\n   Total_Number_of_Reviews_Reviewer_Has_Given  Additional_Number_of_Scoring  \\\n0                                           7                           194   \n1                                           7                           194   \n2                                           9                           194   \n3                                           1                           194   \n4                                           3                           194   \n\n                                                Tags days_since_review  \\\n0  [' Leisure trip ', ' Couple ', ' Duplex Double...            0 days   \n1  [' Leisure trip ', ' Couple ', ' Duplex Double...            0 days   \n2  [' Leisure trip ', ' Family with young childre...            3 days   \n3  [' Leisure trip ', ' Solo traveler ', ' Duplex...            3 days   \n4  [' Leisure trip ', ' Couple ', ' Suite ', ' St...           10 days   \n\n                                       Hotel_Address Review_Date  \\\n0   s Gravesandestraat 55 Oost 1092 AA Amsterdam ...    8/3/2017   \n1   s Gravesandestraat 55 Oost 1092 AA Amsterdam ...    8/3/2017   \n2   s Gravesandestraat 55 Oost 1092 AA Amsterdam ...   7/31/2017   \n3   s Gravesandestraat 55 Oost 1092 AA Amsterdam ...   7/31/2017   \n4   s Gravesandestraat 55 Oost 1092 AA Amsterdam ...   7/24/2017   \n\n  Reviewer_Nationality Review_Label  \n0              Russia      Positive  \n1             Ireland      Positive  \n2           Australia      Positive  \n3      United Kingdom      Positive  \n4         New Zealand      Positive  ",
            "text/html": "<div>\n<style scoped>\n    .dataframe tbody tr th:only-of-type {\n        vertical-align: middle;\n    }\n\n    .dataframe tbody tr th {\n        vertical-align: top;\n    }\n\n    .dataframe thead th {\n        text-align: right;\n    }\n</style>\n<table border=\"1\" class=\"dataframe\">\n  <thead>\n    <tr style=\"text-align: right;\">\n      <th></th>\n      <th>Hotel_Name</th>\n      <th>Review</th>\n      <th>Reviewer_Score</th>\n      <th>lat</th>\n      <th>lng</th>\n      <th>Average_Score</th>\n      <th>Review_Total_Word_Counts</th>\n      <th>Total_Number_of_Reviews</th>\n      <th>Total_Number_of_Reviews_Reviewer_Has_Given</th>\n      <th>Additional_Number_of_Scoring</th>\n      <th>Tags</th>\n      <th>days_since_review</th>\n      <th>Hotel_Address</th>\n      <th>Review_Date</th>\n      <th>Reviewer_Nationality</th>\n      <th>Review_Label</th>\n    </tr>\n  </thead>\n  <tbody>\n    <tr>\n      <th>0</th>\n      <td>Hotel Arena</td>\n      <td>Only the park outside of the hotel was beauti...</td>\n      <td>2.9</td>\n      <td>52.360576</td>\n      <td>4.915968</td>\n      <td>7.7</td>\n      <td>11</td>\n      <td>1403</td>\n      <td>7</td>\n      <td>194</td>\n      <td>[' Leisure trip ', ' Couple ', ' Duplex Double...</td>\n      <td>0 days</td>\n      <td>s Gravesandestraat 55 Oost 1092 AA Amsterdam ...</td>\n      <td>8/3/2017</td>\n      <td>Russia</td>\n      <td>Positive</td>\n    </tr>\n    <tr>\n      <th>1</th>\n      <td>Hotel Arena</td>\n      <td>No real complaints the hotel was great great ...</td>\n      <td>7.5</td>\n      <td>52.360576</td>\n      <td>4.915968</td>\n      <td>7.7</td>\n      <td>105</td>\n      <td>1403</td>\n      <td>7</td>\n      <td>194</td>\n      <td>[' Leisure trip ', ' Couple ', ' Duplex Double...</td>\n      <td>0 days</td>\n      <td>s Gravesandestraat 55 Oost 1092 AA Amsterdam ...</td>\n      <td>8/3/2017</td>\n      <td>Ireland</td>\n      <td>Positive</td>\n    </tr>\n    <tr>\n      <th>2</th>\n      <td>Hotel Arena</td>\n      <td>Location was good and staff were ok It is cut...</td>\n      <td>7.1</td>\n      <td>52.360576</td>\n      <td>4.915968</td>\n      <td>7.7</td>\n      <td>21</td>\n      <td>1403</td>\n      <td>9</td>\n      <td>194</td>\n      <td>[' Leisure trip ', ' Family with young childre...</td>\n      <td>3 days</td>\n      <td>s Gravesandestraat 55 Oost 1092 AA Amsterdam ...</td>\n      <td>7/31/2017</td>\n      <td>Australia</td>\n      <td>Positive</td>\n    </tr>\n    <tr>\n      <th>3</th>\n      <td>Hotel Arena</td>\n      <td>Great location in nice surroundings the bar a...</td>\n      <td>3.8</td>\n      <td>52.360576</td>\n      <td>4.915968</td>\n      <td>7.7</td>\n      <td>26</td>\n      <td>1403</td>\n      <td>1</td>\n      <td>194</td>\n      <td>[' Leisure trip ', ' Solo traveler ', ' Duplex...</td>\n      <td>3 days</td>\n      <td>s Gravesandestraat 55 Oost 1092 AA Amsterdam ...</td>\n      <td>7/31/2017</td>\n      <td>United Kingdom</td>\n      <td>Positive</td>\n    </tr>\n    <tr>\n      <th>4</th>\n      <td>Hotel Arena</td>\n      <td>Amazing location and building Romantic setting</td>\n      <td>6.7</td>\n      <td>52.360576</td>\n      <td>4.915968</td>\n      <td>7.7</td>\n      <td>8</td>\n      <td>1403</td>\n      <td>3</td>\n      <td>194</td>\n      <td>[' Leisure trip ', ' Couple ', ' Suite ', ' St...</td>\n      <td>10 days</td>\n      <td>s Gravesandestraat 55 Oost 1092 AA Amsterdam ...</td>\n      <td>7/24/2017</td>\n      <td>New Zealand</td>\n      <td>Positive</td>\n    </tr>\n  </tbody>\n</table>\n</div>"
          },
          "metadata": {}
        }
      ],
      "outputs_reference": null,
      "execution_count": null,
      "block_group": "640f7ad499924858ac83159ab6c45f03"
    },
    {
      "cell_type": "markdown",
      "source": "### Saving the merged dataset to google drive",
      "metadata": {
        "is_collapsed": false,
        "formattedRanges": [],
        "deepnote_app_block_visible": false,
        "cell_id": "9bba2c5dcfb94711bf811c78a9671c11",
        "deepnote_cell_type": "text-cell-h3"
      },
      "block_group": "9fd00f547a354c10891b3d5286852dca"
    },
    {
      "cell_type": "code",
      "source": "#save the dataframe to google drive\ndf_reviews.to_csv('/datasets/gdrive/PROJECTS/Natural Laguage Processing/Sentiment Analysis/515K_Hotel_Reviews_modified.csv')",
      "metadata": {
        "source_hash": null,
        "execution_start": 1708278097816,
        "execution_millis": 45580,
        "deepnote_to_be_reexecuted": false,
        "cell_id": "f75ee9d435c640089402453d83075fcb",
        "deepnote_cell_type": "code"
      },
      "outputs": [],
      "outputs_reference": null,
      "execution_count": null,
      "block_group": "baaf5838b80c46ef8943616469e71fe2"
    },
    {
      "cell_type": "markdown",
      "source": "# Exploratory Data Analysis (EDA)",
      "metadata": {
        "formattedRanges": [],
        "cell_id": "4ed71718b357429797347f31a5e535a1",
        "deepnote_cell_type": "text-cell-h1"
      },
      "block_group": "cfe5f79f2ff845b5bd3d8667e88fd7b3"
    },
    {
      "cell_type": "markdown",
      "source": "We conduct exploratory analysis on the dataset to understand its structure, distribution, and characteristics.\r\nVisualize key features such as review sentiments, word frequency distributions, and any patterns in the data.\r\nIdentify any potential challenges or biases in the dataset.",
      "metadata": {
        "formattedRanges": [],
        "cell_id": "f9dd4b37d7e34934b3c5d54ffa09b913",
        "deepnote_cell_type": "text-cell-p"
      },
      "block_group": "06fd73c50b1749ce925cf97540c6f6d0"
    },
    {
      "cell_type": "code",
      "source": "# Exploratory Data Analysis (EDA)\n#importing libraries\nimport pandas as pd\nimport numpy as np\nimport matplotlib.pyplot as plt\nimport seaborn as sns\n\n#reading dataset\ndf = pd.read_csv('/datasets/gdrive/PROJECTS/Natural Laguage Processing/Sentiment Analysis/515K_Hotel_Reviews_modified.csv')\ndf.head(5)\n",
      "metadata": {
        "source_hash": null,
        "execution_start": 1708278143444,
        "execution_millis": 5946,
        "deepnote_to_be_reexecuted": false,
        "cell_id": "515a005c629044218746ae52c4be30ac",
        "deepnote_cell_type": "code"
      },
      "outputs": [
        {
          "output_type": "execute_result",
          "execution_count": 12,
          "data": {
            "application/vnd.deepnote.dataframe.v3+json": {
              "column_count": 17,
              "row_count": 5,
              "columns": [
                {
                  "name": "Unnamed: 0",
                  "dtype": "int64",
                  "stats": {
                    "unique_count": 5,
                    "nan_count": 0,
                    "min": "0",
                    "max": "4",
                    "histogram": [
                      {
                        "bin_start": 0,
                        "bin_end": 0.4,
                        "count": 1
                      },
                      {
                        "bin_start": 0.4,
                        "bin_end": 0.8,
                        "count": 0
                      },
                      {
                        "bin_start": 0.8,
                        "bin_end": 1.2000000000000002,
                        "count": 1
                      },
                      {
                        "bin_start": 1.2000000000000002,
                        "bin_end": 1.6,
                        "count": 0
                      },
                      {
                        "bin_start": 1.6,
                        "bin_end": 2,
                        "count": 0
                      },
                      {
                        "bin_start": 2,
                        "bin_end": 2.4000000000000004,
                        "count": 1
                      },
                      {
                        "bin_start": 2.4000000000000004,
                        "bin_end": 2.8000000000000003,
                        "count": 0
                      },
                      {
                        "bin_start": 2.8000000000000003,
                        "bin_end": 3.2,
                        "count": 1
                      },
                      {
                        "bin_start": 3.2,
                        "bin_end": 3.6,
                        "count": 0
                      },
                      {
                        "bin_start": 3.6,
                        "bin_end": 4,
                        "count": 1
                      }
                    ]
                  }
                },
                {
                  "name": "Hotel_Name",
                  "dtype": "object",
                  "stats": {
                    "unique_count": 1,
                    "nan_count": 0,
                    "categories": [
                      {
                        "name": "Hotel Arena",
                        "count": 5
                      }
                    ]
                  }
                },
                {
                  "name": "Review",
                  "dtype": "object",
                  "stats": {
                    "unique_count": 5,
                    "nan_count": 0,
                    "categories": [
                      {
                        "name": " Only the park outside of the hotel was beautiful ",
                        "count": 1
                      },
                      {
                        "name": " No real complaints the hotel was great great location surroundings rooms amenities and service Two recommendations however firstly the staff upon check in are very confusing regarding deposit payments and the staff offer you upon checkout to refund your original payment and you can make a new one Bit confusing Secondly the on site restaurant is a bit lacking very well thought out and excellent quality food for anyone of a vegetarian or vegan background but even a wrap or toasted sandwich option would be great Aside from those minor minor things fantastic spot and will be back when i return to Amsterdam ",
                        "count": 1
                      },
                      {
                        "name": "3 others",
                        "count": 3
                      }
                    ]
                  }
                },
                {
                  "name": "Reviewer_Score",
                  "dtype": "float64",
                  "stats": {
                    "unique_count": 5,
                    "nan_count": 0,
                    "min": "2.9",
                    "max": "7.5",
                    "histogram": [
                      {
                        "bin_start": 2.9,
                        "bin_end": 3.36,
                        "count": 1
                      },
                      {
                        "bin_start": 3.36,
                        "bin_end": 3.82,
                        "count": 1
                      },
                      {
                        "bin_start": 3.82,
                        "bin_end": 4.279999999999999,
                        "count": 0
                      },
                      {
                        "bin_start": 4.279999999999999,
                        "bin_end": 4.74,
                        "count": 0
                      },
                      {
                        "bin_start": 4.74,
                        "bin_end": 5.199999999999999,
                        "count": 0
                      },
                      {
                        "bin_start": 5.199999999999999,
                        "bin_end": 5.66,
                        "count": 0
                      },
                      {
                        "bin_start": 5.66,
                        "bin_end": 6.119999999999999,
                        "count": 0
                      },
                      {
                        "bin_start": 6.119999999999999,
                        "bin_end": 6.58,
                        "count": 0
                      },
                      {
                        "bin_start": 6.58,
                        "bin_end": 7.039999999999999,
                        "count": 1
                      },
                      {
                        "bin_start": 7.039999999999999,
                        "bin_end": 7.5,
                        "count": 2
                      }
                    ]
                  }
                },
                {
                  "name": "lat",
                  "dtype": "float64",
                  "stats": {
                    "unique_count": 1,
                    "nan_count": 0,
                    "min": "52.3605759",
                    "max": "52.3605759",
                    "histogram": [
                      {
                        "bin_start": 51.8605759,
                        "bin_end": 51.9605759,
                        "count": 0
                      },
                      {
                        "bin_start": 51.9605759,
                        "bin_end": 52.0605759,
                        "count": 0
                      },
                      {
                        "bin_start": 52.0605759,
                        "bin_end": 52.1605759,
                        "count": 0
                      },
                      {
                        "bin_start": 52.1605759,
                        "bin_end": 52.2605759,
                        "count": 0
                      },
                      {
                        "bin_start": 52.2605759,
                        "bin_end": 52.3605759,
                        "count": 0
                      },
                      {
                        "bin_start": 52.3605759,
                        "bin_end": 52.4605759,
                        "count": 5
                      },
                      {
                        "bin_start": 52.4605759,
                        "bin_end": 52.5605759,
                        "count": 0
                      },
                      {
                        "bin_start": 52.5605759,
                        "bin_end": 52.6605759,
                        "count": 0
                      },
                      {
                        "bin_start": 52.6605759,
                        "bin_end": 52.7605759,
                        "count": 0
                      },
                      {
                        "bin_start": 52.7605759,
                        "bin_end": 52.8605759,
                        "count": 0
                      }
                    ]
                  }
                },
                {
                  "name": "lng",
                  "dtype": "float64",
                  "stats": {
                    "unique_count": 1,
                    "nan_count": 0,
                    "min": "4.9159683",
                    "max": "4.9159683",
                    "histogram": [
                      {
                        "bin_start": 4.4159683,
                        "bin_end": 4.5159683,
                        "count": 0
                      },
                      {
                        "bin_start": 4.5159683,
                        "bin_end": 4.6159683000000005,
                        "count": 0
                      },
                      {
                        "bin_start": 4.6159683000000005,
                        "bin_end": 4.7159683,
                        "count": 0
                      },
                      {
                        "bin_start": 4.7159683,
                        "bin_end": 4.815968300000001,
                        "count": 0
                      },
                      {
                        "bin_start": 4.815968300000001,
                        "bin_end": 4.9159683,
                        "count": 0
                      },
                      {
                        "bin_start": 4.9159683,
                        "bin_end": 5.015968300000001,
                        "count": 5
                      },
                      {
                        "bin_start": 5.015968300000001,
                        "bin_end": 5.1159683000000005,
                        "count": 0
                      },
                      {
                        "bin_start": 5.1159683000000005,
                        "bin_end": 5.2159683,
                        "count": 0
                      },
                      {
                        "bin_start": 5.2159683,
                        "bin_end": 5.315968300000001,
                        "count": 0
                      },
                      {
                        "bin_start": 5.315968300000001,
                        "bin_end": 5.4159683,
                        "count": 0
                      }
                    ]
                  }
                },
                {
                  "name": "Average_Score",
                  "dtype": "float64",
                  "stats": {
                    "unique_count": 1,
                    "nan_count": 0,
                    "min": "7.7",
                    "max": "7.7",
                    "histogram": [
                      {
                        "bin_start": 7.2,
                        "bin_end": 7.3,
                        "count": 0
                      },
                      {
                        "bin_start": 7.3,
                        "bin_end": 7.4,
                        "count": 0
                      },
                      {
                        "bin_start": 7.4,
                        "bin_end": 7.5,
                        "count": 0
                      },
                      {
                        "bin_start": 7.5,
                        "bin_end": 7.6,
                        "count": 0
                      },
                      {
                        "bin_start": 7.6,
                        "bin_end": 7.699999999999999,
                        "count": 0
                      },
                      {
                        "bin_start": 7.699999999999999,
                        "bin_end": 7.8,
                        "count": 5
                      },
                      {
                        "bin_start": 7.8,
                        "bin_end": 7.8999999999999995,
                        "count": 0
                      },
                      {
                        "bin_start": 7.8999999999999995,
                        "bin_end": 7.999999999999999,
                        "count": 0
                      },
                      {
                        "bin_start": 7.999999999999999,
                        "bin_end": 8.1,
                        "count": 0
                      },
                      {
                        "bin_start": 8.1,
                        "bin_end": 8.2,
                        "count": 0
                      }
                    ]
                  }
                },
                {
                  "name": "Review_Total_Word_Counts",
                  "dtype": "int64",
                  "stats": {
                    "unique_count": 5,
                    "nan_count": 0,
                    "min": "8",
                    "max": "105",
                    "histogram": [
                      {
                        "bin_start": 8,
                        "bin_end": 17.7,
                        "count": 2
                      },
                      {
                        "bin_start": 17.7,
                        "bin_end": 27.4,
                        "count": 2
                      },
                      {
                        "bin_start": 27.4,
                        "bin_end": 37.099999999999994,
                        "count": 0
                      },
                      {
                        "bin_start": 37.099999999999994,
                        "bin_end": 46.8,
                        "count": 0
                      },
                      {
                        "bin_start": 46.8,
                        "bin_end": 56.5,
                        "count": 0
                      },
                      {
                        "bin_start": 56.5,
                        "bin_end": 66.19999999999999,
                        "count": 0
                      },
                      {
                        "bin_start": 66.19999999999999,
                        "bin_end": 75.89999999999999,
                        "count": 0
                      },
                      {
                        "bin_start": 75.89999999999999,
                        "bin_end": 85.6,
                        "count": 0
                      },
                      {
                        "bin_start": 85.6,
                        "bin_end": 95.3,
                        "count": 0
                      },
                      {
                        "bin_start": 95.3,
                        "bin_end": 105,
                        "count": 1
                      }
                    ]
                  }
                },
                {
                  "name": "Total_Number_of_Reviews",
                  "dtype": "int64",
                  "stats": {
                    "unique_count": 1,
                    "nan_count": 0,
                    "min": "1403",
                    "max": "1403",
                    "histogram": [
                      {
                        "bin_start": 1402.5,
                        "bin_end": 1402.6,
                        "count": 0
                      },
                      {
                        "bin_start": 1402.6,
                        "bin_end": 1402.7,
                        "count": 0
                      },
                      {
                        "bin_start": 1402.7,
                        "bin_end": 1402.8,
                        "count": 0
                      },
                      {
                        "bin_start": 1402.8,
                        "bin_end": 1402.9,
                        "count": 0
                      },
                      {
                        "bin_start": 1402.9,
                        "bin_end": 1403,
                        "count": 0
                      },
                      {
                        "bin_start": 1403,
                        "bin_end": 1403.1,
                        "count": 5
                      },
                      {
                        "bin_start": 1403.1,
                        "bin_end": 1403.2,
                        "count": 0
                      },
                      {
                        "bin_start": 1403.2,
                        "bin_end": 1403.3,
                        "count": 0
                      },
                      {
                        "bin_start": 1403.3,
                        "bin_end": 1403.4,
                        "count": 0
                      },
                      {
                        "bin_start": 1403.4,
                        "bin_end": 1403.5,
                        "count": 0
                      }
                    ]
                  }
                },
                {
                  "name": "Total_Number_of_Reviews_Reviewer_Has_Given",
                  "dtype": "int64",
                  "stats": {
                    "unique_count": 4,
                    "nan_count": 0,
                    "min": "1",
                    "max": "9",
                    "histogram": [
                      {
                        "bin_start": 1,
                        "bin_end": 1.8,
                        "count": 1
                      },
                      {
                        "bin_start": 1.8,
                        "bin_end": 2.6,
                        "count": 0
                      },
                      {
                        "bin_start": 2.6,
                        "bin_end": 3.4000000000000004,
                        "count": 1
                      },
                      {
                        "bin_start": 3.4000000000000004,
                        "bin_end": 4.2,
                        "count": 0
                      },
                      {
                        "bin_start": 4.2,
                        "bin_end": 5,
                        "count": 0
                      },
                      {
                        "bin_start": 5,
                        "bin_end": 5.800000000000001,
                        "count": 0
                      },
                      {
                        "bin_start": 5.800000000000001,
                        "bin_end": 6.6000000000000005,
                        "count": 0
                      },
                      {
                        "bin_start": 6.6000000000000005,
                        "bin_end": 7.4,
                        "count": 2
                      },
                      {
                        "bin_start": 7.4,
                        "bin_end": 8.2,
                        "count": 0
                      },
                      {
                        "bin_start": 8.2,
                        "bin_end": 9,
                        "count": 1
                      }
                    ]
                  }
                },
                {
                  "name": "Additional_Number_of_Scoring",
                  "dtype": "int64",
                  "stats": {
                    "unique_count": 1,
                    "nan_count": 0,
                    "min": "194",
                    "max": "194",
                    "histogram": [
                      {
                        "bin_start": 193.5,
                        "bin_end": 193.6,
                        "count": 0
                      },
                      {
                        "bin_start": 193.6,
                        "bin_end": 193.7,
                        "count": 0
                      },
                      {
                        "bin_start": 193.7,
                        "bin_end": 193.8,
                        "count": 0
                      },
                      {
                        "bin_start": 193.8,
                        "bin_end": 193.9,
                        "count": 0
                      },
                      {
                        "bin_start": 193.9,
                        "bin_end": 194,
                        "count": 0
                      },
                      {
                        "bin_start": 194,
                        "bin_end": 194.1,
                        "count": 5
                      },
                      {
                        "bin_start": 194.1,
                        "bin_end": 194.2,
                        "count": 0
                      },
                      {
                        "bin_start": 194.2,
                        "bin_end": 194.3,
                        "count": 0
                      },
                      {
                        "bin_start": 194.3,
                        "bin_end": 194.4,
                        "count": 0
                      },
                      {
                        "bin_start": 194.4,
                        "bin_end": 194.5,
                        "count": 0
                      }
                    ]
                  }
                },
                {
                  "name": "Tags",
                  "dtype": "object",
                  "stats": {
                    "unique_count": 5,
                    "nan_count": 0,
                    "categories": [
                      {
                        "name": "[' Leisure trip ', ' Couple ', ' Duplex Double Room ', ' Stayed 6 nights ']",
                        "count": 1
                      },
                      {
                        "name": "[' Leisure trip ', ' Couple ', ' Duplex Double Room ', ' Stayed 4 nights ']",
                        "count": 1
                      },
                      {
                        "name": "3 others",
                        "count": 3
                      }
                    ]
                  }
                },
                {
                  "name": "days_since_review",
                  "dtype": "object",
                  "stats": {
                    "unique_count": 3,
                    "nan_count": 0,
                    "categories": [
                      {
                        "name": "0 days",
                        "count": 2
                      },
                      {
                        "name": "3 days",
                        "count": 2
                      },
                      {
                        "name": "10 days",
                        "count": 1
                      }
                    ]
                  }
                },
                {
                  "name": "Hotel_Address",
                  "dtype": "object",
                  "stats": {
                    "unique_count": 1,
                    "nan_count": 0,
                    "categories": [
                      {
                        "name": " s Gravesandestraat 55 Oost 1092 AA Amsterdam Netherlands",
                        "count": 5
                      }
                    ]
                  }
                },
                {
                  "name": "Review_Date",
                  "dtype": "object",
                  "stats": {
                    "unique_count": 3,
                    "nan_count": 0,
                    "categories": [
                      {
                        "name": "8/3/2017",
                        "count": 2
                      },
                      {
                        "name": "7/31/2017",
                        "count": 2
                      },
                      {
                        "name": "7/24/2017",
                        "count": 1
                      }
                    ]
                  }
                },
                {
                  "name": "Reviewer_Nationality",
                  "dtype": "object",
                  "stats": {
                    "unique_count": 5,
                    "nan_count": 0,
                    "categories": [
                      {
                        "name": " Russia ",
                        "count": 1
                      },
                      {
                        "name": " Ireland ",
                        "count": 1
                      },
                      {
                        "name": "3 others",
                        "count": 3
                      }
                    ]
                  }
                },
                {
                  "name": "Review_Label",
                  "dtype": "object",
                  "stats": {
                    "unique_count": 1,
                    "nan_count": 0,
                    "categories": [
                      {
                        "name": "Positive",
                        "count": 5
                      }
                    ]
                  }
                },
                {
                  "name": "_deepnote_index_column",
                  "dtype": "int64"
                }
              ],
              "rows": [
                {
                  "Unnamed: 0": 0,
                  "Hotel_Name": "Hotel Arena",
                  "Review": " Only the park outside of the hotel was beautiful ",
                  "Reviewer_Score": 2.9,
                  "lat": 52.3605759,
                  "lng": 4.9159683,
                  "Average_Score": 7.7,
                  "Review_Total_Word_Counts": 11,
                  "Total_Number_of_Reviews": 1403,
                  "Total_Number_of_Reviews_Reviewer_Has_Given": 7,
                  "Additional_Number_of_Scoring": 194,
                  "Tags": "[' Leisure trip ', ' Couple ', ' Duplex Double Room ', ' Stayed 6 nights ']",
                  "days_since_review": "0 days",
                  "Hotel_Address": " s Gravesandestraat 55 Oost 1092 AA Amsterdam Netherlands",
                  "Review_Date": "8/3/2017",
                  "Reviewer_Nationality": " Russia ",
                  "Review_Label": "Positive",
                  "_deepnote_index_column": 0
                },
                {
                  "Unnamed: 0": 1,
                  "Hotel_Name": "Hotel Arena",
                  "Review": " No real complaints the hotel was great great location surroundings rooms amenities and service Two recommendations however firstly the staff upon check in are very confusing regarding deposit payments and the staff offer you upon checkout to refund your original payment and you can make a new one Bit confusing Secondly the on site restaurant is a bit lacking very well thought out and excellent quality food for anyone of a vegetarian or vegan background but even a wrap or toasted sandwich option would be great Aside from those minor minor things fantastic spot and will be back when i return to Amsterdam ",
                  "Reviewer_Score": 7.5,
                  "lat": 52.3605759,
                  "lng": 4.9159683,
                  "Average_Score": 7.7,
                  "Review_Total_Word_Counts": 105,
                  "Total_Number_of_Reviews": 1403,
                  "Total_Number_of_Reviews_Reviewer_Has_Given": 7,
                  "Additional_Number_of_Scoring": 194,
                  "Tags": "[' Leisure trip ', ' Couple ', ' Duplex Double Room ', ' Stayed 4 nights ']",
                  "days_since_review": "0 days",
                  "Hotel_Address": " s Gravesandestraat 55 Oost 1092 AA Amsterdam Netherlands",
                  "Review_Date": "8/3/2017",
                  "Reviewer_Nationality": " Ireland ",
                  "Review_Label": "Positive",
                  "_deepnote_index_column": 1
                },
                {
                  "Unnamed: 0": 2,
                  "Hotel_Name": "Hotel Arena",
                  "Review": " Location was good and staff were ok It is cute hotel the breakfast range is nice Will go back ",
                  "Reviewer_Score": 7.1,
                  "lat": 52.3605759,
                  "lng": 4.9159683,
                  "Average_Score": 7.7,
                  "Review_Total_Word_Counts": 21,
                  "Total_Number_of_Reviews": 1403,
                  "Total_Number_of_Reviews_Reviewer_Has_Given": 9,
                  "Additional_Number_of_Scoring": 194,
                  "Tags": "[' Leisure trip ', ' Family with young children ', ' Duplex Double Room ', ' Stayed 3 nights ', ' Submitted from a mobile device ']",
                  "days_since_review": "3 days",
                  "Hotel_Address": " s Gravesandestraat 55 Oost 1092 AA Amsterdam Netherlands",
                  "Review_Date": "7/31/2017",
                  "Reviewer_Nationality": " Australia ",
                  "Review_Label": "Positive",
                  "_deepnote_index_column": 2
                },
                {
                  "Unnamed: 0": 3,
                  "Hotel_Name": "Hotel Arena",
                  "Review": " Great location in nice surroundings the bar and restaurant are nice and have a lovely outdoor area The building also has quite some character ",
                  "Reviewer_Score": 3.8,
                  "lat": 52.3605759,
                  "lng": 4.9159683,
                  "Average_Score": 7.7,
                  "Review_Total_Word_Counts": 26,
                  "Total_Number_of_Reviews": 1403,
                  "Total_Number_of_Reviews_Reviewer_Has_Given": 1,
                  "Additional_Number_of_Scoring": 194,
                  "Tags": "[' Leisure trip ', ' Solo traveler ', ' Duplex Double Room ', ' Stayed 3 nights ']",
                  "days_since_review": "3 days",
                  "Hotel_Address": " s Gravesandestraat 55 Oost 1092 AA Amsterdam Netherlands",
                  "Review_Date": "7/31/2017",
                  "Reviewer_Nationality": " United Kingdom ",
                  "Review_Label": "Positive",
                  "_deepnote_index_column": 3
                },
                {
                  "Unnamed: 0": 4,
                  "Hotel_Name": "Hotel Arena",
                  "Review": " Amazing location and building Romantic setting ",
                  "Reviewer_Score": 6.7,
                  "lat": 52.3605759,
                  "lng": 4.9159683,
                  "Average_Score": 7.7,
                  "Review_Total_Word_Counts": 8,
                  "Total_Number_of_Reviews": 1403,
                  "Total_Number_of_Reviews_Reviewer_Has_Given": 3,
                  "Additional_Number_of_Scoring": 194,
                  "Tags": "[' Leisure trip ', ' Couple ', ' Suite ', ' Stayed 2 nights ', ' Submitted from a mobile device ']",
                  "days_since_review": "10 days",
                  "Hotel_Address": " s Gravesandestraat 55 Oost 1092 AA Amsterdam Netherlands",
                  "Review_Date": "7/24/2017",
                  "Reviewer_Nationality": " New Zealand ",
                  "Review_Label": "Positive",
                  "_deepnote_index_column": 4
                }
              ]
            },
            "text/plain": "   Unnamed: 0   Hotel_Name                                             Review  \\\n0           0  Hotel Arena   Only the park outside of the hotel was beauti...   \n1           1  Hotel Arena   No real complaints the hotel was great great ...   \n2           2  Hotel Arena   Location was good and staff were ok It is cut...   \n3           3  Hotel Arena   Great location in nice surroundings the bar a...   \n4           4  Hotel Arena    Amazing location and building Romantic setting    \n\n   Reviewer_Score        lat       lng  Average_Score  \\\n0             2.9  52.360576  4.915968            7.7   \n1             7.5  52.360576  4.915968            7.7   \n2             7.1  52.360576  4.915968            7.7   \n3             3.8  52.360576  4.915968            7.7   \n4             6.7  52.360576  4.915968            7.7   \n\n   Review_Total_Word_Counts  Total_Number_of_Reviews  \\\n0                        11                     1403   \n1                       105                     1403   \n2                        21                     1403   \n3                        26                     1403   \n4                         8                     1403   \n\n   Total_Number_of_Reviews_Reviewer_Has_Given  Additional_Number_of_Scoring  \\\n0                                           7                           194   \n1                                           7                           194   \n2                                           9                           194   \n3                                           1                           194   \n4                                           3                           194   \n\n                                                Tags days_since_review  \\\n0  [' Leisure trip ', ' Couple ', ' Duplex Double...            0 days   \n1  [' Leisure trip ', ' Couple ', ' Duplex Double...            0 days   \n2  [' Leisure trip ', ' Family with young childre...            3 days   \n3  [' Leisure trip ', ' Solo traveler ', ' Duplex...            3 days   \n4  [' Leisure trip ', ' Couple ', ' Suite ', ' St...           10 days   \n\n                                       Hotel_Address Review_Date  \\\n0   s Gravesandestraat 55 Oost 1092 AA Amsterdam ...    8/3/2017   \n1   s Gravesandestraat 55 Oost 1092 AA Amsterdam ...    8/3/2017   \n2   s Gravesandestraat 55 Oost 1092 AA Amsterdam ...   7/31/2017   \n3   s Gravesandestraat 55 Oost 1092 AA Amsterdam ...   7/31/2017   \n4   s Gravesandestraat 55 Oost 1092 AA Amsterdam ...   7/24/2017   \n\n  Reviewer_Nationality Review_Label  \n0              Russia      Positive  \n1             Ireland      Positive  \n2           Australia      Positive  \n3      United Kingdom      Positive  \n4         New Zealand      Positive  ",
            "text/html": "<div>\n<style scoped>\n    .dataframe tbody tr th:only-of-type {\n        vertical-align: middle;\n    }\n\n    .dataframe tbody tr th {\n        vertical-align: top;\n    }\n\n    .dataframe thead th {\n        text-align: right;\n    }\n</style>\n<table border=\"1\" class=\"dataframe\">\n  <thead>\n    <tr style=\"text-align: right;\">\n      <th></th>\n      <th>Unnamed: 0</th>\n      <th>Hotel_Name</th>\n      <th>Review</th>\n      <th>Reviewer_Score</th>\n      <th>lat</th>\n      <th>lng</th>\n      <th>Average_Score</th>\n      <th>Review_Total_Word_Counts</th>\n      <th>Total_Number_of_Reviews</th>\n      <th>Total_Number_of_Reviews_Reviewer_Has_Given</th>\n      <th>Additional_Number_of_Scoring</th>\n      <th>Tags</th>\n      <th>days_since_review</th>\n      <th>Hotel_Address</th>\n      <th>Review_Date</th>\n      <th>Reviewer_Nationality</th>\n      <th>Review_Label</th>\n    </tr>\n  </thead>\n  <tbody>\n    <tr>\n      <th>0</th>\n      <td>0</td>\n      <td>Hotel Arena</td>\n      <td>Only the park outside of the hotel was beauti...</td>\n      <td>2.9</td>\n      <td>52.360576</td>\n      <td>4.915968</td>\n      <td>7.7</td>\n      <td>11</td>\n      <td>1403</td>\n      <td>7</td>\n      <td>194</td>\n      <td>[' Leisure trip ', ' Couple ', ' Duplex Double...</td>\n      <td>0 days</td>\n      <td>s Gravesandestraat 55 Oost 1092 AA Amsterdam ...</td>\n      <td>8/3/2017</td>\n      <td>Russia</td>\n      <td>Positive</td>\n    </tr>\n    <tr>\n      <th>1</th>\n      <td>1</td>\n      <td>Hotel Arena</td>\n      <td>No real complaints the hotel was great great ...</td>\n      <td>7.5</td>\n      <td>52.360576</td>\n      <td>4.915968</td>\n      <td>7.7</td>\n      <td>105</td>\n      <td>1403</td>\n      <td>7</td>\n      <td>194</td>\n      <td>[' Leisure trip ', ' Couple ', ' Duplex Double...</td>\n      <td>0 days</td>\n      <td>s Gravesandestraat 55 Oost 1092 AA Amsterdam ...</td>\n      <td>8/3/2017</td>\n      <td>Ireland</td>\n      <td>Positive</td>\n    </tr>\n    <tr>\n      <th>2</th>\n      <td>2</td>\n      <td>Hotel Arena</td>\n      <td>Location was good and staff were ok It is cut...</td>\n      <td>7.1</td>\n      <td>52.360576</td>\n      <td>4.915968</td>\n      <td>7.7</td>\n      <td>21</td>\n      <td>1403</td>\n      <td>9</td>\n      <td>194</td>\n      <td>[' Leisure trip ', ' Family with young childre...</td>\n      <td>3 days</td>\n      <td>s Gravesandestraat 55 Oost 1092 AA Amsterdam ...</td>\n      <td>7/31/2017</td>\n      <td>Australia</td>\n      <td>Positive</td>\n    </tr>\n    <tr>\n      <th>3</th>\n      <td>3</td>\n      <td>Hotel Arena</td>\n      <td>Great location in nice surroundings the bar a...</td>\n      <td>3.8</td>\n      <td>52.360576</td>\n      <td>4.915968</td>\n      <td>7.7</td>\n      <td>26</td>\n      <td>1403</td>\n      <td>1</td>\n      <td>194</td>\n      <td>[' Leisure trip ', ' Solo traveler ', ' Duplex...</td>\n      <td>3 days</td>\n      <td>s Gravesandestraat 55 Oost 1092 AA Amsterdam ...</td>\n      <td>7/31/2017</td>\n      <td>United Kingdom</td>\n      <td>Positive</td>\n    </tr>\n    <tr>\n      <th>4</th>\n      <td>4</td>\n      <td>Hotel Arena</td>\n      <td>Amazing location and building Romantic setting</td>\n      <td>6.7</td>\n      <td>52.360576</td>\n      <td>4.915968</td>\n      <td>7.7</td>\n      <td>8</td>\n      <td>1403</td>\n      <td>3</td>\n      <td>194</td>\n      <td>[' Leisure trip ', ' Couple ', ' Suite ', ' St...</td>\n      <td>10 days</td>\n      <td>s Gravesandestraat 55 Oost 1092 AA Amsterdam ...</td>\n      <td>7/24/2017</td>\n      <td>New Zealand</td>\n      <td>Positive</td>\n    </tr>\n  </tbody>\n</table>\n</div>"
          },
          "metadata": {}
        }
      ],
      "outputs_reference": null,
      "execution_count": null,
      "block_group": "f2f28aab26a6403f8e75238f83685c49"
    },
    {
      "cell_type": "code",
      "source": "#shape\ndf.shape\n",
      "metadata": {
        "source_hash": null,
        "execution_start": 1708278149401,
        "execution_millis": 284,
        "deepnote_to_be_reexecuted": false,
        "cell_id": "1a27957f3c2641fa8729707ab36a9e8b",
        "deepnote_cell_type": "code"
      },
      "outputs": [
        {
          "output_type": "execute_result",
          "execution_count": 13,
          "data": {
            "text/plain": "(1031476, 17)"
          },
          "metadata": {}
        }
      ],
      "outputs_reference": null,
      "execution_count": null,
      "block_group": "ee7ebdfbfc594ac785a739a87a812868"
    },
    {
      "cell_type": "code",
      "source": "#columns\ndf.columns",
      "metadata": {
        "source_hash": null,
        "execution_start": 1708278149405,
        "execution_millis": 281,
        "deepnote_to_be_reexecuted": false,
        "cell_id": "7d4323af326540e6aaa8334d492578b6",
        "deepnote_cell_type": "code"
      },
      "outputs": [
        {
          "output_type": "execute_result",
          "execution_count": 14,
          "data": {
            "text/plain": "Index(['Unnamed: 0', 'Hotel_Name', 'Review', 'Reviewer_Score', 'lat', 'lng',\n       'Average_Score', 'Review_Total_Word_Counts', 'Total_Number_of_Reviews',\n       'Total_Number_of_Reviews_Reviewer_Has_Given',\n       'Additional_Number_of_Scoring', 'Tags', 'days_since_review',\n       'Hotel_Address', 'Review_Date', 'Reviewer_Nationality', 'Review_Label'],\n      dtype='object')"
          },
          "metadata": {}
        }
      ],
      "outputs_reference": null,
      "execution_count": null,
      "block_group": "f5d7b50100e344da989665881779068e"
    },
    {
      "cell_type": "code",
      "source": "#viewing data types\ndf.dtypes",
      "metadata": {
        "source_hash": null,
        "execution_start": 1708278149413,
        "execution_millis": 273,
        "deepnote_to_be_reexecuted": false,
        "cell_id": "3ac0912e6f1e49bfa971c46651bc0e97",
        "deepnote_cell_type": "code"
      },
      "outputs": [
        {
          "output_type": "execute_result",
          "execution_count": 15,
          "data": {
            "text/plain": "Unnamed: 0                                      int64\nHotel_Name                                     object\nReview                                         object\nReviewer_Score                                float64\nlat                                           float64\nlng                                           float64\nAverage_Score                                 float64\nReview_Total_Word_Counts                        int64\nTotal_Number_of_Reviews                         int64\nTotal_Number_of_Reviews_Reviewer_Has_Given      int64\nAdditional_Number_of_Scoring                    int64\nTags                                           object\ndays_since_review                              object\nHotel_Address                                  object\nReview_Date                                    object\nReviewer_Nationality                           object\nReview_Label                                   object\ndtype: object"
          },
          "metadata": {}
        }
      ],
      "outputs_reference": null,
      "execution_count": null,
      "block_group": "5c470066ddb34d9991a3342b3098d5c9"
    },
    {
      "cell_type": "code",
      "source": "#Value counts\ndf['Review_Label'].value_counts()",
      "metadata": {
        "source_hash": null,
        "execution_start": 1708278149499,
        "execution_millis": 187,
        "deepnote_to_be_reexecuted": false,
        "cell_id": "e92e72b87b3e4f2e9bee6982b4f3b79d",
        "deepnote_cell_type": "code"
      },
      "outputs": [
        {
          "output_type": "execute_result",
          "execution_count": 16,
          "data": {
            "text/plain": "Positive    515738\nNegative    515738\nName: Review_Label, dtype: int64"
          },
          "metadata": {}
        }
      ],
      "outputs_reference": null,
      "execution_count": null,
      "block_group": "f2a0a76ce0584d3291fe6db135a5fcb5"
    },
    {
      "cell_type": "code",
      "source": "#msing values\ndf.isnull().sum()",
      "metadata": {
        "source_hash": null,
        "execution_start": 1708278149511,
        "execution_millis": 343,
        "deepnote_to_be_reexecuted": false,
        "cell_id": "a0a74786cf8b498c8168b4b74b2ea9ae",
        "deepnote_cell_type": "code"
      },
      "outputs": [
        {
          "output_type": "execute_result",
          "execution_count": 17,
          "data": {
            "text/plain": "Unnamed: 0                                       0\nHotel_Name                                       0\nReview                                           0\nReviewer_Score                                   0\nlat                                           6536\nlng                                           6536\nAverage_Score                                    0\nReview_Total_Word_Counts                         0\nTotal_Number_of_Reviews                          0\nTotal_Number_of_Reviews_Reviewer_Has_Given       0\nAdditional_Number_of_Scoring                     0\nTags                                             0\ndays_since_review                                0\nHotel_Address                                    0\nReview_Date                                      0\nReviewer_Nationality                             0\nReview_Label                                     0\ndtype: int64"
          },
          "metadata": {}
        }
      ],
      "outputs_reference": null,
      "execution_count": null,
      "block_group": "64b74f50366e4ce985cf3ae2e392e986"
    },
    {
      "cell_type": "code",
      "source": "#duplicates\ndf.duplicated().sum()",
      "metadata": {
        "source_hash": null,
        "execution_start": 1708278149855,
        "execution_millis": 1533,
        "deepnote_to_be_reexecuted": false,
        "cell_id": "4b341ead9c554e50a466a5a7a0a03934",
        "deepnote_cell_type": "code"
      },
      "outputs": [
        {
          "output_type": "execute_result",
          "execution_count": 18,
          "data": {
            "text/plain": "0"
          },
          "metadata": {}
        }
      ],
      "outputs_reference": null,
      "execution_count": null,
      "block_group": "31dc33b15d7c41ee999a1f0e5c92caba"
    },
    {
      "cell_type": "markdown",
      "source": "# Data Preprocessing or Preparation for Sentiment Analysis",
      "metadata": {
        "formattedRanges": [],
        "cell_id": "91167c79f41d4be0b120fe8c9dbca5ab",
        "deepnote_cell_type": "text-cell-h1"
      },
      "block_group": "043b6c7e906646cbb68ae19ed31cf20b"
    },
    {
      "cell_type": "markdown",
      "source": "This includes dropping un neccessary columns not needed for the analysis",
      "metadata": {
        "formattedRanges": [],
        "cell_id": "e74ed4ebcd2c4897865e0b540cbb980b",
        "deepnote_cell_type": "text-cell-p"
      },
      "block_group": "4c0919fa553a4c66913f7ac9bcb5a9af"
    },
    {
      "cell_type": "markdown",
      "source": "Deconding of categorical data for review lablels to numerical values",
      "metadata": {
        "formattedRanges": [],
        "cell_id": "d90b1f568be24013926f9b4974ec06e4",
        "deepnote_cell_type": "text-cell-p"
      },
      "block_group": "969f0a4413394a579927731a8a2e6499"
    },
    {
      "cell_type": "code",
      "source": "#Dropping columns\ndf.drop(['Unnamed: 0','lat','lng','Average_Score','Review_Total_Word_Counts','Total_Number_of_Reviews',\n'Total_Number_of_Reviews_Reviewer_Has_Given',\n'Additional_Number_of_Scoring','Tags','days_since_review','Hotel_Address','Review_Date',\n    'Reviewer_Nationality','Reviewer_Score','Hotel_Name'],axis=1,inplace=True)",
      "metadata": {
        "source_hash": null,
        "execution_start": 1708278151433,
        "execution_millis": 55,
        "deepnote_to_be_reexecuted": false,
        "cell_id": "42edef28d16b45d7bbc63ae4fc014033",
        "deepnote_cell_type": "code"
      },
      "outputs": [],
      "outputs_reference": null,
      "execution_count": null,
      "block_group": "117e7a9ca32b40fb907ff2030514d044"
    },
    {
      "cell_type": "code",
      "source": "#converting review labels to numerical values\ndf['Review_Label']=df['Review_Label'].map({'Positive':1,'Negative':0})",
      "metadata": {
        "source_hash": null,
        "execution_start": 1708278151466,
        "execution_millis": 45,
        "deepnote_to_be_reexecuted": false,
        "cell_id": "c05b8bbe1afb4e089c330ddf65ccf77d",
        "deepnote_cell_type": "code"
      },
      "outputs": [],
      "outputs_reference": null,
      "execution_count": null,
      "block_group": "cd6fbedda25b427c86689e83c902c023"
    },
    {
      "cell_type": "code",
      "source": "#showing first 5 rows\ndf.head(5)",
      "metadata": {
        "source_hash": null,
        "execution_start": 1708278151513,
        "execution_millis": 262,
        "deepnote_to_be_reexecuted": false,
        "cell_id": "97c1efcf9be142c99e8487fc406e4ee2",
        "deepnote_cell_type": "code"
      },
      "outputs": [
        {
          "output_type": "execute_result",
          "execution_count": 21,
          "data": {
            "application/vnd.deepnote.dataframe.v3+json": {
              "column_count": 2,
              "row_count": 5,
              "columns": [
                {
                  "name": "Review",
                  "dtype": "object",
                  "stats": {
                    "unique_count": 5,
                    "nan_count": 0,
                    "categories": [
                      {
                        "name": " Only the park outside of the hotel was beautiful ",
                        "count": 1
                      },
                      {
                        "name": " No real complaints the hotel was great great location surroundings rooms amenities and service Two recommendations however firstly the staff upon check in are very confusing regarding deposit payments and the staff offer you upon checkout to refund your original payment and you can make a new one Bit confusing Secondly the on site restaurant is a bit lacking very well thought out and excellent quality food for anyone of a vegetarian or vegan background but even a wrap or toasted sandwich option would be great Aside from those minor minor things fantastic spot and will be back when i return to Amsterdam ",
                        "count": 1
                      },
                      {
                        "name": "3 others",
                        "count": 3
                      }
                    ]
                  }
                },
                {
                  "name": "Review_Label",
                  "dtype": "int64",
                  "stats": {
                    "unique_count": 1,
                    "nan_count": 0,
                    "min": "1",
                    "max": "1",
                    "histogram": [
                      {
                        "bin_start": 0.5,
                        "bin_end": 0.6,
                        "count": 0
                      },
                      {
                        "bin_start": 0.6,
                        "bin_end": 0.7,
                        "count": 0
                      },
                      {
                        "bin_start": 0.7,
                        "bin_end": 0.8,
                        "count": 0
                      },
                      {
                        "bin_start": 0.8,
                        "bin_end": 0.9,
                        "count": 0
                      },
                      {
                        "bin_start": 0.9,
                        "bin_end": 1,
                        "count": 0
                      },
                      {
                        "bin_start": 1,
                        "bin_end": 1.1,
                        "count": 5
                      },
                      {
                        "bin_start": 1.1,
                        "bin_end": 1.2000000000000002,
                        "count": 0
                      },
                      {
                        "bin_start": 1.2000000000000002,
                        "bin_end": 1.3,
                        "count": 0
                      },
                      {
                        "bin_start": 1.3,
                        "bin_end": 1.4,
                        "count": 0
                      },
                      {
                        "bin_start": 1.4,
                        "bin_end": 1.5,
                        "count": 0
                      }
                    ]
                  }
                },
                {
                  "name": "_deepnote_index_column",
                  "dtype": "int64"
                }
              ],
              "rows": [
                {
                  "Review": " Only the park outside of the hotel was beautiful ",
                  "Review_Label": 1,
                  "_deepnote_index_column": 0
                },
                {
                  "Review": " No real complaints the hotel was great great location surroundings rooms amenities and service Two recommendations however firstly the staff upon check in are very confusing regarding deposit payments and the staff offer you upon checkout to refund your original payment and you can make a new one Bit confusing Secondly the on site restaurant is a bit lacking very well thought out and excellent quality food for anyone of a vegetarian or vegan background but even a wrap or toasted sandwich option would be great Aside from those minor minor things fantastic spot and will be back when i return to Amsterdam ",
                  "Review_Label": 1,
                  "_deepnote_index_column": 1
                },
                {
                  "Review": " Location was good and staff were ok It is cute hotel the breakfast range is nice Will go back ",
                  "Review_Label": 1,
                  "_deepnote_index_column": 2
                },
                {
                  "Review": " Great location in nice surroundings the bar and restaurant are nice and have a lovely outdoor area The building also has quite some character ",
                  "Review_Label": 1,
                  "_deepnote_index_column": 3
                },
                {
                  "Review": " Amazing location and building Romantic setting ",
                  "Review_Label": 1,
                  "_deepnote_index_column": 4
                }
              ]
            },
            "text/plain": "                                              Review  Review_Label\n0   Only the park outside of the hotel was beauti...             1\n1   No real complaints the hotel was great great ...             1\n2   Location was good and staff were ok It is cut...             1\n3   Great location in nice surroundings the bar a...             1\n4    Amazing location and building Romantic setting              1",
            "text/html": "<div>\n<style scoped>\n    .dataframe tbody tr th:only-of-type {\n        vertical-align: middle;\n    }\n\n    .dataframe tbody tr th {\n        vertical-align: top;\n    }\n\n    .dataframe thead th {\n        text-align: right;\n    }\n</style>\n<table border=\"1\" class=\"dataframe\">\n  <thead>\n    <tr style=\"text-align: right;\">\n      <th></th>\n      <th>Review</th>\n      <th>Review_Label</th>\n    </tr>\n  </thead>\n  <tbody>\n    <tr>\n      <th>0</th>\n      <td>Only the park outside of the hotel was beauti...</td>\n      <td>1</td>\n    </tr>\n    <tr>\n      <th>1</th>\n      <td>No real complaints the hotel was great great ...</td>\n      <td>1</td>\n    </tr>\n    <tr>\n      <th>2</th>\n      <td>Location was good and staff were ok It is cut...</td>\n      <td>1</td>\n    </tr>\n    <tr>\n      <th>3</th>\n      <td>Great location in nice surroundings the bar a...</td>\n      <td>1</td>\n    </tr>\n    <tr>\n      <th>4</th>\n      <td>Amazing location and building Romantic setting</td>\n      <td>1</td>\n    </tr>\n  </tbody>\n</table>\n</div>"
          },
          "metadata": {}
        }
      ],
      "outputs_reference": null,
      "execution_count": null,
      "block_group": "fa051bb074534834974ed5bad22de070"
    },
    {
      "cell_type": "markdown",
      "source": "# Text  Preprocessing for seniment Analysis",
      "metadata": {
        "formattedRanges": [],
        "cell_id": "4397a21ec7a2437ebd04e13b84a2a271",
        "deepnote_cell_type": "text-cell-h1"
      },
      "block_group": "091f15590bad4b9aa9dd49b901c08152"
    },
    {
      "cell_type": "code",
      "source": "import spacy\nimport nltk\n!python -m spacy download en_core_web_sm\nnlp = spacy.load('en_core_web_sm')\nimport re",
      "metadata": {
        "source_hash": null,
        "execution_start": 1708278151532,
        "execution_millis": 11685,
        "deepnote_to_be_reexecuted": false,
        "cell_id": "0ab885112b414a449cca550e28a71aa6",
        "deepnote_cell_type": "code"
      },
      "outputs": [],
      "outputs_reference": null,
      "execution_count": null,
      "block_group": "4e13f70b15f54397b71840b9a6ca1b44"
    },
    {
      "cell_type": "markdown",
      "source": "This  imports the `spacy` and `nltk` libraries for natural language processing tasks, and also imports the `re` library for regular expression operations. It then runs a command to download the `en_core_web_sm` model, a small English language model for spaCy, and loads this model into the `nlp` variable for further text processing tasks.",
      "metadata": {
        "formattedRanges": [],
        "cell_id": "e35794bab4e44c73902b4546564143ec",
        "deepnote_cell_type": "text-cell-p"
      },
      "block_group": "c8a3405b6cd94558b2dd90392b279d7a"
    },
    {
      "cell_type": "markdown",
      "source": "## Text cleaning",
      "metadata": {
        "formattedRanges": [],
        "cell_id": "95a619514b3a4a289cfb26ee48a2bc28",
        "deepnote_cell_type": "text-cell-h2"
      },
      "block_group": "7498bce547194c2b8e922dfacf7bb76a"
    },
    {
      "cell_type": "code",
      "source": "#Removing special characters\ndf['Review']=df['Review'].str.replace('[^\\w\\s]','')\n#Removing numbers\ndf['Review']=df['Review'].str.replace('\\d+','')\n\n#Removing punctuations\ndf['Review']=df['Review'].str.replace('[^\\w\\s]','')\n#removing  white spaces\ndf['Review']=df['Review'].str.replace('\\s+',' ')",
      "metadata": {
        "source_hash": null,
        "execution_start": 1708278163219,
        "execution_millis": 11184,
        "deepnote_to_be_reexecuted": false,
        "cell_id": "8efc4b9a77f54ee88472d0e1bbe2448b",
        "deepnote_cell_type": "code"
      },
      "outputs": [],
      "outputs_reference": null,
      "execution_count": null,
      "block_group": "564ec270d118438c897c586153378589"
    },
    {
      "cell_type": "markdown",
      "source": "This  cleans the text data in the 'Review' column of the dataframe by:\n1. Removing special characters, keeping only words (alphanumeric characters) and spaces.\n2. Removing numbers from the text.\n3. Removing punctuations, though this seems redundant as special characters (including punctuations) are already removed in the first step.\n4. Replacing multiple consecutive white spaces with a single space, to ensure text consistency.",
      "metadata": {
        "formattedRanges": [],
        "cell_id": "b63384fdde4b482484406783dc24c40d",
        "deepnote_cell_type": "text-cell-p"
      },
      "block_group": "a527ecaedf834710a6b65468e9a12411"
    },
    {
      "cell_type": "markdown",
      "source": "## Removing Stopwords",
      "metadata": {
        "formattedRanges": [],
        "cell_id": "36e2d6435a33494c881424919bb31f88",
        "deepnote_cell_type": "text-cell-h2"
      },
      "block_group": "20410ada20d94994a0de442000936d62"
    },
    {
      "cell_type": "code",
      "source": "from spacy.lang.en.stop_words import STOP_WORDS as stopwords\ndf['Review']=df['Review'].apply(lambda x: ' '.join([item for item in x.split() if item not in stopwords]))",
      "metadata": {
        "source_hash": null,
        "execution_start": 1708278174414,
        "execution_millis": 2772,
        "deepnote_to_be_reexecuted": false,
        "cell_id": "bcf305240fc84604a3c02904af1aedb1",
        "deepnote_cell_type": "code"
      },
      "outputs": [],
      "outputs_reference": null,
      "execution_count": null,
      "block_group": "a5de1c8b4e6c448ba4081348656a9d03"
    },
    {
      "cell_type": "markdown",
      "source": "This  removes stopwords from the 'Review' column of a dataframe using the `spacy` library. It iterates over each review, splits it into individual words, filters out the words that are in the predefined list of stopwords, and then joins the remaining words back into a single string.",
      "metadata": {
        "formattedRanges": [],
        "cell_id": "c32eb9775ae649bd967248ceed084ce5",
        "deepnote_cell_type": "text-cell-p"
      },
      "block_group": "616cb1a6fd7f4b5cb41385e808ec3d0b"
    },
    {
      "cell_type": "markdown",
      "source": "## Tokenization of Text Reviews",
      "metadata": {
        "formattedRanges": [],
        "cell_id": "d206ab3453e040a189811d847ab861f5",
        "deepnote_cell_type": "text-cell-h2"
      },
      "block_group": "7272f2da53ea4b21b8ade37786cfcbdb"
    },
    {
      "cell_type": "code",
      "source": "#tokenization\ndf['Review']=df['Review'].apply(lambda x: ' '.join([item for item in x.split()]))",
      "metadata": {
        "source_hash": null,
        "execution_start": 1708278177189,
        "execution_millis": 1453,
        "deepnote_to_be_reexecuted": false,
        "cell_id": "47af52882d1241ccab76ea30df73f018",
        "deepnote_cell_type": "code"
      },
      "outputs": [],
      "outputs_reference": null,
      "execution_count": null,
      "block_group": "fcdd8420225d497eb20bf67ada8a0b31"
    },
    {
      "cell_type": "markdown",
      "source": "This  tokenizes the text data in the 'Review' column of a dataframe by splitting each review into individual words (tokens) and then joining them back together into a single string. Essentially, this process transforms each review by separating and then immediately recombining the words, effectively leaving the text unchanged. This action might be intended to clean up whitespace or ensure consistent spacing between words, but as presented, it does not alter the textual content beyond potentially normalizing whitespace.",
      "metadata": {
        "formattedRanges": [],
        "cell_id": "ec907cda4ccf4e89b5f954fa2f8cf715",
        "deepnote_cell_type": "text-cell-p"
      },
      "block_group": "d5d3a16beac045229089707ba28031ff"
    },
    {
      "cell_type": "markdown",
      "source": "## Lemmatization",
      "metadata": {
        "formattedRanges": [],
        "cell_id": "7ea69bf7dfc64b96ab64fcdab624302f",
        "deepnote_cell_type": "text-cell-h2"
      },
      "block_group": "7e0c14fbced644d6b697b033632a6119"
    },
    {
      "cell_type": "code",
      "source": "#Lemmatization\ndf['Review']=df['Review'].apply(lambda x: ' '.join([item.lemma_ for item in nlp(x)]))",
      "metadata": {
        "source_hash": null,
        "execution_start": 1708278178655,
        "execution_millis": 4473259,
        "deepnote_to_be_reexecuted": false,
        "cell_id": "8f9ce9cb230349e38686ab4a49bd5155",
        "deepnote_cell_type": "code"
      },
      "outputs": [],
      "outputs_reference": null,
      "execution_count": null,
      "block_group": "3620e55d7877437090aa3e9b1490a974"
    },
    {
      "cell_type": "markdown",
      "source": "This  performs lemmatization on the 'Review' column of a dataframe. It processes each review using the spaCy NLP model loaded into the `nlp` variable, identifies the base form (lemma) of each word in the review, and then combines these lemmatized words back into a single string. Thus, it transforms each review by replacing words with their root form, standardizing variations of a word to its core meaning.",
      "metadata": {
        "formattedRanges": [],
        "cell_id": "c90add0a4e5f41829acb6a657cfca375",
        "deepnote_cell_type": "text-cell-p"
      },
      "block_group": "5c62619bb610446ebd93e523df85561d"
    },
    {
      "cell_type": "code",
      "source": "#showing first 5 rows\ndf.head(5)",
      "metadata": {
        "source_hash": null,
        "execution_start": 1708282651915,
        "execution_millis": 228,
        "deepnote_to_be_reexecuted": false,
        "cell_id": "f41cf6ff61f245ebbfd632b6b06ebc8b",
        "deepnote_cell_type": "code"
      },
      "outputs": [
        {
          "output_type": "execute_result",
          "execution_count": 27,
          "data": {
            "application/vnd.deepnote.dataframe.v3+json": {
              "column_count": 2,
              "row_count": 5,
              "columns": [
                {
                  "name": "Review",
                  "dtype": "object",
                  "stats": {
                    "unique_count": 5,
                    "nan_count": 0,
                    "categories": [
                      {
                        "name": "only park outside hotel beautiful",
                        "count": 1
                      },
                      {
                        "name": "no real complaint hotel great great location surrounding room amenity service two recommendation firstly staff check confuse deposit payment staff offer checkout refund original payment new bit confusing secondly site restaurant bit lack think excellent quality food vegetarian vegan background wrap toast sandwich option great aside minor minor thing fantastic spot return Amsterdam",
                        "count": 1
                      },
                      {
                        "name": "3 others",
                        "count": 3
                      }
                    ]
                  }
                },
                {
                  "name": "Review_Label",
                  "dtype": "int64",
                  "stats": {
                    "unique_count": 1,
                    "nan_count": 0,
                    "min": "1",
                    "max": "1",
                    "histogram": [
                      {
                        "bin_start": 0.5,
                        "bin_end": 0.6,
                        "count": 0
                      },
                      {
                        "bin_start": 0.6,
                        "bin_end": 0.7,
                        "count": 0
                      },
                      {
                        "bin_start": 0.7,
                        "bin_end": 0.8,
                        "count": 0
                      },
                      {
                        "bin_start": 0.8,
                        "bin_end": 0.9,
                        "count": 0
                      },
                      {
                        "bin_start": 0.9,
                        "bin_end": 1,
                        "count": 0
                      },
                      {
                        "bin_start": 1,
                        "bin_end": 1.1,
                        "count": 5
                      },
                      {
                        "bin_start": 1.1,
                        "bin_end": 1.2000000000000002,
                        "count": 0
                      },
                      {
                        "bin_start": 1.2000000000000002,
                        "bin_end": 1.3,
                        "count": 0
                      },
                      {
                        "bin_start": 1.3,
                        "bin_end": 1.4,
                        "count": 0
                      },
                      {
                        "bin_start": 1.4,
                        "bin_end": 1.5,
                        "count": 0
                      }
                    ]
                  }
                },
                {
                  "name": "_deepnote_index_column",
                  "dtype": "int64"
                }
              ],
              "rows": [
                {
                  "Review": "only park outside hotel beautiful",
                  "Review_Label": 1,
                  "_deepnote_index_column": 0
                },
                {
                  "Review": "no real complaint hotel great great location surrounding room amenity service two recommendation firstly staff check confuse deposit payment staff offer checkout refund original payment new bit confusing secondly site restaurant bit lack think excellent quality food vegetarian vegan background wrap toast sandwich option great aside minor minor thing fantastic spot return Amsterdam",
                  "Review_Label": 1,
                  "_deepnote_index_column": 1
                },
                {
                  "Review": "location good staff ok it cute hotel breakfast range nice will",
                  "Review_Label": 1,
                  "_deepnote_index_column": 2
                },
                {
                  "Review": "great location nice surrounding bar restaurant nice lovely outdoor area the building character",
                  "Review_Label": 1,
                  "_deepnote_index_column": 3
                },
                {
                  "Review": "amazing location build romantic setting",
                  "Review_Label": 1,
                  "_deepnote_index_column": 4
                }
              ]
            },
            "text/plain": "                                              Review  Review_Label\n0                  only park outside hotel beautiful             1\n1  no real complaint hotel great great location s...             1\n2  location good staff ok it cute hotel breakfast...             1\n3  great location nice surrounding bar restaurant...             1\n4            amazing location build romantic setting             1",
            "text/html": "<div>\n<style scoped>\n    .dataframe tbody tr th:only-of-type {\n        vertical-align: middle;\n    }\n\n    .dataframe tbody tr th {\n        vertical-align: top;\n    }\n\n    .dataframe thead th {\n        text-align: right;\n    }\n</style>\n<table border=\"1\" class=\"dataframe\">\n  <thead>\n    <tr style=\"text-align: right;\">\n      <th></th>\n      <th>Review</th>\n      <th>Review_Label</th>\n    </tr>\n  </thead>\n  <tbody>\n    <tr>\n      <th>0</th>\n      <td>only park outside hotel beautiful</td>\n      <td>1</td>\n    </tr>\n    <tr>\n      <th>1</th>\n      <td>no real complaint hotel great great location s...</td>\n      <td>1</td>\n    </tr>\n    <tr>\n      <th>2</th>\n      <td>location good staff ok it cute hotel breakfast...</td>\n      <td>1</td>\n    </tr>\n    <tr>\n      <th>3</th>\n      <td>great location nice surrounding bar restaurant...</td>\n      <td>1</td>\n    </tr>\n    <tr>\n      <th>4</th>\n      <td>amazing location build romantic setting</td>\n      <td>1</td>\n    </tr>\n  </tbody>\n</table>\n</div>"
          },
          "metadata": {}
        }
      ],
      "outputs_reference": null,
      "execution_count": null,
      "block_group": "5676105ac39b4bf58197d5af1025fcb3"
    },
    {
      "cell_type": "markdown",
      "source": "# Feature Engineering or Extraction",
      "metadata": {
        "formattedRanges": [],
        "cell_id": "4b9782f4358442f98bd94f3b6ba188df",
        "deepnote_cell_type": "text-cell-h1"
      },
      "block_group": "84ae51e2ae7f4a9da93dad52fa35e7cd"
    },
    {
      "cell_type": "markdown",
      "source": "## Converting processed review text to Numeric",
      "metadata": {
        "formattedRanges": [],
        "cell_id": "9712e949b37f45758507fc49e81919c8",
        "deepnote_cell_type": "text-cell-h2"
      },
      "block_group": "363b22f996ea4f2da0b793c7a6cc58b9"
    },
    {
      "cell_type": "code",
      "source": "#Converting revview text to numeric using  TF-IDF\nfrom sklearn.feature_extraction.text import TfidfVectorizer\ntfidf = TfidfVectorizer()\nreviews = tfidf.fit_transform(df['Review'])",
      "metadata": {
        "source_hash": null,
        "execution_start": 1708282651917,
        "execution_millis": 7591,
        "deepnote_to_be_reexecuted": false,
        "cell_id": "4606e45b97034768a0b3e773b503f7ed",
        "deepnote_cell_type": "code"
      },
      "outputs": [],
      "outputs_reference": null,
      "execution_count": null,
      "block_group": "6c0ee60991ee4ed595fd91dbaff509f9"
    },
    {
      "cell_type": "markdown",
      "source": "This  converts the processed review text into numerical values using the Term Frequency-Inverse Document Frequency (TF-IDF) method. It imports the `TfidfVectorizer` class from `sklearn.feature_extraction.text`, initializes an instance of `TfidfVectorizer`, and then fits this vectorizer to the 'Review' column of the dataframe `df`. This creates a TF-IDF matrix named `reviews` where each row corresponds to a document (review in this case) and each column represents a unique word in the text corpus, with values that quantify the importance of each word in each document.",
      "metadata": {
        "formattedRanges": [],
        "cell_id": "46b1d521e08b4ed6960ea51db3e14b8e",
        "deepnote_cell_type": "text-cell-p"
      },
      "block_group": "a71978f89e1b4b36833745432a4f73ec"
    },
    {
      "cell_type": "code",
      "source": "#showing first 5 rows\nreviews",
      "metadata": {
        "source_hash": null,
        "execution_start": 1708282659509,
        "execution_millis": 82,
        "deepnote_to_be_reexecuted": false,
        "cell_id": "54439d0b96934493aa50718eb75ee641",
        "deepnote_cell_type": "code"
      },
      "outputs": [
        {
          "output_type": "execute_result",
          "execution_count": 29,
          "data": {
            "text/plain": "<1031476x69920 sparse matrix of type '<class 'numpy.float64'>'\n\twith 8923827 stored elements in Compressed Sparse Row format>"
          },
          "metadata": {}
        }
      ],
      "outputs_reference": null,
      "execution_count": null,
      "block_group": "b69b4f8de91e4645b0eeb47a8d7277f1"
    },
    {
      "cell_type": "markdown",
      "source": "This output provides a summary of a sparse matrix. Here's what each part means:\n\n- **<1031476x69920 sparse matrix of type '<class 'numpy.float64'>:** This means that the matrix has 1,031,476 rows and 69,920 columns. It is a sparse matrix, meaning most of its values are zero, and only non-zero values are stored. The dtype of the matrix is numpy.float64, meaning the values in the matrix are floating-point numbers.\n\n- **With 8923827 stored elements:** Out of the total elements in the matrix (1,031,476 * 69,920), only 8,923,827 elements are non-zero and therefore stored.\n\n-** In Compressed Sparse Row format: **This indicates the storage format of the sparse matrix. Compressed Sparse Row (CSR) is a commonly used format for storing sparse matrices efficiently. It involves saving the values of non-zero elements along with their row and column indices instead of saving the whole matrix.\n\nIn the context of Natural Language Processing (NLP) or text data processing, such matrices typically represent a collection of text documents transformed into numerical values using techniques like TF-IDF, where each row of the matrix might correspond to a document and each column might represent a unique word in the entire corpus of documents. Sparse matrices are a memory-efficient way to handle such data, as text corpora often contain a large number of unique words, leading to high dimensionality, but each individual document generally only contains a small subset of these words, hence leading to sparsity.",
      "metadata": {
        "formattedRanges": [],
        "cell_id": "1aa0284d6e3b4a2db7e5663bd1ecc3c1",
        "deepnote_cell_type": "text-cell-p"
      },
      "block_group": "169dffdc3b434106935cc3a7e9e1ed97"
    },
    {
      "cell_type": "markdown",
      "source": "# Model Training-Naive Bayes",
      "metadata": {
        "formattedRanges": [],
        "cell_id": "324bceb667394df486b2c47577679763",
        "deepnote_cell_type": "text-cell-h1"
      },
      "block_group": "0fbf0ada83ef48d1a36bfef9db0f8cb9"
    },
    {
      "cell_type": "markdown",
      "source": "## Splitting data into Training & Testing Sets",
      "metadata": {
        "formattedRanges": [],
        "cell_id": "0e1a39babc894c86b8e15ee009f5c994",
        "deepnote_cell_type": "text-cell-h2"
      },
      "block_group": "e7c008a7c3f14cff8ddbe224e374ebcf"
    },
    {
      "cell_type": "code",
      "source": "#splitting dataframe into training and testing sets\n\nfrom sklearn.model_selection import train_test_split\nX_train, X_test, y_train, y_test = train_test_split(reviews, df['Review_Label'], test_size=0.2, random_state=42)\n",
      "metadata": {
        "source_hash": null,
        "execution_start": 1708282659510,
        "execution_millis": 125,
        "deepnote_to_be_reexecuted": false,
        "cell_id": "3c4eeacb10504871850ceedc7af6b60b",
        "deepnote_cell_type": "code"
      },
      "outputs": [],
      "outputs_reference": null,
      "execution_count": null,
      "block_group": "9d047c062c0446f49a90df5db433b9a5"
    },
    {
      "cell_type": "code",
      "source": "#train set\nX_train.shape",
      "metadata": {
        "source_hash": null,
        "execution_start": 1708282659638,
        "execution_millis": 70,
        "deepnote_to_be_reexecuted": false,
        "cell_id": "ede30479d5f842b2a650869596afe600",
        "deepnote_cell_type": "code"
      },
      "outputs": [
        {
          "output_type": "execute_result",
          "execution_count": 31,
          "data": {
            "text/plain": "(825180, 69920)"
          },
          "metadata": {}
        }
      ],
      "outputs_reference": null,
      "execution_count": null,
      "block_group": "0a4521a64d444250bcc28524bab37448"
    },
    {
      "cell_type": "code",
      "source": "#test set\nX_test.shape",
      "metadata": {
        "source_hash": null,
        "execution_start": 1708282659646,
        "execution_millis": 90,
        "deepnote_to_be_reexecuted": false,
        "cell_id": "11531dad80394bfd8120d5f96d93d31f",
        "deepnote_cell_type": "code"
      },
      "outputs": [
        {
          "output_type": "execute_result",
          "execution_count": 32,
          "data": {
            "text/plain": "(206296, 69920)"
          },
          "metadata": {}
        }
      ],
      "outputs_reference": null,
      "execution_count": null,
      "block_group": "c41b6afc0cfe4371a0695467a27f81b2"
    },
    {
      "cell_type": "markdown",
      "source": "## Naive Bayes Model Training ",
      "metadata": {
        "formattedRanges": [],
        "cell_id": "a7352c977eed4bbb81eb55a9aeddc0e5",
        "deepnote_cell_type": "text-cell-h2"
      },
      "block_group": "0bb0bd2dabd24644b7df9643f290b739"
    },
    {
      "cell_type": "code",
      "source": "# Model Training-Naive Bayes\nfrom sklearn.naive_bayes import MultinomialNB\nclf = MultinomialNB()\nclf.fit(X_train, y_train)\n",
      "metadata": {
        "source_hash": null,
        "execution_start": 1708282659651,
        "execution_millis": 136,
        "deepnote_to_be_reexecuted": false,
        "cell_id": "31ca9e0c731046e7863833bd0b0c596a",
        "deepnote_cell_type": "code"
      },
      "outputs": [
        {
          "output_type": "execute_result",
          "execution_count": 33,
          "data": {
            "text/plain": "MultinomialNB()",
            "text/html": "<style>#sk-container-id-1 {color: black;background-color: white;}#sk-container-id-1 pre{padding: 0;}#sk-container-id-1 div.sk-toggleable {background-color: white;}#sk-container-id-1 label.sk-toggleable__label {cursor: pointer;display: block;width: 100%;margin-bottom: 0;padding: 0.3em;box-sizing: border-box;text-align: center;}#sk-container-id-1 label.sk-toggleable__label-arrow:before {content: \"▸\";float: left;margin-right: 0.25em;color: #696969;}#sk-container-id-1 label.sk-toggleable__label-arrow:hover:before {color: black;}#sk-container-id-1 div.sk-estimator:hover label.sk-toggleable__label-arrow:before {color: black;}#sk-container-id-1 div.sk-toggleable__content {max-height: 0;max-width: 0;overflow: hidden;text-align: left;background-color: #f0f8ff;}#sk-container-id-1 div.sk-toggleable__content pre {margin: 0.2em;color: black;border-radius: 0.25em;background-color: #f0f8ff;}#sk-container-id-1 input.sk-toggleable__control:checked~div.sk-toggleable__content {max-height: 200px;max-width: 100%;overflow: auto;}#sk-container-id-1 input.sk-toggleable__control:checked~label.sk-toggleable__label-arrow:before {content: \"▾\";}#sk-container-id-1 div.sk-estimator input.sk-toggleable__control:checked~label.sk-toggleable__label {background-color: #d4ebff;}#sk-container-id-1 div.sk-label input.sk-toggleable__control:checked~label.sk-toggleable__label {background-color: #d4ebff;}#sk-container-id-1 input.sk-hidden--visually {border: 0;clip: rect(1px 1px 1px 1px);clip: rect(1px, 1px, 1px, 1px);height: 1px;margin: -1px;overflow: hidden;padding: 0;position: absolute;width: 1px;}#sk-container-id-1 div.sk-estimator {font-family: monospace;background-color: #f0f8ff;border: 1px dotted black;border-radius: 0.25em;box-sizing: border-box;margin-bottom: 0.5em;}#sk-container-id-1 div.sk-estimator:hover {background-color: #d4ebff;}#sk-container-id-1 div.sk-parallel-item::after {content: \"\";width: 100%;border-bottom: 1px solid gray;flex-grow: 1;}#sk-container-id-1 div.sk-label:hover label.sk-toggleable__label {background-color: #d4ebff;}#sk-container-id-1 div.sk-serial::before {content: \"\";position: absolute;border-left: 1px solid gray;box-sizing: border-box;top: 0;bottom: 0;left: 50%;z-index: 0;}#sk-container-id-1 div.sk-serial {display: flex;flex-direction: column;align-items: center;background-color: white;padding-right: 0.2em;padding-left: 0.2em;position: relative;}#sk-container-id-1 div.sk-item {position: relative;z-index: 1;}#sk-container-id-1 div.sk-parallel {display: flex;align-items: stretch;justify-content: center;background-color: white;position: relative;}#sk-container-id-1 div.sk-item::before, #sk-container-id-1 div.sk-parallel-item::before {content: \"\";position: absolute;border-left: 1px solid gray;box-sizing: border-box;top: 0;bottom: 0;left: 50%;z-index: -1;}#sk-container-id-1 div.sk-parallel-item {display: flex;flex-direction: column;z-index: 1;position: relative;background-color: white;}#sk-container-id-1 div.sk-parallel-item:first-child::after {align-self: flex-end;width: 50%;}#sk-container-id-1 div.sk-parallel-item:last-child::after {align-self: flex-start;width: 50%;}#sk-container-id-1 div.sk-parallel-item:only-child::after {width: 0;}#sk-container-id-1 div.sk-dashed-wrapped {border: 1px dashed gray;margin: 0 0.4em 0.5em 0.4em;box-sizing: border-box;padding-bottom: 0.4em;background-color: white;}#sk-container-id-1 div.sk-label label {font-family: monospace;font-weight: bold;display: inline-block;line-height: 1.2em;}#sk-container-id-1 div.sk-label-container {text-align: center;}#sk-container-id-1 div.sk-container {/* jupyter's `normalize.less` sets `[hidden] { display: none; }` but bootstrap.min.css set `[hidden] { display: none !important; }` so we also need the `!important` here to be able to override the default hidden behavior on the sphinx rendered scikit-learn.org. See: https://github.com/scikit-learn/scikit-learn/issues/21755 */display: inline-block !important;position: relative;}#sk-container-id-1 div.sk-text-repr-fallback {display: none;}</style><div id=\"sk-container-id-1\" class=\"sk-top-container\"><div class=\"sk-text-repr-fallback\"><pre>MultinomialNB()</pre><b>In a Jupyter environment, please rerun this cell to show the HTML representation or trust the notebook. <br />On GitHub, the HTML representation is unable to render, please try loading this page with nbviewer.org.</b></div><div class=\"sk-container\" hidden><div class=\"sk-item\"><div class=\"sk-estimator sk-toggleable\"><input class=\"sk-toggleable__control sk-hidden--visually\" id=\"sk-estimator-id-1\" type=\"checkbox\" checked><label for=\"sk-estimator-id-1\" class=\"sk-toggleable__label sk-toggleable__label-arrow\">MultinomialNB</label><div class=\"sk-toggleable__content\"><pre>MultinomialNB()</pre></div></div></div></div></div>"
          },
          "metadata": {}
        }
      ],
      "outputs_reference": null,
      "execution_count": null,
      "block_group": "f948809160884c75b28fcea7c9b34d8f"
    },
    {
      "cell_type": "markdown",
      "source": "This imports the `MultinomialNB` class from `sklearn.naive_bayes`, initializes an instance of `MultinomialNB`, and fits this model to the training data `X_train` and `y_train`. The purpose is to train a Naive Bayes classifier on the given training dataset.",
      "metadata": {
        "formattedRanges": [],
        "cell_id": "fefc0786f9dc43398f75ab93b4368902",
        "deepnote_cell_type": "text-cell-p"
      },
      "block_group": "13dded7ccce0480299748a4ff4e37269"
    },
    {
      "cell_type": "markdown",
      "source": "## Model Evaluation",
      "metadata": {
        "formattedRanges": [],
        "cell_id": "04110f03e745437ba4c46ee3a36e0334",
        "deepnote_cell_type": "text-cell-h2"
      },
      "block_group": "7709076972da4560a8e72c0f20a99c3e"
    },
    {
      "cell_type": "markdown",
      "source": "### Evaluation on training dataset",
      "metadata": {
        "formattedRanges": [],
        "cell_id": "f77f162fbc3b45e3a055213ef9efec5d",
        "deepnote_cell_type": "text-cell-h3"
      },
      "block_group": "e92c6c46816c40098419ac541d5ebf13"
    },
    {
      "cell_type": "code",
      "source": "# Evaluation on training data\nfrom sklearn.metrics import accuracy_score\ny_pred = clf.predict(X_train)\naccuracy_score(y_train, y_pred)",
      "metadata": {
        "source_hash": null,
        "execution_start": 1708282659794,
        "execution_millis": 161,
        "deepnote_to_be_reexecuted": false,
        "cell_id": "9eb6d21ffdf64da2b43e0af21edd627b",
        "deepnote_cell_type": "code"
      },
      "outputs": [
        {
          "output_type": "execute_result",
          "execution_count": 34,
          "data": {
            "text/plain": "0.9302721830388522"
          },
          "metadata": {}
        }
      ],
      "outputs_reference": null,
      "execution_count": null,
      "block_group": "02869951bb774407971708b495b5b486"
    },
    {
      "cell_type": "markdown",
      "source": "This  evaluates the performance of a trained Naive Bayes classifier on the training dataset by calculating its accuracy. It uses the `accuracy_score` function from `sklearn.metrics` to compare the classifier's predictions (`y_pred`) on the training data (`X_train`) with the true labels (`y_train`). The `predict` method of the classifier (`clf`) is used to generate predictions for each sample in the training set, and then the accuracy score is computed as the proportion of correct predictions.",
      "metadata": {
        "formattedRanges": [],
        "cell_id": "2e0db48457694d028df0d87fc5143ed6",
        "deepnote_cell_type": "text-cell-p"
      },
      "block_group": "5d5641e733624f5aab2ce95851e39d0e"
    },
    {
      "cell_type": "markdown",
      "source": "### Evaluation on Testing dataset",
      "metadata": {
        "formattedRanges": [],
        "cell_id": "d683036c30a6458f815ce37cece2d91f",
        "deepnote_cell_type": "text-cell-h3"
      },
      "block_group": "7255f24201a44a169db79ed7881977cb"
    },
    {
      "cell_type": "code",
      "source": "# Evaluation on testing data\nfrom sklearn.metrics import accuracy_score\ny_pred = clf.predict(X_test)\naccuracy_score(y_test, y_pred)",
      "metadata": {
        "source_hash": null,
        "execution_start": 1708282659895,
        "execution_millis": 60,
        "deepnote_to_be_reexecuted": false,
        "cell_id": "a14198a20917434fac1ac3d10ab01e2c",
        "deepnote_cell_type": "code"
      },
      "outputs": [
        {
          "output_type": "execute_result",
          "execution_count": 35,
          "data": {
            "text/plain": "0.9276476519176329"
          },
          "metadata": {}
        }
      ],
      "outputs_reference": null,
      "execution_count": null,
      "block_group": "2fce53c919c94799a71871fec63e0c31"
    },
    {
      "cell_type": "markdown",
      "source": "This evaluates the performance of a trained classifier on the testing dataset by calculating its accuracy. It imports the `accuracy_score` function to compute the proportion of correct predictions made by the classifier (identified as `clf`) on the testing data (`X_test`) against the true labels (`y_test`). The classifier's `predict` method generates predictions (`y_pred`) for each sample in the testing set, and the accuracy score is then derived from these predictions.",
      "metadata": {
        "formattedRanges": [],
        "cell_id": "ed99615b6cd2488c99c16786fbe46b36",
        "deepnote_cell_type": "text-cell-p"
      },
      "block_group": "d5ec26eebbde494eacd7420edc719633"
    },
    {
      "cell_type": "markdown",
      "source": "### Compare performance on the train and test data",
      "metadata": {
        "formattedRanges": [],
        "cell_id": "b3a7fdd5dc984e5baa43c469edee48d1",
        "deepnote_cell_type": "text-cell-h3"
      },
      "block_group": "0be26c3ad53a4dc9a9fd91db9a770cbc"
    },
    {
      "cell_type": "code",
      "source": "#comparing performance on the train and test data\nfrom sklearn.metrics import confusion_matrix\nprint(confusion_matrix(y_test, y_pred))",
      "metadata": {
        "source_hash": null,
        "execution_start": 1708282659944,
        "execution_millis": 65,
        "deepnote_to_be_reexecuted": false,
        "cell_id": "14667d0e5c8f4cdd9ef4c3618b66a4ab",
        "deepnote_cell_type": "code"
      },
      "outputs": [
        {
          "name": "stdout",
          "text": "[[94762  8329]\n [ 6597 96608]]\n",
          "output_type": "stream"
        }
      ],
      "outputs_reference": null,
      "execution_count": null,
      "block_group": "15c4e01958d2444a9d1d4351b16ae74a"
    },
    {
      "cell_type": "markdown",
      "source": "This  imports the `confusion_matrix` function from `sklearn.metrics` and applies it to compare the performance of a trained model by calculating its confusion matrix based on the predictions (`y_pred`) and the actual labels (`y_test`) from the test data. It then prints the confusion matrix, providing a summary of the prediction results, where each row of the matrix represents the instances in a predicted class, and each column represents the instances in an actual class.",
      "metadata": {
        "formattedRanges": [],
        "cell_id": "1ad4a59d1a3240c69458a4877d625e87",
        "deepnote_cell_type": "text-cell-p"
      },
      "block_group": "218711a2ba7c4b8a80f2b6c7494f9e33"
    },
    {
      "cell_type": "markdown",
      "source": "# Model Deployment and Future Use",
      "metadata": {
        "formattedRanges": [],
        "cell_id": "63b33c8ae7b148a683488bf744e286dd",
        "deepnote_cell_type": "text-cell-h1"
      },
      "block_group": "6c74cd7c9a2449dcaff9a3da15d460c5"
    },
    {
      "cell_type": "markdown",
      "source": "## Saving the final trained model for future use on new data",
      "metadata": {
        "formattedRanges": [],
        "cell_id": "1eb42034d42f4f44aa04183871d41503",
        "deepnote_cell_type": "text-cell-h2"
      },
      "block_group": "5981148440f0453da8a19c412c139b37"
    },
    {
      "cell_type": "code",
      "source": "# Saving Model to google drive\nimport joblib\njoblib.dump(clf, 'sentiment_model.pkl')",
      "metadata": {
        "source_hash": null,
        "execution_start": 1708282659954,
        "execution_millis": 266,
        "deepnote_to_be_reexecuted": false,
        "cell_id": "4c241a7d16ff4884b09c95ac2d13e217",
        "deepnote_cell_type": "code"
      },
      "outputs": [
        {
          "output_type": "execute_result",
          "execution_count": 37,
          "data": {
            "text/plain": "['sentiment_model.pkl']"
          },
          "metadata": {}
        }
      ],
      "outputs_reference": null,
      "execution_count": null,
      "block_group": "852529ee460543d19d28ad38287db43f"
    },
    {
      "cell_type": "markdown",
      "source": "This  imports the `joblib` library and then uses its `dump` function to save the trained model `clf` to a file named `'sentiment_model.pkl'`.",
      "metadata": {
        "formattedRanges": [],
        "cell_id": "f2fa6147a9034f849cb3bd2fcb0b107a",
        "deepnote_cell_type": "text-cell-p"
      },
      "block_group": "14dcb4dda77748eb912cd6059c0495f1"
    },
    {
      "cell_type": "markdown",
      "source": "# Conclusion",
      "metadata": {
        "is_collapsed": false,
        "formattedRanges": [],
        "deepnote_app_block_visible": false,
        "cell_id": "9c70bcc68aa3430fb9b41ee619988aed",
        "deepnote_cell_type": "text-cell-h1"
      },
      "block_group": "04234ebe99bc4e04814ac90813f8b4cc"
    },
    {
      "cell_type": "markdown",
      "source": "Throughout the task, a dataset containing hotel reviews was analyzed. The analysis involved several steps:\n\n- Loading and examining the structure of the dataset.\n- Cleaning the review text data by removing special characters, numbers, multiple spaces, and stopwords, performing tokenization, and lemmatizing the words.\n- Converting the cleaned review text into numerical format using the TF-IDF method.\n- Splitting the data into a training set and a testing set.\n- Training and evaluating a Naive Bayes classifier on the training data.\n- Testing the classifier's performance on the testing data.\n- Saving the trained model for future use.\n\nFollowing these steps allowed the creation of a model that can be used to predict the sentiment of a review (whether it is positive or negative) based on its content. The performance of this model was evaluated using accuracy as a metric, and it was found to perform satisfactorily on both the training and testing data, indicating its potential effectiveness in real-world sentiment analysis tasks.",
      "metadata": {
        "cell_id": "976740ab870545799e467f82b5dc7043",
        "deepnote_cell_type": "text-cell-p"
      },
      "block_group": "c67f73db90e44a11bc14dd7c92a07077"
    },
    {
      "cell_type": "markdown",
      "source": "## Interpretation of  model performance",
      "metadata": {
        "is_collapsed": false,
        "formattedRanges": [],
        "deepnote_app_block_visible": false,
        "cell_id": "f32d572a75cd47a3ba2f069f03ed34f9",
        "deepnote_cell_type": "text-cell-h2"
      },
      "block_group": "a503f6015d3a4caba77919dea2ca59c2"
    },
    {
      "cell_type": "markdown",
      "source": "The performance of the model was evaluated using accuracy as the metric on both training and testing datasets. On the training dataset, the model yielded an accuracy of approximately 93.0%, whereas, on the unseen testing data, the model achieved a similar accuracy of approximately 92.7%. \n\nThis performance indicates that the model has learned and generalized well from the training data, performing almost just as well on new, unseen data. This suggests that the model is a good fit for the data, as it isn't overfitting (where the model learns the training data so well that it performs poorly on new data) or underfitting (where the model doesn't learn enough from the training data to make accurate predictions).\n\nHowever, while accuracy is a useful metric, it's important to remember that it's not the only factor to be considered when evaluating model performance. It may be beneficial to examine other aspects such as precision, recall or use an F1 score, particularly in cases where the dataset is imbalanced. \n\nLooking at the confusion matrix, which shows the number of true positive, true negative, false positive, and false negative predictions, we see the model results in large numbers of both true positives and true negatives, suggesting it's effective at predicting both classes. \n\nIn summary, the Naive Bayes classifier seems to provide a good fit for the text sentiment analysis task.",
      "metadata": {
        "cell_id": "1514e53df401416791935d106bec1310",
        "deepnote_cell_type": "text-cell-p"
      },
      "block_group": "190a19eb9296407c983de4776e4b3d8f"
    },
    {
      "cell_type": "markdown",
      "source": "# Documentation and Reporting ",
      "metadata": {
        "is_collapsed": false,
        "formattedRanges": [],
        "deepnote_app_block_visible": false,
        "cell_id": "91a92b919a4b43b49398f08f0ed55e9f",
        "deepnote_cell_type": "text-cell-h1"
      },
      "block_group": "ea31a23dde9f48e1ac21015dd9fb317f"
    },
    {
      "cell_type": "markdown",
      "source": "This notebook encompasses a thorough analysis and development phase of a sentiment analysis model on a hotel review dataset with around 515K entries. Here is a summarization of the undertakings in each key segment:\n\n- **Data Acquisition and Preparation:** The hotel reviews dataset was loaded from a remote server. Some columns irrelevant to sentiment analysis were dropped and the dataset was divided into two categories - positive and negative reviews. Labels were assigned to reviews accordingly. This data was then concatenated vertically into a single dataframe. \n\n- **Exploratory Data Analysis (EDA):** Initial analysis of the dataset was undertaken. That included checking the dimensions of the dataset, viewing column names, examining if the columns for positive and negative reviews are aligned, visualizing data distribution, checking for missing and duplicate values.\n\n- **Data Preprocessing or Preparation for Sentiment Analysis:** Unnecessary columns were removed and review labels were encoded to numerical values (1 for Positive and 0 for Negative) to provide a suitable format for model training.\n\n- **Text Preprocessing for sentiment analysis:** The review column underwent a sequence of text preprocessing stages including cleaning (removal of special characters, numbers, and whitespaces), removing stopwords, tokenization, and lemmatization. This was done to reduce noise and redundancy in the text data.\n\n- **Feature Engineering or Extraction:** The cleaned and preprocessed text was then converted to numerical values using the TF-IDF method to be used for model training.\n\n- **Model Training - Naive Bayes:** The processed dataset was divided into a training set (80%) and a testing set (20%). A Naive Bayes classifier was trained on the training data.\n\n- **Model Evaluation:** The classifier's accuracy was calculated on both the training and testing data sets. The model yielded an accuracy of 93% on the training set and 92.7% on the testing set. A confusion matrix was also generated to visualize the model's performance.\n\n- **Model Deployment and Future Use:** The trained model was saved as 'sentiment_model.pkl' file for future sentiment analysis on new data.\n\nThe notebook provides an elaborate pipeline starting from data acquisition to model deployment for performing sentiment analysis on hotel reviews. The constructed model demonstrates high accuracy and can be utilized for determining the sentiment polarity of unseen hotel reviews. However, in the endeavors of further model improvements, other metrics like precision, recall, and F1-score can be considered, along with hyperparameter tuning and usage of other model algorithms.",
      "metadata": {
        "cell_id": "ffe4c55b04394b59aae7ebbc5f1e0a47",
        "deepnote_cell_type": "text-cell-p"
      },
      "block_group": "859b7c93809346c6aefd640c1b3c12ff"
    },
    {
      "cell_type": "markdown",
      "source": "<a style='text-decoration:none;line-height:16px;display:flex;color:#5B5B62;padding:10px;justify-content:end;' href='https://deepnote.com?utm_source=created-in-deepnote-cell&projectId=43631d8c-7d99-489c-9a08-e61cd5c0de2c' target=\"_blank\">\n<img alt='Created in deepnote.com' style='display:inline;max-height:16px;margin:0px;margin-right:7.5px;' src='data:image/svg+xml;base64,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' > </img>\nCreated in <span style='font-weight:600;margin-left:4px;'>Deepnote</span></a>",
      "metadata": {
        "created_in_deepnote_cell": true,
        "deepnote_cell_type": "markdown"
      }
    }
  ],
  "nbformat": 4,
  "nbformat_minor": 0,
  "metadata": {
    "deepnote_notebook_id": "08174667cfe44fa58cff97964aede0e8",
    "deepnote_execution_queue": []
  }
}