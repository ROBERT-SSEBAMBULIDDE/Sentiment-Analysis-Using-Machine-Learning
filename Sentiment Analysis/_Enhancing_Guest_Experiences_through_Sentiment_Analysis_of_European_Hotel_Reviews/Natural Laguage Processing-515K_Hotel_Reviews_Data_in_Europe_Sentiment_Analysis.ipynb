{
  "cells": [
    {
      "cell_type": "markdown",
      "source": "## 515K Hotel Reviews Data in Europe-Sentiment Analysis Using Machine Learning  ",
      "metadata": {
        "id": "7FhX5EBqYJ8n",
        "cell_id": "cbc47989969e42828a85e77d1d501cf5",
        "deepnote_cell_type": "markdown"
      },
      "block_group": "98d70cc96c454794b58228c71ea60735"
    },
    {
      "cell_type": "markdown",
      "source": "# Loading dataset from Google drive storage",
      "metadata": {
        "formattedRanges": [],
        "cell_id": "2acf564c05294a11ae3365c763ee397f",
        "deepnote_cell_type": "text-cell-h1"
      },
      "block_group": "aa3fce46f7d147c7955be3b12f4bbae9"
    },
    {
      "cell_type": "code",
      "source": "!ls /datasets/gdrive",
      "metadata": {
        "source_hash": "4eb8da1c",
        "execution_start": 1707823330333,
        "execution_millis": 816,
        "deepnote_to_be_reexecuted": false,
        "cell_id": "dbb6c7bd4f3f4043a5e30fbc7b98d292",
        "deepnote_cell_type": "code"
      },
      "outputs": [
        {
          "name": "stdout",
          "text": "'Academic Documents'\t  launch.bat\t        PROJECTS\n'Artticial Inteligence'  'Machine learning '   'Pyspark_Spark Certification'\n'Colab Notebooks'\t 'Personal work'\n Data\t\t\t 'Pride Microfinance'\n",
          "output_type": "stream"
        }
      ],
      "outputs_reference": null,
      "execution_count": 1,
      "block_group": "f9b11d470e59449d901f54cb2fb88b86"
    },
    {
      "cell_type": "code",
      "source": "#Reading dataset\n\nimport pandas as pd\nimport numpy as np\n\ndf = pd.read_csv('/datasets/gdrive/PROJECTS/Natural Laguage Processing/Sentiment Analysis/Hotel_Reviews.csv')\ndf.head()",
      "metadata": {
        "source_hash": "74411e0a",
        "execution_start": 1707823799724,
        "execution_millis": 12919,
        "deepnote_to_be_reexecuted": false,
        "cell_id": "66738ec379c441fcad9df4333d384424",
        "deepnote_cell_type": "code"
      },
      "outputs": [
        {
          "output_type": "execute_result",
          "execution_count": 4,
          "data": {
            "application/vnd.deepnote.dataframe.v3+json": {
              "column_count": 17,
              "row_count": 5,
              "columns": [
                {
                  "name": "Hotel_Address",
                  "dtype": "object",
                  "stats": {
                    "unique_count": 1,
                    "nan_count": 0,
                    "categories": [
                      {
                        "name": " s Gravesandestraat 55 Oost 1092 AA Amsterdam Netherlands",
                        "count": 5
                      }
                    ]
                  }
                },
                {
                  "name": "Additional_Number_of_Scoring",
                  "dtype": "int64",
                  "stats": {
                    "unique_count": 1,
                    "nan_count": 0,
                    "min": "194",
                    "max": "194",
                    "histogram": [
                      {
                        "bin_start": 193.5,
                        "bin_end": 193.6,
                        "count": 0
                      },
                      {
                        "bin_start": 193.6,
                        "bin_end": 193.7,
                        "count": 0
                      },
                      {
                        "bin_start": 193.7,
                        "bin_end": 193.8,
                        "count": 0
                      },
                      {
                        "bin_start": 193.8,
                        "bin_end": 193.9,
                        "count": 0
                      },
                      {
                        "bin_start": 193.9,
                        "bin_end": 194,
                        "count": 0
                      },
                      {
                        "bin_start": 194,
                        "bin_end": 194.1,
                        "count": 5
                      },
                      {
                        "bin_start": 194.1,
                        "bin_end": 194.2,
                        "count": 0
                      },
                      {
                        "bin_start": 194.2,
                        "bin_end": 194.3,
                        "count": 0
                      },
                      {
                        "bin_start": 194.3,
                        "bin_end": 194.4,
                        "count": 0
                      },
                      {
                        "bin_start": 194.4,
                        "bin_end": 194.5,
                        "count": 0
                      }
                    ]
                  }
                },
                {
                  "name": "Review_Date",
                  "dtype": "object",
                  "stats": {
                    "unique_count": 3,
                    "nan_count": 0,
                    "categories": [
                      {
                        "name": "8/3/2017",
                        "count": 2
                      },
                      {
                        "name": "7/31/2017",
                        "count": 2
                      },
                      {
                        "name": "7/24/2017",
                        "count": 1
                      }
                    ]
                  }
                },
                {
                  "name": "Average_Score",
                  "dtype": "float64",
                  "stats": {
                    "unique_count": 1,
                    "nan_count": 0,
                    "min": "7.7",
                    "max": "7.7",
                    "histogram": [
                      {
                        "bin_start": 7.2,
                        "bin_end": 7.3,
                        "count": 0
                      },
                      {
                        "bin_start": 7.3,
                        "bin_end": 7.4,
                        "count": 0
                      },
                      {
                        "bin_start": 7.4,
                        "bin_end": 7.5,
                        "count": 0
                      },
                      {
                        "bin_start": 7.5,
                        "bin_end": 7.6,
                        "count": 0
                      },
                      {
                        "bin_start": 7.6,
                        "bin_end": 7.699999999999999,
                        "count": 0
                      },
                      {
                        "bin_start": 7.699999999999999,
                        "bin_end": 7.8,
                        "count": 5
                      },
                      {
                        "bin_start": 7.8,
                        "bin_end": 7.8999999999999995,
                        "count": 0
                      },
                      {
                        "bin_start": 7.8999999999999995,
                        "bin_end": 7.999999999999999,
                        "count": 0
                      },
                      {
                        "bin_start": 7.999999999999999,
                        "bin_end": 8.1,
                        "count": 0
                      },
                      {
                        "bin_start": 8.1,
                        "bin_end": 8.2,
                        "count": 0
                      }
                    ]
                  }
                },
                {
                  "name": "Hotel_Name",
                  "dtype": "object",
                  "stats": {
                    "unique_count": 1,
                    "nan_count": 0,
                    "categories": [
                      {
                        "name": "Hotel Arena",
                        "count": 5
                      }
                    ]
                  }
                },
                {
                  "name": "Reviewer_Nationality",
                  "dtype": "object",
                  "stats": {
                    "unique_count": 5,
                    "nan_count": 0,
                    "categories": [
                      {
                        "name": " Russia ",
                        "count": 1
                      },
                      {
                        "name": " Ireland ",
                        "count": 1
                      },
                      {
                        "name": "3 others",
                        "count": 3
                      }
                    ]
                  }
                },
                {
                  "name": "Negative_Review",
                  "dtype": "object",
                  "stats": {
                    "unique_count": 5,
                    "nan_count": 0,
                    "categories": [
                      {
                        "name": " I am so angry that i made this post available via all possible sites i use when planing my trips so no one will make the mistake of booking this place I made my booking via booking com We stayed for 6 nights in this hotel from 11 to 17 July Upon arrival we were placed in a small room on the 2nd floor of the hotel It turned out that this was not the room we booked I had specially reserved the 2 level duplex room so that we would have a big windows and high ceilings The room itself was ok if you don t mind the broken window that can not be closed hello rain and a mini fridge that contained some sort of a bio weapon at least i guessed so by the smell of it I intimately asked to change the room and after explaining 2 times that i booked a duplex btw it costs the same as a simple double but got way more volume due to the high ceiling was offered a room but only the next day SO i had to check out the next day before 11 o clock in order to get the room i waned to Not the best way to begin your holiday So we had to wait till 13 00 in order to check in my new room what a wonderful waist of my time The room 023 i got was just as i wanted to peaceful internal garden view big window We were tired from waiting the room so we placed our belongings and rushed to the city In the evening it turned out that there was a constant noise in the room i guess it was made by vibrating vent tubes or something it was constant and annoying as hell AND it did not stop even at 2 am making it hard to fall asleep for me and my wife I have an audio recording that i can not attach here but if you want i can send it via e mail The next day the technician came but was not able to determine the cause of the disturbing sound so i was offered to change the room once again the hotel was fully booked and they had only 1 room left the one that was smaller but seems newer ",
                        "count": 1
                      },
                      {
                        "name": "No Negative",
                        "count": 1
                      },
                      {
                        "name": "3 others",
                        "count": 3
                      }
                    ]
                  }
                },
                {
                  "name": "Review_Total_Negative_Word_Counts",
                  "dtype": "int64",
                  "stats": {
                    "unique_count": 5,
                    "nan_count": 0,
                    "min": "0",
                    "max": "397",
                    "histogram": [
                      {
                        "bin_start": 0,
                        "bin_end": 39.7,
                        "count": 1
                      },
                      {
                        "bin_start": 39.7,
                        "bin_end": 79.4,
                        "count": 1
                      },
                      {
                        "bin_start": 79.4,
                        "bin_end": 119.10000000000001,
                        "count": 0
                      },
                      {
                        "bin_start": 119.10000000000001,
                        "bin_end": 158.8,
                        "count": 1
                      },
                      {
                        "bin_start": 158.8,
                        "bin_end": 198.5,
                        "count": 0
                      },
                      {
                        "bin_start": 198.5,
                        "bin_end": 238.20000000000002,
                        "count": 1
                      },
                      {
                        "bin_start": 238.20000000000002,
                        "bin_end": 277.90000000000003,
                        "count": 0
                      },
                      {
                        "bin_start": 277.90000000000003,
                        "bin_end": 317.6,
                        "count": 0
                      },
                      {
                        "bin_start": 317.6,
                        "bin_end": 357.3,
                        "count": 0
                      },
                      {
                        "bin_start": 357.3,
                        "bin_end": 397,
                        "count": 1
                      }
                    ]
                  }
                },
                {
                  "name": "Total_Number_of_Reviews",
                  "dtype": "int64",
                  "stats": {
                    "unique_count": 1,
                    "nan_count": 0,
                    "min": "1403",
                    "max": "1403",
                    "histogram": [
                      {
                        "bin_start": 1402.5,
                        "bin_end": 1402.6,
                        "count": 0
                      },
                      {
                        "bin_start": 1402.6,
                        "bin_end": 1402.7,
                        "count": 0
                      },
                      {
                        "bin_start": 1402.7,
                        "bin_end": 1402.8,
                        "count": 0
                      },
                      {
                        "bin_start": 1402.8,
                        "bin_end": 1402.9,
                        "count": 0
                      },
                      {
                        "bin_start": 1402.9,
                        "bin_end": 1403,
                        "count": 0
                      },
                      {
                        "bin_start": 1403,
                        "bin_end": 1403.1,
                        "count": 5
                      },
                      {
                        "bin_start": 1403.1,
                        "bin_end": 1403.2,
                        "count": 0
                      },
                      {
                        "bin_start": 1403.2,
                        "bin_end": 1403.3,
                        "count": 0
                      },
                      {
                        "bin_start": 1403.3,
                        "bin_end": 1403.4,
                        "count": 0
                      },
                      {
                        "bin_start": 1403.4,
                        "bin_end": 1403.5,
                        "count": 0
                      }
                    ]
                  }
                },
                {
                  "name": "Positive_Review",
                  "dtype": "object",
                  "stats": {
                    "unique_count": 5,
                    "nan_count": 0,
                    "categories": [
                      {
                        "name": " Only the park outside of the hotel was beautiful ",
                        "count": 1
                      },
                      {
                        "name": " No real complaints the hotel was great great location surroundings rooms amenities and service Two recommendations however firstly the staff upon check in are very confusing regarding deposit payments and the staff offer you upon checkout to refund your original payment and you can make a new one Bit confusing Secondly the on site restaurant is a bit lacking very well thought out and excellent quality food for anyone of a vegetarian or vegan background but even a wrap or toasted sandwich option would be great Aside from those minor minor things fantastic spot and will be back when i return to Amsterdam ",
                        "count": 1
                      },
                      {
                        "name": "3 others",
                        "count": 3
                      }
                    ]
                  }
                },
                {
                  "name": "Review_Total_Positive_Word_Counts",
                  "dtype": "int64",
                  "stats": {
                    "unique_count": 5,
                    "nan_count": 0,
                    "min": "8",
                    "max": "105",
                    "histogram": [
                      {
                        "bin_start": 8,
                        "bin_end": 17.7,
                        "count": 2
                      },
                      {
                        "bin_start": 17.7,
                        "bin_end": 27.4,
                        "count": 2
                      },
                      {
                        "bin_start": 27.4,
                        "bin_end": 37.099999999999994,
                        "count": 0
                      },
                      {
                        "bin_start": 37.099999999999994,
                        "bin_end": 46.8,
                        "count": 0
                      },
                      {
                        "bin_start": 46.8,
                        "bin_end": 56.5,
                        "count": 0
                      },
                      {
                        "bin_start": 56.5,
                        "bin_end": 66.19999999999999,
                        "count": 0
                      },
                      {
                        "bin_start": 66.19999999999999,
                        "bin_end": 75.89999999999999,
                        "count": 0
                      },
                      {
                        "bin_start": 75.89999999999999,
                        "bin_end": 85.6,
                        "count": 0
                      },
                      {
                        "bin_start": 85.6,
                        "bin_end": 95.3,
                        "count": 0
                      },
                      {
                        "bin_start": 95.3,
                        "bin_end": 105,
                        "count": 1
                      }
                    ]
                  }
                },
                {
                  "name": "Total_Number_of_Reviews_Reviewer_Has_Given",
                  "dtype": "int64",
                  "stats": {
                    "unique_count": 4,
                    "nan_count": 0,
                    "min": "1",
                    "max": "9",
                    "histogram": [
                      {
                        "bin_start": 1,
                        "bin_end": 1.8,
                        "count": 1
                      },
                      {
                        "bin_start": 1.8,
                        "bin_end": 2.6,
                        "count": 0
                      },
                      {
                        "bin_start": 2.6,
                        "bin_end": 3.4000000000000004,
                        "count": 1
                      },
                      {
                        "bin_start": 3.4000000000000004,
                        "bin_end": 4.2,
                        "count": 0
                      },
                      {
                        "bin_start": 4.2,
                        "bin_end": 5,
                        "count": 0
                      },
                      {
                        "bin_start": 5,
                        "bin_end": 5.800000000000001,
                        "count": 0
                      },
                      {
                        "bin_start": 5.800000000000001,
                        "bin_end": 6.6000000000000005,
                        "count": 0
                      },
                      {
                        "bin_start": 6.6000000000000005,
                        "bin_end": 7.4,
                        "count": 2
                      },
                      {
                        "bin_start": 7.4,
                        "bin_end": 8.2,
                        "count": 0
                      },
                      {
                        "bin_start": 8.2,
                        "bin_end": 9,
                        "count": 1
                      }
                    ]
                  }
                },
                {
                  "name": "Reviewer_Score",
                  "dtype": "float64",
                  "stats": {
                    "unique_count": 5,
                    "nan_count": 0,
                    "min": "2.9",
                    "max": "7.5",
                    "histogram": [
                      {
                        "bin_start": 2.9,
                        "bin_end": 3.36,
                        "count": 1
                      },
                      {
                        "bin_start": 3.36,
                        "bin_end": 3.82,
                        "count": 1
                      },
                      {
                        "bin_start": 3.82,
                        "bin_end": 4.279999999999999,
                        "count": 0
                      },
                      {
                        "bin_start": 4.279999999999999,
                        "bin_end": 4.74,
                        "count": 0
                      },
                      {
                        "bin_start": 4.74,
                        "bin_end": 5.199999999999999,
                        "count": 0
                      },
                      {
                        "bin_start": 5.199999999999999,
                        "bin_end": 5.66,
                        "count": 0
                      },
                      {
                        "bin_start": 5.66,
                        "bin_end": 6.119999999999999,
                        "count": 0
                      },
                      {
                        "bin_start": 6.119999999999999,
                        "bin_end": 6.58,
                        "count": 0
                      },
                      {
                        "bin_start": 6.58,
                        "bin_end": 7.039999999999999,
                        "count": 1
                      },
                      {
                        "bin_start": 7.039999999999999,
                        "bin_end": 7.5,
                        "count": 2
                      }
                    ]
                  }
                },
                {
                  "name": "Tags",
                  "dtype": "object",
                  "stats": {
                    "unique_count": 5,
                    "nan_count": 0,
                    "categories": [
                      {
                        "name": "[' Leisure trip ', ' Couple ', ' Duplex Double Room ', ' Stayed 6 nights ']",
                        "count": 1
                      },
                      {
                        "name": "[' Leisure trip ', ' Couple ', ' Duplex Double Room ', ' Stayed 4 nights ']",
                        "count": 1
                      },
                      {
                        "name": "3 others",
                        "count": 3
                      }
                    ]
                  }
                },
                {
                  "name": "days_since_review",
                  "dtype": "object",
                  "stats": {
                    "unique_count": 3,
                    "nan_count": 0,
                    "categories": [
                      {
                        "name": "0 days",
                        "count": 2
                      },
                      {
                        "name": "3 days",
                        "count": 2
                      },
                      {
                        "name": "10 days",
                        "count": 1
                      }
                    ]
                  }
                },
                {
                  "name": "lat",
                  "dtype": "float64",
                  "stats": {
                    "unique_count": 1,
                    "nan_count": 0,
                    "min": "52.3605759",
                    "max": "52.3605759",
                    "histogram": [
                      {
                        "bin_start": 51.8605759,
                        "bin_end": 51.9605759,
                        "count": 0
                      },
                      {
                        "bin_start": 51.9605759,
                        "bin_end": 52.0605759,
                        "count": 0
                      },
                      {
                        "bin_start": 52.0605759,
                        "bin_end": 52.1605759,
                        "count": 0
                      },
                      {
                        "bin_start": 52.1605759,
                        "bin_end": 52.2605759,
                        "count": 0
                      },
                      {
                        "bin_start": 52.2605759,
                        "bin_end": 52.3605759,
                        "count": 0
                      },
                      {
                        "bin_start": 52.3605759,
                        "bin_end": 52.4605759,
                        "count": 5
                      },
                      {
                        "bin_start": 52.4605759,
                        "bin_end": 52.5605759,
                        "count": 0
                      },
                      {
                        "bin_start": 52.5605759,
                        "bin_end": 52.6605759,
                        "count": 0
                      },
                      {
                        "bin_start": 52.6605759,
                        "bin_end": 52.7605759,
                        "count": 0
                      },
                      {
                        "bin_start": 52.7605759,
                        "bin_end": 52.8605759,
                        "count": 0
                      }
                    ]
                  }
                },
                {
                  "name": "lng",
                  "dtype": "float64",
                  "stats": {
                    "unique_count": 1,
                    "nan_count": 0,
                    "min": "4.9159683",
                    "max": "4.9159683",
                    "histogram": [
                      {
                        "bin_start": 4.4159683,
                        "bin_end": 4.5159683,
                        "count": 0
                      },
                      {
                        "bin_start": 4.5159683,
                        "bin_end": 4.6159683000000005,
                        "count": 0
                      },
                      {
                        "bin_start": 4.6159683000000005,
                        "bin_end": 4.7159683,
                        "count": 0
                      },
                      {
                        "bin_start": 4.7159683,
                        "bin_end": 4.815968300000001,
                        "count": 0
                      },
                      {
                        "bin_start": 4.815968300000001,
                        "bin_end": 4.9159683,
                        "count": 0
                      },
                      {
                        "bin_start": 4.9159683,
                        "bin_end": 5.015968300000001,
                        "count": 5
                      },
                      {
                        "bin_start": 5.015968300000001,
                        "bin_end": 5.1159683000000005,
                        "count": 0
                      },
                      {
                        "bin_start": 5.1159683000000005,
                        "bin_end": 5.2159683,
                        "count": 0
                      },
                      {
                        "bin_start": 5.2159683,
                        "bin_end": 5.315968300000001,
                        "count": 0
                      },
                      {
                        "bin_start": 5.315968300000001,
                        "bin_end": 5.4159683,
                        "count": 0
                      }
                    ]
                  }
                },
                {
                  "name": "_deepnote_index_column",
                  "dtype": "int64"
                }
              ],
              "rows": [
                {
                  "Hotel_Address": " s Gravesandestraat 55 Oost 1092 AA Amsterdam Netherlands",
                  "Additional_Number_of_Scoring": 194,
                  "Review_Date": "8/3/2017",
                  "Average_Score": 7.7,
                  "Hotel_Name": "Hotel Arena",
                  "Reviewer_Nationality": " Russia ",
                  "Negative_Review": " I am so angry that i made this post available via all possible sites i use when planing my trips so no one will make the mistake of booking this place I made my booking via booking com We stayed for 6 nights in this hotel from 11 to 17 July Upon arrival we were placed in a small room on the 2nd floor of the hotel It turned out that this was not the room we booked I had specially reserved the 2 level duplex room so that we would have a big windows and high ceilings The room itself was ok if you don t mind the broken window that can not be closed hello rain and a mini fridge that contained some sort of a bio weapon at least i guessed so by the smell of it I intimately asked to change the room and after explaining 2 times that i booked a duplex btw it costs the same as a simple double but got way more volume due to the high ceiling was offered a room but only the next day SO i had to check out the next day before 11 o clock in order to get the room i waned to Not the best way to begin y…",
                  "Review_Total_Negative_Word_Counts": 397,
                  "Total_Number_of_Reviews": 1403,
                  "Positive_Review": " Only the park outside of the hotel was beautiful ",
                  "Review_Total_Positive_Word_Counts": 11,
                  "Total_Number_of_Reviews_Reviewer_Has_Given": 7,
                  "Reviewer_Score": 2.9,
                  "Tags": "[' Leisure trip ', ' Couple ', ' Duplex Double Room ', ' Stayed 6 nights ']",
                  "days_since_review": "0 days",
                  "lat": 52.3605759,
                  "lng": 4.9159683,
                  "_deepnote_index_column": 0
                },
                {
                  "Hotel_Address": " s Gravesandestraat 55 Oost 1092 AA Amsterdam Netherlands",
                  "Additional_Number_of_Scoring": 194,
                  "Review_Date": "8/3/2017",
                  "Average_Score": 7.7,
                  "Hotel_Name": "Hotel Arena",
                  "Reviewer_Nationality": " Ireland ",
                  "Negative_Review": "No Negative",
                  "Review_Total_Negative_Word_Counts": 0,
                  "Total_Number_of_Reviews": 1403,
                  "Positive_Review": " No real complaints the hotel was great great location surroundings rooms amenities and service Two recommendations however firstly the staff upon check in are very confusing regarding deposit payments and the staff offer you upon checkout to refund your original payment and you can make a new one Bit confusing Secondly the on site restaurant is a bit lacking very well thought out and excellent quality food for anyone of a vegetarian or vegan background but even a wrap or toasted sandwich option would be great Aside from those minor minor things fantastic spot and will be back when i return to Amsterdam ",
                  "Review_Total_Positive_Word_Counts": 105,
                  "Total_Number_of_Reviews_Reviewer_Has_Given": 7,
                  "Reviewer_Score": 7.5,
                  "Tags": "[' Leisure trip ', ' Couple ', ' Duplex Double Room ', ' Stayed 4 nights ']",
                  "days_since_review": "0 days",
                  "lat": 52.3605759,
                  "lng": 4.9159683,
                  "_deepnote_index_column": 1
                },
                {
                  "Hotel_Address": " s Gravesandestraat 55 Oost 1092 AA Amsterdam Netherlands",
                  "Additional_Number_of_Scoring": 194,
                  "Review_Date": "7/31/2017",
                  "Average_Score": 7.7,
                  "Hotel_Name": "Hotel Arena",
                  "Reviewer_Nationality": " Australia ",
                  "Negative_Review": " Rooms are nice but for elderly a bit difficult as most rooms are two story with narrow steps So ask for single level Inside the rooms are very very basic just tea coffee and boiler and no bar empty fridge ",
                  "Review_Total_Negative_Word_Counts": 42,
                  "Total_Number_of_Reviews": 1403,
                  "Positive_Review": " Location was good and staff were ok It is cute hotel the breakfast range is nice Will go back ",
                  "Review_Total_Positive_Word_Counts": 21,
                  "Total_Number_of_Reviews_Reviewer_Has_Given": 9,
                  "Reviewer_Score": 7.1,
                  "Tags": "[' Leisure trip ', ' Family with young children ', ' Duplex Double Room ', ' Stayed 3 nights ', ' Submitted from a mobile device ']",
                  "days_since_review": "3 days",
                  "lat": 52.3605759,
                  "lng": 4.9159683,
                  "_deepnote_index_column": 2
                },
                {
                  "Hotel_Address": " s Gravesandestraat 55 Oost 1092 AA Amsterdam Netherlands",
                  "Additional_Number_of_Scoring": 194,
                  "Review_Date": "7/31/2017",
                  "Average_Score": 7.7,
                  "Hotel_Name": "Hotel Arena",
                  "Reviewer_Nationality": " United Kingdom ",
                  "Negative_Review": " My room was dirty and I was afraid to walk barefoot on the floor which looked as if it was not cleaned in weeks White furniture which looked nice in pictures was dirty too and the door looked like it was attacked by an angry dog My shower drain was clogged and the staff did not respond to my request to clean it On a day with heavy rainfall a pretty common occurrence in Amsterdam the roof in my room was leaking luckily not on the bed you could also see signs of earlier water damage I also saw insects running on the floor Overall the second floor of the property looked dirty and badly kept On top of all of this a repairman who came to fix something in a room next door at midnight was very noisy as were many of the guests I understand the challenges of running a hotel in an old building but this negligence is inconsistent with prices demanded by the hotel On the last night after I complained about water damage the night shift manager offered to move me to a different room but that offer…",
                  "Review_Total_Negative_Word_Counts": 210,
                  "Total_Number_of_Reviews": 1403,
                  "Positive_Review": " Great location in nice surroundings the bar and restaurant are nice and have a lovely outdoor area The building also has quite some character ",
                  "Review_Total_Positive_Word_Counts": 26,
                  "Total_Number_of_Reviews_Reviewer_Has_Given": 1,
                  "Reviewer_Score": 3.8,
                  "Tags": "[' Leisure trip ', ' Solo traveler ', ' Duplex Double Room ', ' Stayed 3 nights ']",
                  "days_since_review": "3 days",
                  "lat": 52.3605759,
                  "lng": 4.9159683,
                  "_deepnote_index_column": 3
                },
                {
                  "Hotel_Address": " s Gravesandestraat 55 Oost 1092 AA Amsterdam Netherlands",
                  "Additional_Number_of_Scoring": 194,
                  "Review_Date": "7/24/2017",
                  "Average_Score": 7.7,
                  "Hotel_Name": "Hotel Arena",
                  "Reviewer_Nationality": " New Zealand ",
                  "Negative_Review": " You When I booked with your company on line you showed me pictures of a room I thought I was getting and paying for and then when we arrived that s room was booked and the staff told me we could only book the villa suite theough them directly Which was completely false advertising After being there we realised that you have grouped lots of rooms on the photos together leaving me the consumer confused and extreamly disgruntled especially as its my my wife s 40th birthday present Please make your website more clear through pricing and photos as again I didn t really know what I was paying for and how much it had wnded up being Your photos told me I was getting something I wasn t Not happy and won t be using you again ",
                  "Review_Total_Negative_Word_Counts": 140,
                  "Total_Number_of_Reviews": 1403,
                  "Positive_Review": " Amazing location and building Romantic setting ",
                  "Review_Total_Positive_Word_Counts": 8,
                  "Total_Number_of_Reviews_Reviewer_Has_Given": 3,
                  "Reviewer_Score": 6.7,
                  "Tags": "[' Leisure trip ', ' Couple ', ' Suite ', ' Stayed 2 nights ', ' Submitted from a mobile device ']",
                  "days_since_review": "10 days",
                  "lat": 52.3605759,
                  "lng": 4.9159683,
                  "_deepnote_index_column": 4
                }
              ]
            },
            "text/plain": "                                       Hotel_Address  \\\n0   s Gravesandestraat 55 Oost 1092 AA Amsterdam ...   \n1   s Gravesandestraat 55 Oost 1092 AA Amsterdam ...   \n2   s Gravesandestraat 55 Oost 1092 AA Amsterdam ...   \n3   s Gravesandestraat 55 Oost 1092 AA Amsterdam ...   \n4   s Gravesandestraat 55 Oost 1092 AA Amsterdam ...   \n\n   Additional_Number_of_Scoring Review_Date  Average_Score   Hotel_Name  \\\n0                           194    8/3/2017            7.7  Hotel Arena   \n1                           194    8/3/2017            7.7  Hotel Arena   \n2                           194   7/31/2017            7.7  Hotel Arena   \n3                           194   7/31/2017            7.7  Hotel Arena   \n4                           194   7/24/2017            7.7  Hotel Arena   \n\n  Reviewer_Nationality                                    Negative_Review  \\\n0              Russia    I am so angry that i made this post available...   \n1             Ireland                                         No Negative   \n2           Australia    Rooms are nice but for elderly a bit difficul...   \n3      United Kingdom    My room was dirty and I was afraid to walk ba...   \n4         New Zealand    You When I booked with your company on line y...   \n\n   Review_Total_Negative_Word_Counts  Total_Number_of_Reviews  \\\n0                                397                     1403   \n1                                  0                     1403   \n2                                 42                     1403   \n3                                210                     1403   \n4                                140                     1403   \n\n                                     Positive_Review  \\\n0   Only the park outside of the hotel was beauti...   \n1   No real complaints the hotel was great great ...   \n2   Location was good and staff were ok It is cut...   \n3   Great location in nice surroundings the bar a...   \n4    Amazing location and building Romantic setting    \n\n   Review_Total_Positive_Word_Counts  \\\n0                                 11   \n1                                105   \n2                                 21   \n3                                 26   \n4                                  8   \n\n   Total_Number_of_Reviews_Reviewer_Has_Given  Reviewer_Score  \\\n0                                           7             2.9   \n1                                           7             7.5   \n2                                           9             7.1   \n3                                           1             3.8   \n4                                           3             6.7   \n\n                                                Tags days_since_review  \\\n0  [' Leisure trip ', ' Couple ', ' Duplex Double...            0 days   \n1  [' Leisure trip ', ' Couple ', ' Duplex Double...            0 days   \n2  [' Leisure trip ', ' Family with young childre...            3 days   \n3  [' Leisure trip ', ' Solo traveler ', ' Duplex...            3 days   \n4  [' Leisure trip ', ' Couple ', ' Suite ', ' St...           10 days   \n\n         lat       lng  \n0  52.360576  4.915968  \n1  52.360576  4.915968  \n2  52.360576  4.915968  \n3  52.360576  4.915968  \n4  52.360576  4.915968  ",
            "text/html": "<div>\n<style scoped>\n    .dataframe tbody tr th:only-of-type {\n        vertical-align: middle;\n    }\n\n    .dataframe tbody tr th {\n        vertical-align: top;\n    }\n\n    .dataframe thead th {\n        text-align: right;\n    }\n</style>\n<table border=\"1\" class=\"dataframe\">\n  <thead>\n    <tr style=\"text-align: right;\">\n      <th></th>\n      <th>Hotel_Address</th>\n      <th>Additional_Number_of_Scoring</th>\n      <th>Review_Date</th>\n      <th>Average_Score</th>\n      <th>Hotel_Name</th>\n      <th>Reviewer_Nationality</th>\n      <th>Negative_Review</th>\n      <th>Review_Total_Negative_Word_Counts</th>\n      <th>Total_Number_of_Reviews</th>\n      <th>Positive_Review</th>\n      <th>Review_Total_Positive_Word_Counts</th>\n      <th>Total_Number_of_Reviews_Reviewer_Has_Given</th>\n      <th>Reviewer_Score</th>\n      <th>Tags</th>\n      <th>days_since_review</th>\n      <th>lat</th>\n      <th>lng</th>\n    </tr>\n  </thead>\n  <tbody>\n    <tr>\n      <th>0</th>\n      <td>s Gravesandestraat 55 Oost 1092 AA Amsterdam ...</td>\n      <td>194</td>\n      <td>8/3/2017</td>\n      <td>7.7</td>\n      <td>Hotel Arena</td>\n      <td>Russia</td>\n      <td>I am so angry that i made this post available...</td>\n      <td>397</td>\n      <td>1403</td>\n      <td>Only the park outside of the hotel was beauti...</td>\n      <td>11</td>\n      <td>7</td>\n      <td>2.9</td>\n      <td>[' Leisure trip ', ' Couple ', ' Duplex Double...</td>\n      <td>0 days</td>\n      <td>52.360576</td>\n      <td>4.915968</td>\n    </tr>\n    <tr>\n      <th>1</th>\n      <td>s Gravesandestraat 55 Oost 1092 AA Amsterdam ...</td>\n      <td>194</td>\n      <td>8/3/2017</td>\n      <td>7.7</td>\n      <td>Hotel Arena</td>\n      <td>Ireland</td>\n      <td>No Negative</td>\n      <td>0</td>\n      <td>1403</td>\n      <td>No real complaints the hotel was great great ...</td>\n      <td>105</td>\n      <td>7</td>\n      <td>7.5</td>\n      <td>[' Leisure trip ', ' Couple ', ' Duplex Double...</td>\n      <td>0 days</td>\n      <td>52.360576</td>\n      <td>4.915968</td>\n    </tr>\n    <tr>\n      <th>2</th>\n      <td>s Gravesandestraat 55 Oost 1092 AA Amsterdam ...</td>\n      <td>194</td>\n      <td>7/31/2017</td>\n      <td>7.7</td>\n      <td>Hotel Arena</td>\n      <td>Australia</td>\n      <td>Rooms are nice but for elderly a bit difficul...</td>\n      <td>42</td>\n      <td>1403</td>\n      <td>Location was good and staff were ok It is cut...</td>\n      <td>21</td>\n      <td>9</td>\n      <td>7.1</td>\n      <td>[' Leisure trip ', ' Family with young childre...</td>\n      <td>3 days</td>\n      <td>52.360576</td>\n      <td>4.915968</td>\n    </tr>\n    <tr>\n      <th>3</th>\n      <td>s Gravesandestraat 55 Oost 1092 AA Amsterdam ...</td>\n      <td>194</td>\n      <td>7/31/2017</td>\n      <td>7.7</td>\n      <td>Hotel Arena</td>\n      <td>United Kingdom</td>\n      <td>My room was dirty and I was afraid to walk ba...</td>\n      <td>210</td>\n      <td>1403</td>\n      <td>Great location in nice surroundings the bar a...</td>\n      <td>26</td>\n      <td>1</td>\n      <td>3.8</td>\n      <td>[' Leisure trip ', ' Solo traveler ', ' Duplex...</td>\n      <td>3 days</td>\n      <td>52.360576</td>\n      <td>4.915968</td>\n    </tr>\n    <tr>\n      <th>4</th>\n      <td>s Gravesandestraat 55 Oost 1092 AA Amsterdam ...</td>\n      <td>194</td>\n      <td>7/24/2017</td>\n      <td>7.7</td>\n      <td>Hotel Arena</td>\n      <td>New Zealand</td>\n      <td>You When I booked with your company on line y...</td>\n      <td>140</td>\n      <td>1403</td>\n      <td>Amazing location and building Romantic setting</td>\n      <td>8</td>\n      <td>3</td>\n      <td>6.7</td>\n      <td>[' Leisure trip ', ' Couple ', ' Suite ', ' St...</td>\n      <td>10 days</td>\n      <td>52.360576</td>\n      <td>4.915968</td>\n    </tr>\n  </tbody>\n</table>\n</div>"
          },
          "metadata": {}
        }
      ],
      "outputs_reference": null,
      "execution_count": 4,
      "block_group": "f0f3533bcb4a4a0990606f36ef0ec4b8"
    },
    {
      "cell_type": "code",
      "source": "",
      "metadata": {
        "cell_id": "12735b605eaa4dd8ad78d37b2b2c450d",
        "deepnote_cell_type": "code"
      },
      "outputs": [],
      "outputs_reference": null,
      "execution_count": null,
      "block_group": "9dbc22b3bab04aba8d9a3d096456b462"
    },
    {
      "cell_type": "markdown",
      "source": "<a style='text-decoration:none;line-height:16px;display:flex;color:#5B5B62;padding:10px;justify-content:end;' href='https://deepnote.com?utm_source=created-in-deepnote-cell&projectId=43631d8c-7d99-489c-9a08-e61cd5c0de2c' target=\"_blank\">\n<img alt='Created in deepnote.com' style='display:inline;max-height:16px;margin:0px;margin-right:7.5px;' src='data:image/svg+xml;base64,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' > </img>\nCreated in <span style='font-weight:600;margin-left:4px;'>Deepnote</span></a>",
      "metadata": {
        "created_in_deepnote_cell": true,
        "deepnote_cell_type": "markdown"
      }
    }
  ],
  "nbformat": 4,
  "nbformat_minor": 0,
  "metadata": {
    "deepnote_persisted_session": {
      "createdAt": "2024-02-13T09:22:39.491Z"
    },
    "deepnote_notebook_id": "08174667cfe44fa58cff97964aede0e8",
    "deepnote_execution_queue": []
  }
}