{
  "nbformat": 4,
  "nbformat_minor": 0,
  "metadata": {
    "colab": {
      "provenance": [],
      "authorship_tag": "ABX9TyNDUpll10w9x1bmFpT9fYUY",
      "include_colab_link": true
    },
    "kernelspec": {
      "name": "python3",
      "display_name": "Python 3"
    },
    "language_info": {
      "name": "python"
    },
    "accelerator": "TPU"
  },
  "cells": [
    {
      "cell_type": "markdown",
      "metadata": {
        "id": "view-in-github",
        "colab_type": "text"
      },
      "source": [
        "<a href=\"https://colab.research.google.com/github/ROBERT-SSEBAMBULIDDE/Sentiment-Analysis-Using-Machine-Learning/blob/main/515K_Hotel_Reviews_Data_in_Europe_Sentiment_Analysis.ipynb\" target=\"_parent\"><img src=\"https://colab.research.google.com/assets/colab-badge.svg\" alt=\"Open In Colab\"/></a>"
      ]
    },
    {
      "cell_type": "markdown",
      "source": [
        "# **515K Hotel Reviews Data in Europe-Sentiment Analysis(Machine Learning)**"
      ],
      "metadata": {
        "id": "7FhX5EBqYJ8n"
      }
    },
    {
      "cell_type": "markdown",
      "source": [
        "The data was scraped from Booking.com.This dataset contains 515,000 customer reviews and scoring of 1493 luxury hotels across Europe"
      ],
      "metadata": {
        "id": "57gbOKfjcofA"
      }
    },
    {
      "cell_type": "code",
      "source": [
        "# @title Load Data From Google Drive\n",
        "\n"
      ],
      "metadata": {
        "id": "LdYZ_gYaeuJK"
      },
      "execution_count": null,
      "outputs": []
    },
    {
      "cell_type": "code",
      "source": [
        "# @title Explatory Data Ananalysis  Of File\n"
      ],
      "metadata": {
        "id": "OfYGkyB1fHF9"
      },
      "execution_count": null,
      "outputs": []
    },
    {
      "cell_type": "code",
      "source": [
        "# @title Preprocessing of the Dataset\n"
      ],
      "metadata": {
        "id": "7bC4BBmEfaDv"
      },
      "execution_count": null,
      "outputs": []
    },
    {
      "cell_type": "code",
      "source": [
        "# @title Feature Extraction or Engineering\n"
      ],
      "metadata": {
        "id": "xqpdCofnfsOQ"
      },
      "execution_count": null,
      "outputs": []
    },
    {
      "cell_type": "code",
      "source": [
        "# @title Train & Test Split of dataset\n"
      ],
      "metadata": {
        "id": "zxhnGPdMguWm"
      },
      "execution_count": null,
      "outputs": []
    },
    {
      "cell_type": "code",
      "source": [
        "# @title Save CSV  Copy of Train and Test dataset\n"
      ],
      "metadata": {
        "id": "iEZAcF4cozbB"
      },
      "execution_count": null,
      "outputs": []
    },
    {
      "cell_type": "code",
      "source": [
        "# @title Model Selection & Training\n"
      ],
      "metadata": {
        "id": "pyAcbJYOg9pX"
      },
      "execution_count": null,
      "outputs": []
    },
    {
      "cell_type": "code",
      "source": [
        "# @title Prediction of Model on Testdata\n"
      ],
      "metadata": {
        "id": "PhD1MYBHhRPJ"
      },
      "execution_count": null,
      "outputs": []
    },
    {
      "cell_type": "code",
      "source": [
        "# @title Evaluation of the Model\n"
      ],
      "metadata": {
        "id": "775G8YN4hfNJ"
      },
      "execution_count": null,
      "outputs": []
    }
  ]
}