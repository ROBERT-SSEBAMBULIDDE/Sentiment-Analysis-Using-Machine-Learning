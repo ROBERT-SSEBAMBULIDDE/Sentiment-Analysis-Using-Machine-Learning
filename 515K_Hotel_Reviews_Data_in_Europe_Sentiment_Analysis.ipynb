{
  "nbformat": 4,
  "nbformat_minor": 0,
  "metadata": {
    "colab": {
      "provenance": [],
      "toc_visible": true,
      "mount_file_id": "1up80YzEh0-Hf6cgIob3voi2NHffaiEr7",
      "authorship_tag": "ABX9TyNnrZl39CL6/gRlpdYVZtbz",
      "include_colab_link": true
    },
    "kernelspec": {
      "name": "python3",
      "display_name": "Python 3"
    },
    "language_info": {
      "name": "python"
    },
    "accelerator": "TPU"
  },
  "cells": [
    {
      "cell_type": "markdown",
      "metadata": {
        "id": "view-in-github",
        "colab_type": "text"
      },
      "source": [
        "<a href=\"https://colab.research.google.com/github/ROBERT-SSEBAMBULIDDE/Sentiment-Analysis-Using-Machine-Learning/blob/main/515K_Hotel_Reviews_Data_in_Europe_Sentiment_Analysis.ipynb\" target=\"_parent\"><img src=\"https://colab.research.google.com/assets/colab-badge.svg\" alt=\"Open In Colab\"/></a>"
      ]
    },
    {
      "cell_type": "markdown",
      "source": [
        "## 515K Hotel Reviews Data in Europe-Sentiment Analysis Using Machine Learning  "
      ],
      "metadata": {
        "id": "7FhX5EBqYJ8n"
      }
    },
    {
      "cell_type": "markdown",
      "source": [
        "The data was scraped from Booking.com.This dataset contains 515,000 customer reviews and scoring of 1493 luxury hotels across Europe"
      ],
      "metadata": {
        "id": "57gbOKfjcofA"
      }
    },
    {
      "cell_type": "code",
      "source": [
        "# @title Unzipping the Datafile From Google Drive and saving CSV\n",
        "#unzip data files\n",
        "!unzip '//content/drive/MyDrive/PROJECTS/Natural Laguage Processing/Sentiment Analysis/515K Hotel Reviews Data in Europe.zip'\n",
        "#save unziped files to google drive\n",
        "!cp -r '/content/515K Hotel Reviews Data in Europe' '/content/drive/MyDrive/PROJECTS/Natural Laguage Processing/Sentiment Analysis'"
      ],
      "metadata": {
        "id": "LdYZ_gYaeuJK"
      },
      "execution_count": null,
      "outputs": []
    },
    {
      "cell_type": "code",
      "source": [
        "# @title Loading the Dataset\n",
        "#load dataset\n",
        "import pandas as pd\n",
        "#load dataset\n",
        "data = pd.read_csv('/content/drive/MyDrive/PROJECTS/Natural Laguage Processing/Sentiment Analysis/Hotel_Reviews.csv')\n",
        "data.head(3)"
      ],
      "metadata": {
        "id": "8luARzJXxspZ"
      },
      "execution_count": null,
      "outputs": []
    },
    {
      "cell_type": "code",
      "source": [
        "# @title Explatory Data Ananalysis  Of File\n",
        "data.columns\n"
      ],
      "metadata": {
        "id": "OfYGkyB1fHF9",
        "colab": {
          "base_uri": "https://localhost:8080/"
        },
        "outputId": "5b42fb74-f23f-47f5-8eac-6bf1ef76e4fa"
      },
      "execution_count": null,
      "outputs": [
        {
          "output_type": "execute_result",
          "data": {
            "text/plain": [
              "Index(['Hotel_Address', 'Additional_Number_of_Scoring', 'Review_Date',\n",
              "       'Average_Score', 'Hotel_Name', 'Reviewer_Nationality',\n",
              "       'Negative_Review', 'Review_Total_Negative_Word_Counts',\n",
              "       'Total_Number_of_Reviews', 'Positive_Review',\n",
              "       'Review_Total_Positive_Word_Counts',\n",
              "       'Total_Number_of_Reviews_Reviewer_Has_Given', 'Reviewer_Score', 'Tags',\n",
              "       'days_since_review', 'lat', 'lng'],\n",
              "      dtype='object')"
            ]
          },
          "metadata": {},
          "execution_count": 3
        }
      ]
    },
    {
      "cell_type": "code",
      "source": [
        "# @title  Missing values\n",
        "\n",
        "data.isnull().sum()\n"
      ],
      "metadata": {
        "id": "4HBrW5L-E1iR"
      },
      "execution_count": null,
      "outputs": []
    },
    {
      "cell_type": "code",
      "source": [
        "# @title Preprocessing of the Dataset\n"
      ],
      "metadata": {
        "id": "7bC4BBmEfaDv"
      },
      "execution_count": null,
      "outputs": []
    },
    {
      "cell_type": "markdown",
      "source": [
        "Text preprocessing shall involve steps like before we apply the algorithms;\n",
        "Text cleaning(removing puctuation,making all words lower cases,removing url if any,removing spaces)\n",
        "\n",
        "\n",
        "1.  Tokenization of sentences,removing stop-word,stemming and lemmetization of tokens)\n",
        "\n",
        "\n",
        "\n",
        "\n",
        "\n",
        "\n",
        "\n",
        "\n"
      ],
      "metadata": {
        "id": "dgcRE1iT9qj7"
      }
    },
    {
      "cell_type": "code",
      "source": [
        "# @title Feature Extraction or Engineering\n"
      ],
      "metadata": {
        "id": "xqpdCofnfsOQ"
      },
      "execution_count": null,
      "outputs": []
    },
    {
      "cell_type": "markdown",
      "source": [
        "This will involve converting of text into feature vector since machine learning models understand numbers and not text.We shall consinder using the most commom method of BAG OF WORDS or TF-IDF methods."
      ],
      "metadata": {
        "id": "GPUBQctb_bIh"
      }
    },
    {
      "cell_type": "code",
      "source": [
        "# @title Train & Test Split of dataset\n"
      ],
      "metadata": {
        "id": "zxhnGPdMguWm"
      },
      "execution_count": null,
      "outputs": []
    },
    {
      "cell_type": "markdown",
      "source": [
        "The data will be splited into  training and testing sets.The training set is used  to train the model and the testing set is used to evaluate the performance of the model.The model is trained on the training set by estimating the probabilities of each feature given the class.This will involve calculating the prior probabilities of each class and the likelihood of each feature given each class."
      ],
      "metadata": {
        "id": "rsEI6L17AlJq"
      }
    },
    {
      "cell_type": "code",
      "source": [
        "# @title Save CSV  Copy of Train and Test dataset\n"
      ],
      "metadata": {
        "id": "iEZAcF4cozbB"
      },
      "execution_count": null,
      "outputs": []
    },
    {
      "cell_type": "code",
      "source": [
        "# @title Model Selection & Training\n"
      ],
      "metadata": {
        "id": "pyAcbJYOg9pX"
      },
      "execution_count": null,
      "outputs": []
    },
    {
      "cell_type": "markdown",
      "source": [
        "The Naive Bayes Classifier using the Multinomial Naive Bayes(MNB) will be used and trained on the data"
      ],
      "metadata": {
        "id": "5ZT915naEBQH"
      }
    },
    {
      "cell_type": "code",
      "source": [
        "# @title Evaluation of the Model on Training Data\n"
      ],
      "metadata": {
        "id": "775G8YN4hfNJ"
      },
      "execution_count": null,
      "outputs": []
    },
    {
      "cell_type": "markdown",
      "source": [
        "The performance of the model is evaluated using metrics such as  accuracy,precision,recall,and F1 score on the test data"
      ],
      "metadata": {
        "id": "AGe8KaaPFtjo"
      }
    },
    {
      "cell_type": "code",
      "source": [
        "# @title Evaluation  of Model on Test data\n"
      ],
      "metadata": {
        "id": "PhD1MYBHhRPJ"
      },
      "execution_count": null,
      "outputs": []
    },
    {
      "cell_type": "markdown",
      "source": [
        "After the model is trained will be used to make prediction on  new text data.The new text data is preprocessed  and transformed into feature vectors which is then applied to the traine model to make prediction of the class labels."
      ],
      "metadata": {
        "id": "3NYyc-UaEuXJ"
      }
    },
    {
      "cell_type": "code",
      "source": [
        "# @title Saving the Model for Future Use\n"
      ],
      "metadata": {
        "id": "FA77CXQJA1do"
      },
      "execution_count": null,
      "outputs": []
    },
    {
      "cell_type": "code",
      "source": [
        "# @title Loading the Saved Model to Apply it on New data\n"
      ],
      "metadata": {
        "id": "y586_a05BFIZ"
      },
      "execution_count": null,
      "outputs": []
    }
  ]
}